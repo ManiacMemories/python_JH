{
 "cells": [
  {
   "cell_type": "code",
   "execution_count": 3,
   "metadata": {
    "id": "7jA-K85WfWgS"
   },
   "outputs": [],
   "source": [
    "#with open('./drive/MyDrive/ReadMe.md','w') as f:\n",
    " # data = f.write('*반가워요')"
   ]
  },
  {
   "cell_type": "markdown",
   "metadata": {
    "id": "SfjWNb3xiyAX"
   },
   "source": [
    "# 넘파이(numpy)"
   ]
  },
  {
   "cell_type": "markdown",
   "metadata": {
    "id": "ed64i5QWjff3"
   },
   "source": [
    " - ndim : 축의 개수\n",
    " - shape : 배열의 차원정보\n",
    " - size : 배열안에 있는 원소의 총 개수\n",
    " - dtype : 배열 원소의 자료형"
   ]
  },
  {
   "cell_type": "code",
   "execution_count": 10,
   "metadata": {
    "colab": {
     "base_uri": "https://localhost:8080/"
    },
    "id": "gVYNIO5kizOu",
    "outputId": "13b72f84-1612-4f96-ede4-0471c426eb89"
   },
   "outputs": [
    {
     "name": "stdout",
     "output_type": "stream",
     "text": [
      "[0 1 2 3 4] <class 'numpy.ndarray'>\n",
      "1\n",
      "(5,)\n",
      "5\n",
      "3\n",
      "[2 3]\n"
     ]
    }
   ],
   "source": [
    "# pip install numpy\n",
    "import numpy as np\n",
    "narry = np.array(range(5))\n",
    "print(narry,type(narry))\n",
    "print(narry.ndim)\n",
    "print(narry.shape)\n",
    "print(narry.size)\n",
    "print(narry[3])\n",
    "print(narry[2:4])"
   ]
  },
  {
   "cell_type": "code",
   "execution_count": 14,
   "metadata": {
    "colab": {
     "base_uri": "https://localhost:8080/"
    },
    "id": "jpQMl3TChN-p",
    "outputId": "814cb07d-30ea-4908-e4a1-3bb30b975d94"
   },
   "outputs": [
    {
     "name": "stdout",
     "output_type": "stream",
     "text": [
      "[1 2 3 4] int64\n",
      "['1' '2' 'a' 'b'] <U21\n",
      "['1' '2' 'a' 'b'] <U1\n"
     ]
    }
   ],
   "source": [
    "narr1 = np.array([1,2,3,4])\n",
    "narr2 = np.array([1,2,'a','b'])\n",
    "narr3 = np.array([1,2,'a','b'],dtype='str')\n",
    "print(narr1,narr1.dtype)\n",
    "print(narr2,narr2.dtype)\n",
    "print(narr3,narr3.dtype)"
   ]
  },
  {
   "cell_type": "code",
   "execution_count": 85,
   "metadata": {
    "colab": {
     "base_uri": "https://localhost:8080/"
    },
    "id": "xlxMQwLVptNZ",
    "outputId": "34a6f3fc-52a6-4dee-cca7-be91499190eb"
   },
   "outputs": [
    {
     "name": "stdout",
     "output_type": "stream",
     "text": [
      "[[0 0]\n",
      " [0 0]] 2 int64 (2, 2) 4 <class 'numpy.ndarray'>\n",
      "[[1. 1.]\n",
      " [1. 1.]] 2 float64 (2, 2) 4 <class 'numpy.ndarray'>\n",
      "[[3 3 3]\n",
      " [3 3 3]\n",
      " [3 3 3]] 2 int64 (3, 3) 9 <class 'numpy.ndarray'>\n",
      "[['number' 'number' 'number']\n",
      " ['number' 'number' 'number']\n",
      " ['number' 'number' 'number']] 2 <U6 (3, 3) 9 <class 'numpy.ndarray'>\n",
      "[[1. 0. 0.]\n",
      " [0. 1. 0.]\n",
      " [0. 0. 1.]] 2 float64 (3, 3) 9 <class 'numpy.ndarray'>\n",
      "[ 0. 20. 40. 60. 80.] 1 float64 (5,) 5 <class 'numpy.ndarray'>\n",
      "[  0.           5.26315789  10.52631579  15.78947368  21.05263158\n",
      "  26.31578947  31.57894737  36.84210526  42.10526316  47.36842105\n",
      "  52.63157895  57.89473684  63.15789474  68.42105263  73.68421053\n",
      "  78.94736842  84.21052632  89.47368421  94.73684211 100.        ] 1 float64 (20,) 20 <class 'numpy.ndarray'>\n"
     ]
    }
   ],
   "source": [
    "narr4 = np.zeros((2,2),dtype='int64')\n",
    "narr5 = np.ones((2,2))\n",
    "narr6 = np.full((3,3),3)\n",
    "narr7 = np.full((3,3),'number')\n",
    "narr8 = np.eye(3)\n",
    "narr9 = np.linspace(0,100,5,endpoint=False)\n",
    "narr10 = np.linspace(0,100,20)\n",
    "print(narr4,narr4.ndim,narr4.dtype,narr4.shape,narr4.size,type(narr4))\n",
    "print(narr5,narr5.ndim,narr5.dtype,narr5.shape,narr5.size,type(narr5))\n",
    "print(narr6,narr6.ndim,narr6.dtype,narr6.shape,narr6.size,type(narr6))\n",
    "print(narr7,narr7.ndim,narr7.dtype,narr7.shape,narr7.size,type(narr7))\n",
    "print(narr8,narr8.ndim,narr8.dtype,narr8.shape,narr8.size,type(narr8))\n",
    "print(narr9,narr9.ndim,narr9.dtype,narr9.shape,narr9.size,type(narr9))\n",
    "print(narr10,narr10.ndim,narr10.dtype,narr10.shape,narr10.size,type(narr10))"
   ]
  },
  {
   "cell_type": "markdown",
   "metadata": {
    "id": "1n8bdXGgudHf"
   },
   "source": [
    "# 2차원 배열"
   ]
  },
  {
   "cell_type": "code",
   "execution_count": 39,
   "metadata": {
    "colab": {
     "base_uri": "https://localhost:8080/"
    },
    "id": "crWNAC5Nvlen",
    "outputId": "1634e0a1-167e-47c7-d07a-f1a690eb7690"
   },
   "outputs": [
    {
     "name": "stdout",
     "output_type": "stream",
     "text": [
      "[2, 3, 4, 5, 6, 7, 8, 9]\n",
      "[2 3 4 5 6 7 8 9]\n"
     ]
    },
    {
     "data": {
      "text/plain": [
       "array([0, 1, 2, 3, 4, 5, 6, 7, 8, 9])"
      ]
     },
     "execution_count": 39,
     "metadata": {},
     "output_type": "execute_result"
    }
   ],
   "source": [
    "print(list(range(2,10)))\n",
    "print(np.arange(2,10))\n",
    "range(10)\n",
    "np.arange(10)"
   ]
  },
  {
   "cell_type": "code",
   "execution_count": 33,
   "metadata": {
    "colab": {
     "base_uri": "https://localhost:8080/"
    },
    "id": "DhYAp_CelWyZ",
    "outputId": "b547ac94-12a8-4be3-ca28-f3d6e1473db8"
   },
   "outputs": [
    {
     "name": "stdout",
     "output_type": "stream",
     "text": [
      "[[0 0]\n",
      " [0 0]] 2 int64 (2, 2) 4 <class 'numpy.ndarray'>\n"
     ]
    }
   ],
   "source": [
    "arr1 = np.array([[0,0],[0,0]])\n",
    "print(arr1,arr1.ndim,arr1.dtype,arr1.shape,arr1.size, type(arr1))\n"
   ]
  },
  {
   "cell_type": "code",
   "execution_count": 42,
   "metadata": {
    "colab": {
     "base_uri": "https://localhost:8080/"
    },
    "id": "mLUDZxHHqZWo",
    "outputId": "d953323b-0e35-4a8c-a369-3bdf0fdeb8e1"
   },
   "outputs": [
    {
     "name": "stdout",
     "output_type": "stream",
     "text": [
      "차원 :  2 데이터타입 :  int64 형태 :  (3, 3) 크기 :  9 <class 'numpy.ndarray'> [[1 2 3]\n",
      " [4 5 6]\n",
      " [7 8 9]]\n",
      "차원 :  2 데이터타입 :  int64 형태 :  (3, 3) 크기 :  9 <class 'numpy.ndarray'> [[1 2 3]\n",
      " [4 5 6]\n",
      " [7 8 9]]\n",
      "차원 :  2 데이터타입 :  int64 형태 :  (2, 5) 크기 :  10 <class 'numpy.ndarray'> [[ 1  2  3  4  5]\n",
      " [ 6  7  8  9 10]]\n",
      "차원 :  2 데이터타입 :  int64 형태 :  (5, 2) 크기 :  10 <class 'numpy.ndarray'> [[ 1  2]\n",
      " [ 3  4]\n",
      " [ 5  6]\n",
      " [ 7  8]\n",
      " [ 9 10]]\n",
      "차원 :  3 데이터타입 :  int64 형태 :  (3, 3, 3) 크기 :  27 <class 'numpy.ndarray'> [[[ 1  2  3]\n",
      "  [ 4  5  6]\n",
      "  [ 7  8  9]]\n",
      "\n",
      " [[10 11 12]\n",
      "  [13 14 15]\n",
      "  [16 17 18]]\n",
      "\n",
      " [[19 20 21]\n",
      "  [22 23 24]\n",
      "  [25 26 27]]]\n"
     ]
    }
   ],
   "source": [
    "arr2 =np.array([1,2,3,4,5,6,7,8,9]).reshape(3,3)\n",
    "arr3 =np.array(np.arange(1,10)).reshape(3,3)\n",
    "arr4 =np.array(np.arange(1,11)).reshape(2,5)\n",
    "arr5 =np.array(np.arange(1,11)).reshape(5,2)\n",
    "arr6 =np.array(np.arange(1,28)).reshape(3,3,3)\n",
    "print ('차원 : ',arr2.ndim,'데이터타입 : ', arr2.dtype,'형태 : ', arr2.shape,'크기 : ', arr2.size, type(arr2),arr2)\n",
    "print ('차원 : ',arr3.ndim,'데이터타입 : ', arr3.dtype,'형태 : ', arr3.shape,'크기 : ', arr3.size, type(arr3),arr3)\n",
    "print ('차원 : ',arr4.ndim,'데이터타입 : ', arr4.dtype,'형태 : ', arr4.shape,'크기 : ', arr4.size, type(arr4),arr4)\n",
    "print ('차원 : ',arr5.ndim,'데이터타입 : ', arr5.dtype,'형태 : ', arr5.shape,'크기 : ', arr5.size, type(arr5),arr5)\n",
    "print ('차원 : ',arr6.ndim,'데이터타입 : ', arr6.dtype,'형태 : ', arr6.shape,'크기 : ', arr6.size, type(arr6),arr6)"
   ]
  },
  {
   "cell_type": "code",
   "execution_count": 88,
   "metadata": {
    "colab": {
     "base_uri": "https://localhost:8080/"
    },
    "id": "WOfLiV3SvKcX",
    "outputId": "40144b56-9774-4873-c96c-5e0a8a71c608"
   },
   "outputs": [
    {
     "name": "stdout",
     "output_type": "stream",
     "text": [
      "[[ 1  2  3  4  5  6  7]\n",
      " [ 8  9 10 11 12 13 14]\n",
      " [15 16 17 18 19 20 21]]\n",
      "===============================\n",
      "[[1]\n",
      " [2]\n",
      " [3]\n",
      " [4]\n",
      " [5]\n",
      " [6]\n",
      " [7]]\n",
      "===============================\n",
      "[[ 1  2]\n",
      " [ 3  4]\n",
      " [ 5  6]\n",
      " [ 7  8]\n",
      " [ 9 10]]\n",
      "===============================\n",
      "[[ 1  2  3  4  5  6  7]\n",
      " [ 8  9 10 11 12 13 14]\n",
      " [15 16 17 18 19 20 21]]\n",
      "===============================\n",
      "[[[ 1]\n",
      "  [ 2]\n",
      "  [ 3]]\n",
      "\n",
      " [[ 4]\n",
      "  [ 5]\n",
      "  [ 6]]\n",
      "\n",
      " [[ 7]\n",
      "  [ 8]\n",
      "  [ 9]]\n",
      "\n",
      " [[10]\n",
      "  [11]\n",
      "  [12]]]\n"
     ]
    }
   ],
   "source": [
    "t1 =np.array(np.arange(1,22)).reshape(3,7)\n",
    "t2 =np.array(np.arange(1,8)).reshape(7,1)\n",
    "t3 =np.array(np.arange(1,11)).reshape(5,2)\n",
    "t4 =np.array(np.arange(1,22)).reshape(3,7)\n",
    "t5 =np.array(np.arange(1,13)).reshape(4,3,1)\n",
    "print (t1)\n",
    "print ('===============================')\n",
    "print (t2)\n",
    "print ('===============================')\n",
    "print (t3)\n",
    "print ('===============================')\n",
    "print (t4)\n",
    "print ('===============================')\n",
    "print (t5)"
   ]
  },
  {
   "cell_type": "code",
   "execution_count": 99,
   "metadata": {
    "colab": {
     "base_uri": "https://localhost:8080/"
    },
    "id": "NWuyxmUw2xbn",
    "outputId": "591225ee-8b1f-4f7e-bcd5-42ce482e731c"
   },
   "outputs": [
    {
     "data": {
      "text/plain": [
       "array([[ 4,  5,  6,  7],\n",
       "       [11, 12, 13, 14],\n",
       "       [18, 19, 20, 21]])"
      ]
     },
     "execution_count": 99,
     "metadata": {},
     "output_type": "execute_result"
    }
   ],
   "source": [
    "t4[0:3,3:8]"
   ]
  },
  {
   "cell_type": "code",
   "execution_count": 103,
   "metadata": {
    "colab": {
     "base_uri": "https://localhost:8080/"
    },
    "id": "Ndi_vqXR-7TH",
    "outputId": "956c6f6f-b18e-4f28-beeb-2f5152b7d8d2"
   },
   "outputs": [
    {
     "name": "stdout",
     "output_type": "stream",
     "text": [
      "[[False  True False  True False  True False]\n",
      " [ True False  True False  True False  True]\n",
      " [False  True False  True False  True False]]\n",
      "[[ 4  5  6  7]\n",
      " [11 12 13 14]\n",
      " [18 19 20 21]]\n",
      "[[12 13]\n",
      " [19 20]]\n",
      "[[10 11]\n",
      " [17 18]]\n"
     ]
    }
   ],
   "source": [
    "# test\n",
    "print(t4 % 2 == 0)\n",
    "print(t4[0:3,3:8])\n",
    "print(t4[1:3,4:6])\n",
    "print(t4[1:3,2:4])"
   ]
  },
  {
   "cell_type": "code",
   "execution_count": 104,
   "metadata": {
    "colab": {
     "base_uri": "https://localhost:8080/"
    },
    "id": "p0__-lKYEvo3",
    "outputId": "ac3f2f88-68c5-4d5b-ce88-20f3464242be"
   },
   "outputs": [
    {
     "name": "stdout",
     "output_type": "stream",
     "text": [
      "덧셈 :  [ 7  9 11 13 15]\n",
      "뺄셈 :  [5 5 5 5 5]\n",
      "곱셈 :  [ 6 14 24 36 50]\n",
      "나눗셈 :  [6.         3.5        2.66666667 2.25       2.        ]\n"
     ]
    }
   ],
   "source": [
    "# np 배열 연산\n",
    "np1 = np.array([6,7,8,9,10])\n",
    "np2 = np.array([1,2,3,4,5])\n",
    "print('덧셈 : ',np1+np2)\n",
    "print('뺄셈 : ',np1-np2)\n",
    "print('곱셈 : ',np1*np2)\n",
    "print('나눗셈 : ',np1/np2)"
   ]
  },
  {
   "cell_type": "code",
   "execution_count": 106,
   "metadata": {
    "colab": {
     "base_uri": "https://localhost:8080/"
    },
    "id": "HnkLV222GHTX",
    "outputId": "5e61fa31-6635-4331-ff3f-88dcb889e26d"
   },
   "outputs": [
    {
     "name": "stdout",
     "output_type": "stream",
     "text": [
      "[16 17 18 19 20]\n"
     ]
    }
   ],
   "source": [
    "# 브로드캐스팅\n",
    "np3 = np1 + 10\n",
    "print(np3)"
   ]
  },
  {
   "cell_type": "code",
   "execution_count": 114,
   "metadata": {
    "colab": {
     "base_uri": "https://localhost:8080/"
    },
    "id": "oIPbPIp6G_91",
    "outputId": "6e501169-b35b-430f-d99a-21797bdc0e43"
   },
   "outputs": [
    {
     "name": "stdout",
     "output_type": "stream",
     "text": [
      "[[1 2 3]\n",
      " [4 5 6]\n",
      " [7 8 9]]\n",
      "[[11]\n",
      " [22]\n",
      " [33]]\n",
      "[[1 2 3]\n",
      " [4 5 6]\n",
      " [7 8 9]]\n",
      "[[ 4  5  6]\n",
      " [ 7  8  9]\n",
      " [10 11 12]]\n",
      "[[ 2  4  6]\n",
      " [ 8 10 12]\n",
      " [14 16 18]]\n",
      "[[11]\n",
      " [22]\n",
      " [33]]\n",
      "[[12 13 14]\n",
      " [26 27 28]\n",
      " [40 41 42]]\n",
      "[[ 11  22  33]\n",
      " [ 88 110 132]\n",
      " [231 264 297]]\n"
     ]
    }
   ],
   "source": [
    "br1 = np.arange(1,10).reshape(3,3)\n",
    "br2 = np.array([11,22,33]).reshape(3,1)\n",
    "print(br1)\n",
    "print(br2)\n",
    "# 스칼라와 연산\n",
    "print(br1)\n",
    "print(br1+3)\n",
    "print(br1*2)\n",
    "# 2D와 1D의 연산\n",
    "print(br2)\n",
    "print(br1+br2)\n",
    "print(br1*br2)"
   ]
  },
  {
   "cell_type": "code",
   "execution_count": 116,
   "metadata": {
    "colab": {
     "base_uri": "https://localhost:8080/"
    },
    "id": "_9JBFaILHkS4",
    "outputId": "dfe188ed-bfbf-4c2b-b586-c7f624f6264a"
   },
   "outputs": [
    {
     "data": {
      "text/plain": [
       "array([11, 22, 33])"
      ]
     },
     "execution_count": 116,
     "metadata": {},
     "output_type": "execute_result"
    }
   ],
   "source": [
    "br2.flatten()"
   ]
  },
  {
   "cell_type": "code",
   "execution_count": 118,
   "metadata": {
    "colab": {
     "base_uri": "https://localhost:8080/"
    },
    "id": "saTbD67RJldJ",
    "outputId": "891fef8d-10ce-4bf9-9f6e-71033bb66e10"
   },
   "outputs": [
    {
     "name": "stdout",
     "output_type": "stream",
     "text": [
      "[[1 2 3 4 5 6 7 8 9]]\n",
      "[1 2 3 4 5 6 7 8 9]\n"
     ]
    }
   ],
   "source": [
    "ff = np.arange(1,10).reshape(3,3)\n",
    "print(ff.reshape(1,9))\n",
    "print(ff.flatten())"
   ]
  }
 ],
 "metadata": {
  "colab": {
   "provenance": []
  },
  "kernelspec": {
   "display_name": "Python 3 (ipykernel)",
   "language": "python",
   "name": "python3"
  },
  "language_info": {
   "codemirror_mode": {
    "name": "ipython",
    "version": 3
   },
   "file_extension": ".py",
   "mimetype": "text/x-python",
   "name": "python",
   "nbconvert_exporter": "python",
   "pygments_lexer": "ipython3",
   "version": "3.13.1"
  }
 },
 "nbformat": 4,
 "nbformat_minor": 4
}
