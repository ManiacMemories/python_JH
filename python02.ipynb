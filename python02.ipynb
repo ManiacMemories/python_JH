{
 "cells": [
  {
   "cell_type": "markdown",
   "id": "cb2f1832-1643-47e1-8b15-2767bb590c71",
   "metadata": {},
   "source": [
    "# 자료형"
   ]
  },
  {
   "cell_type": "markdown",
   "id": "fb5f3b7a-6d02-4940-8651-c24d29fa9e23",
   "metadata": {},
   "source": [
    "## 리스트 자료형"
   ]
  },
  {
   "cell_type": "markdown",
   "id": "9b8b410b-0d2a-4839-a9d8-6d9d6442be0a",
   "metadata": {},
   "source": [
    "### 리스트의 인덱싱과 슬라이싱"
   ]
  },
  {
   "cell_type": "code",
   "execution_count": 1,
   "id": "614670bd-87b5-43e2-8b85-c44e57935c33",
   "metadata": {},
   "outputs": [],
   "source": [
    "odd = [1,3,5,7,9]"
   ]
  },
  {
   "cell_type": "code",
   "execution_count": 8,
   "id": "5b604658-9556-46c7-8e75-82bfc6a98d3d",
   "metadata": {},
   "outputs": [
    {
     "name": "stdout",
     "output_type": "stream",
     "text": [
      "['Life', 'is']\n",
      "Life\n",
      "is\n"
     ]
    }
   ],
   "source": [
    "a = []\n",
    "b = [1, 2, 3]\n",
    "c = ['Life', 'is', 'too', 'short']\n",
    "d = [1, 2, 'Life', 'is']\n",
    "e = [1, 2, ['Life', 'is']]\n",
    "print(e[2])\n",
    "print(e[2][0])\n",
    "print(e[2][1])"
   ]
  },
  {
   "cell_type": "code",
   "execution_count": 9,
   "id": "53ed30a5-da3f-474b-be00-8f6b336332fa",
   "metadata": {},
   "outputs": [
    {
     "data": {
      "text/plain": [
       "5"
      ]
     },
     "execution_count": 9,
     "metadata": {},
     "output_type": "execute_result"
    }
   ],
   "source": [
    "b[1] + b[2]"
   ]
  },
  {
   "cell_type": "code",
   "execution_count": 12,
   "id": "3aa84a61-da93-4b58-b62f-1f03ef68b427",
   "metadata": {},
   "outputs": [
    {
     "name": "stdout",
     "output_type": "stream",
     "text": [
      "5\n",
      "Lifeshort\n",
      "LifeLifeLife\n"
     ]
    }
   ],
   "source": [
    "# 리스트의 인덱싱과 연산\n",
    "print(b[1] + b[2])\n",
    "print(c[0] + c[3])\n",
    "print(c[0] * b[2])"
   ]
  },
  {
   "cell_type": "code",
   "execution_count": 11,
   "id": "a64b01c6-dd47-4c79-a977-f167e0398fac",
   "metadata": {},
   "outputs": [
    {
     "data": {
      "text/plain": [
       "'short'"
      ]
     },
     "execution_count": 11,
     "metadata": {},
     "output_type": "execute_result"
    }
   ],
   "source": [
    "c[-1]"
   ]
  },
  {
   "cell_type": "code",
   "execution_count": 16,
   "id": "9b70e8f5-cfec-4c1a-ba71-000c05173473",
   "metadata": {},
   "outputs": [
    {
     "name": "stdout",
     "output_type": "stream",
     "text": [
      "[11, 22, 33, 44, 55]\n",
      "[33, 44, 55]\n",
      "[11, 22]\n",
      "[44, 55]\n",
      "[11, 33, 55]\n",
      "[55, 44, 33, 22, 11]\n"
     ]
    }
   ],
   "source": [
    "# 리스트의 슬라이싱\n",
    "a = [11,22,33,44,55]\n",
    "print(a[:])\n",
    "print(a[2:])\n",
    "print(a[:-3])\n",
    "print(a[-2:])\n",
    "print(a[::2])\n",
    "print(a[::-1])"
   ]
  },
  {
   "cell_type": "markdown",
   "id": "c7d296cc-b47d-43bb-ae11-a707b094fc3c",
   "metadata": {},
   "source": [
    "### 리스트 연산하기"
   ]
  },
  {
   "cell_type": "code",
   "execution_count": 34,
   "id": "76e2ea1e-cf89-4c4e-986a-3fca4bd66835",
   "metadata": {},
   "outputs": [
    {
     "name": "stdout",
     "output_type": "stream",
     "text": [
      "[11, 22, 33, 44, 55, 66]\n",
      "[11, 22, 33, 11, 22, 33, 11, 22, 33]\n"
     ]
    },
    {
     "data": {
      "text/plain": [
       "9"
      ]
     },
     "execution_count": 34,
     "metadata": {},
     "output_type": "execute_result"
    }
   ],
   "source": [
    "a = [11,22,33]\n",
    "b = [44,55,66]\n",
    "# 리스트 더하기\n",
    "print(a+b)\n",
    "# 리스트 반복하기\n",
    "c = a * 3\n",
    "print(a * 3)\n",
    "len(c)"
   ]
  },
  {
   "cell_type": "code",
   "execution_count": 35,
   "id": "d9988f21-c0a8-4fcf-8a00-240e8f7cce4a",
   "metadata": {},
   "outputs": [
    {
     "name": "stdout",
     "output_type": "stream",
     "text": [
      "[11, 22, 44]\n",
      "[11, 44]\n"
     ]
    }
   ],
   "source": [
    "# 리스트 값 수정하기\n",
    "a = [11,22,33]\n",
    "a[2] = 44\n",
    "print(a)\n",
    "# a[3] = 55 # 없는 요소를 수정하는 것은 에러\n",
    "# print(a)\n",
    "# a[1] = '' # 빈칸 수정 삽입\n",
    "# a[1] = 0 # 0d으로 수정 삽입\n",
    "del a[1]\n",
    "print(a)"
   ]
  },
  {
   "cell_type": "code",
   "execution_count": 36,
   "id": "f673a1f1-44f3-4f8d-ae34-dbb6b65a2e57",
   "metadata": {},
   "outputs": [
    {
     "name": "stdout",
     "output_type": "stream",
     "text": [
      "[11, 22, 33, 11, 22, 33, 11, 22, 33]\n",
      "[22, 33, 11, 22, 33]\n"
     ]
    }
   ],
   "source": [
    "print(c)\n",
    "del c[:4]\n",
    "print(c)"
   ]
  },
  {
   "cell_type": "code",
   "execution_count": 37,
   "id": "93351748-5483-4b3f-bd1d-2ff43e86c01d",
   "metadata": {},
   "outputs": [
    {
     "data": {
      "text/plain": [
       "['__add__',\n",
       " '__class__',\n",
       " '__class_getitem__',\n",
       " '__contains__',\n",
       " '__delattr__',\n",
       " '__delitem__',\n",
       " '__dir__',\n",
       " '__doc__',\n",
       " '__eq__',\n",
       " '__format__',\n",
       " '__ge__',\n",
       " '__getattribute__',\n",
       " '__getitem__',\n",
       " '__getstate__',\n",
       " '__gt__',\n",
       " '__hash__',\n",
       " '__iadd__',\n",
       " '__imul__',\n",
       " '__init__',\n",
       " '__init_subclass__',\n",
       " '__iter__',\n",
       " '__le__',\n",
       " '__len__',\n",
       " '__lt__',\n",
       " '__mul__',\n",
       " '__ne__',\n",
       " '__new__',\n",
       " '__reduce__',\n",
       " '__reduce_ex__',\n",
       " '__repr__',\n",
       " '__reversed__',\n",
       " '__rmul__',\n",
       " '__setattr__',\n",
       " '__setitem__',\n",
       " '__sizeof__',\n",
       " '__str__',\n",
       " '__subclasshook__',\n",
       " 'append',\n",
       " 'clear',\n",
       " 'copy',\n",
       " 'count',\n",
       " 'extend',\n",
       " 'index',\n",
       " 'insert',\n",
       " 'pop',\n",
       " 'remove',\n",
       " 'reverse',\n",
       " 'sort']"
      ]
     },
     "execution_count": 37,
     "metadata": {},
     "output_type": "execute_result"
    }
   ],
   "source": [
    "dir(list)"
   ]
  },
  {
   "cell_type": "code",
   "execution_count": 38,
   "id": "5dfde9ac-c4af-470a-9c75-239fcebe2f6b",
   "metadata": {},
   "outputs": [
    {
     "name": "stdout",
     "output_type": "stream",
     "text": [
      "[]\n"
     ]
    }
   ],
   "source": [
    "# 리스트 요소 비우기\n",
    "c.clear()\n",
    "print(c)"
   ]
  },
  {
   "cell_type": "code",
   "execution_count": 45,
   "id": "fb1cd533-c9ac-4d4f-b404-4e3db59a185f",
   "metadata": {},
   "outputs": [],
   "source": [
    "a = []"
   ]
  },
  {
   "cell_type": "code",
   "execution_count": 46,
   "id": "4c37081a-7d7c-46bc-b83e-5fb335a83b07",
   "metadata": {},
   "outputs": [
    {
     "name": "stdout",
     "output_type": "stream",
     "text": [
      "[4]\n",
      "[4, [11, 22]]\n"
     ]
    }
   ],
   "source": [
    "# 리스트 요소 추가하기\n",
    "a.append(4)\n",
    "print(a)\n",
    "a.append([11,22])\n",
    "print(a)"
   ]
  },
  {
   "cell_type": "code",
   "execution_count": 48,
   "id": "b7f20298-8f3e-41ad-b57d-34b1908ea127",
   "metadata": {},
   "outputs": [],
   "source": [
    "b = []\n",
    "num = 0"
   ]
  },
  {
   "cell_type": "code",
   "execution_count": 54,
   "id": "bc9b2989-1a3a-4be1-a9d2-1c4c3f919e31",
   "metadata": {},
   "outputs": [
    {
     "name": "stdout",
     "output_type": "stream",
     "text": [
      "[1, 2, 3, 4, 5, 6]\n"
     ]
    }
   ],
   "source": [
    "num += 1\n",
    "b.append(num)\n",
    "print(b)"
   ]
  },
  {
   "cell_type": "code",
   "execution_count": 55,
   "id": "cd9543e4-2bd5-4286-9b14-911e9ddef872",
   "metadata": {},
   "outputs": [
    {
     "name": "stdout",
     "output_type": "stream",
     "text": [
      "[11, 22, 33, 44, 55]\n"
     ]
    }
   ],
   "source": [
    "# 리스트 정렬(오름차순) - sort\n",
    "a = [11,44,33,22,55]\n",
    "a.sort()\n",
    "print(a)"
   ]
  },
  {
   "cell_type": "code",
   "execution_count": 58,
   "id": "bf0ca669-7420-45ab-b136-eb40c98f85dd",
   "metadata": {},
   "outputs": [
    {
     "name": "stdout",
     "output_type": "stream",
     "text": [
      "[55, 44, 33, 22, 11]\n"
     ]
    }
   ],
   "source": [
    "# 리스트 정렬(내림차순) - sort\n",
    "a = [11,44,33,22,55]\n",
    "a.sort(reverse=True)\n",
    "print(a)"
   ]
  },
  {
   "cell_type": "code",
   "execution_count": 60,
   "id": "4031f879-5d0a-4cac-9382-61ec3e3013b8",
   "metadata": {},
   "outputs": [
    {
     "name": "stdout",
     "output_type": "stream",
     "text": [
      "[66, 77, 88, 99, 0]\n",
      "[0, 66, 77, 88, 99]\n",
      "[99, 88, 77, 66, 0]\n"
     ]
    }
   ],
   "source": [
    "# 리스트정렬 원본 유지하기\n",
    "aa = [66, 77, 88, 99, 0]\n",
    "bb = sorted(aa)\n",
    "cc = sorted(aa, reverse = True)\n",
    "print(aa)\n",
    "print(bb)\n",
    "print(cc)"
   ]
  },
  {
   "cell_type": "code",
   "execution_count": 62,
   "id": "c74b10ef-1cc7-45e3-a085-7a47afd6376d",
   "metadata": {},
   "outputs": [
    {
     "name": "stdout",
     "output_type": "stream",
     "text": [
      "['banana', 'kiwi', 'orange', 'melon', 'pear', 'apple', 'strawberry', 'blueberry']\n",
      "['kiwi', 'pear', 'melon', 'apple', 'banana', 'orange', 'blueberry', 'strawberry']\n",
      "['strawberry', 'blueberry', 'banana', 'orange', 'melon', 'apple', 'kiwi', 'pear']\n"
     ]
    }
   ],
   "source": [
    "# sorted 응용\n",
    "fruit = ['banana', 'kiwi', 'orange', 'melon', 'pear', 'apple', 'strawberry','blueberry']\n",
    "result = sorted(fruit, key=len)\n",
    "result2 = sorted(fruit, key=len, reverse = True)\n",
    "print(fruit)\n",
    "print(result)\n",
    "print(result2)"
   ]
  },
  {
   "cell_type": "code",
   "execution_count": 66,
   "id": "56ed72ba-65fd-4bea-9a1d-dceb98be8e6b",
   "metadata": {},
   "outputs": [
    {
     "name": "stdout",
     "output_type": "stream",
     "text": [
      "과일을 먹어볼까?\n",
      "kiwi냠냠 맛있다~\n",
      "pear냠냠 맛있다~\n",
      "melon냠냠 맛있다~\n",
      "apple냠냠 맛있다~\n",
      "banana못먹겠어 웩!\n",
      "orange냠냠 맛있다~\n",
      "blueberry냠냠 맛있다~\n",
      "strawberry냠냠 맛있다~\n",
      "와 ~ 다먹었다\n"
     ]
    }
   ],
   "source": [
    "print('과일을 먹어볼까?')\n",
    "for r in result:\n",
    "    if r == 'banana':\n",
    "        print(r + '못먹겠어 웩!')\n",
    "    if r != 'banana':\n",
    "        print(r + '냠냠 맛있다~')\n",
    "print('와 ~ 다먹었다')"
   ]
  },
  {
   "cell_type": "code",
   "execution_count": 57,
   "id": "6c7bdea7-dc51-48df-a786-17bb654d1cdb",
   "metadata": {},
   "outputs": [
    {
     "name": "stdout",
     "output_type": "stream",
     "text": [
      "[55, 22, 33, 44, 11]\n"
     ]
    }
   ],
   "source": [
    "# 리스트 뒤집기 - reverse\n",
    "a = [11, 44, 33, 22, 55]\n",
    "a.reverse()\n",
    "print(a)"
   ]
  },
  {
   "cell_type": "code",
   "execution_count": 68,
   "id": "3bd4d619-34c9-410c-930a-12afa2c5e577",
   "metadata": {},
   "outputs": [
    {
     "data": {
      "text/plain": [
       "3"
      ]
     },
     "execution_count": 68,
     "metadata": {},
     "output_type": "execute_result"
    }
   ],
   "source": [
    "# 인덱스 반환 - index\n",
    "fruit = ['banana', 'kiwi', 'orange', 'melon', 'pear', 'apple', 'strawberry', 'blueberry']\n",
    "fruit.index('melon')"
   ]
  },
  {
   "cell_type": "code",
   "execution_count": 71,
   "id": "6422d323-807c-4407-862a-b097ba14dc77",
   "metadata": {},
   "outputs": [
    {
     "name": "stdin",
     "output_type": "stream",
     "text": [
      "먹고 싶은 과일을 입력하세요 melon\n"
     ]
    },
    {
     "name": "stdout",
     "output_type": "stream",
     "text": [
      "melon 를 좋아하시는 군요!!! 그것은 4번 째에 있습니다.\n"
     ]
    }
   ],
   "source": [
    "# 인덱스 응용\n",
    "fruit = ['banana', 'kiwi', 'orange', 'melon', 'pear', 'apple', 'strawberry', 'blueberry']\n",
    "want = input('먹고 싶은 과일을 입력하세요')\n",
    "where = fruit.index(want)\n",
    "print(f'{want} 를 좋아하시는 군요!!! 그것은 {where + 1}번 째에 있습니다.')"
   ]
  },
  {
   "cell_type": "code",
   "execution_count": 72,
   "id": "4c6fa1f0-4794-4064-890b-5f197055f01f",
   "metadata": {},
   "outputs": [
    {
     "name": "stdout",
     "output_type": "stream",
     "text": [
      "[11, 22, 33, 44, 55, 66, 77, 88]\n",
      "[11, 22, 33, 44, 44, 55, 66, 77, 88]\n"
     ]
    }
   ],
   "source": [
    "# 리스트에 요소 삽입 - insert\n",
    "num = [11, 22, 33, 44, 55, 66, 77, 88]\n",
    "print(num)\n",
    "num.insert(3,44) # 3은 인덱스 위치, 44는 원하는 값\n",
    "print(num)"
   ]
  },
  {
   "cell_type": "code",
   "execution_count": 2,
   "id": "98be3477-e062-4b29-9689-dfec6289ab5e",
   "metadata": {},
   "outputs": [],
   "source": [
    "ex = []"
   ]
  },
  {
   "cell_type": "code",
   "execution_count": 3,
   "id": "3545a773-3b85-4897-8c50-3ec3e13916aa",
   "metadata": {},
   "outputs": [
    {
     "name": "stdout",
     "output_type": "stream",
     "text": [
      "['맨앞']\n",
      "['-1인덱스', '맨앞']\n",
      "['맨앞', '-1인덱스', '맨앞']\n",
      "['맨앞', '-1인덱스', '맨앞', '제일 끝']\n"
     ]
    }
   ],
   "source": [
    "ex.insert(0,'맨앞')\n",
    "print(ex)\n",
    "ex.insert(-1,'-1인덱스')\n",
    "print(ex)\n",
    "ex.insert(0,'맨앞')\n",
    "print(ex)\n",
    "ex.insert(len(ex),'제일 끝')\n",
    "print(ex)"
   ]
  },
  {
   "cell_type": "code",
   "execution_count": 7,
   "id": "caca7b5b-3857-4d00-9a8a-80f1c02e703c",
   "metadata": {},
   "outputs": [
    {
     "name": "stdout",
     "output_type": "stream",
     "text": [
      "[1, 2, 1, 2, 3]\n"
     ]
    }
   ],
   "source": [
    "# 리스트 요소제거 - remove\n",
    "a = [1, 2 ,3 ,1 ,2, 3]\n",
    "a.remove(3)\n",
    "print(a)"
   ]
  },
  {
   "cell_type": "code",
   "execution_count": 9,
   "id": "f5d69fd7-f837-4a4a-afed-81a3323ed37b",
   "metadata": {},
   "outputs": [
    {
     "name": "stdout",
     "output_type": "stream",
     "text": [
      "[1, 2]\n",
      "받은거 3\n"
     ]
    }
   ],
   "source": [
    "# 리스트 요소 끄집어 내기 - pop\n",
    "a = [1 ,2 ,3]\n",
    "hand = a.pop()\n",
    "print(a)\n",
    "print(\"받은거\", hand)"
   ]
  },
  {
   "cell_type": "code",
   "execution_count": 10,
   "id": "9c2f9331-356d-47b1-8d2b-6301e24aad6c",
   "metadata": {},
   "outputs": [
    {
     "name": "stdout",
     "output_type": "stream",
     "text": [
      "[1]\n",
      "받은거 2\n"
     ]
    }
   ],
   "source": [
    "hand = a.pop() # 리턴값을 받음\n",
    "print(a)\n",
    "print(\"받은거\", hand)"
   ]
  },
  {
   "cell_type": "code",
   "execution_count": null,
   "id": "b85776de-23b7-4382-b388-8166577d3eb5",
   "metadata": {},
   "outputs": [],
   "source": []
  }
 ],
 "metadata": {
  "kernelspec": {
   "display_name": "Python 3 (ipykernel)",
   "language": "python",
   "name": "python3"
  },
  "language_info": {
   "codemirror_mode": {
    "name": "ipython",
    "version": 3
   },
   "file_extension": ".py",
   "mimetype": "text/x-python",
   "name": "python",
   "nbconvert_exporter": "python",
   "pygments_lexer": "ipython3",
   "version": "3.13.1"
  }
 },
 "nbformat": 4,
 "nbformat_minor": 5
}
