{
 "cells": [
  {
   "cell_type": "markdown",
   "id": "ed1fc38e-b698-4e9e-b541-0a1bc883e1ad",
   "metadata": {},
   "source": [
    "# 패키지"
   ]
  },
  {
   "cell_type": "markdown",
   "id": "54fdb65a-b062-4b7a-9bf0-9237f5337174",
   "metadata": {},
   "source": [
    "## 패키지 만들기"
   ]
  },
  {
   "cell_type": "code",
   "execution_count": 4,
   "id": "6c141aa6-ce5a-44ca-9a1a-7ca3372d8ed7",
   "metadata": {},
   "outputs": [
    {
     "name": "stdout",
     "output_type": "stream",
     "text": [
      "Microsoft Windows [Version 10.0.26100.3194]\n",
      "(c) Microsoft Corporation. All rights reserved.\n",
      "\n",
      "JH\\code>set PYTHONPATH=D:\\\\kjh\\\\code\\\\game\n",
      "\n",
      "D:\\KJH\\code>"
     ]
    }
   ],
   "source": [
    "%%cmd\n",
    "set PYTHONPATH=D:\\\\kjh\\\\code\\\\game"
   ]
  },
  {
   "cell_type": "code",
   "execution_count": 7,
   "id": "d6e7de5b-0659-4686-806a-1a5aed7c85d0",
   "metadata": {},
   "outputs": [
    {
     "name": "stdout",
     "output_type": "stream",
     "text": [
      "에코\n",
      "랜더링\n"
     ]
    }
   ],
   "source": [
    "# 테스트 1 명시적이다. 그러나 길다.\n",
    "import game.sound.echo\n",
    "import game.graphic.render\n",
    "game.sound.echo.echo_test()\n",
    "game.graphic.render.render_test()"
   ]
  },
  {
   "cell_type": "code",
   "execution_count": 13,
   "id": "70da3283-b7fd-4345-86f5-f28d16cfb4b5",
   "metadata": {},
   "outputs": [
    {
     "name": "stdout",
     "output_type": "stream",
     "text": [
      "비디오 에코\n",
      "에코\n"
     ]
    }
   ],
   "source": [
    "# 짧지만 중복의 위험이 있다. 그리고 명시적이진 않다.\n",
    "from game.echo_v import echo_test as ev\n",
    "from game.echo import echo_test as e\n",
    "\n",
    "ev()\n",
    "e()"
   ]
  },
  {
   "cell_type": "code",
   "execution_count": null,
   "id": "8a47b972-aaa8-4640-86e4-496a83ec1ff3",
   "metadata": {},
   "outputs": [],
   "source": [
    "from game import graphic , sound\n",
    "graphic.echo.echo_test()"
   ]
  },
  {
   "cell_type": "code",
   "execution_count": 3,
   "id": "3594e36e-8ff7-4863-a539-8e7462197e54",
   "metadata": {},
   "outputs": [
    {
     "name": "stdout",
     "output_type": "stream",
     "text": [
      "3.6\n",
      "The version of this game is 3.6\n"
     ]
    }
   ],
   "source": [
    "# __init__.py 사용하기\n",
    "import game\n",
    "print(game.VERSION)\n",
    "game.print_version_info()"
   ]
  },
  {
   "cell_type": "code",
   "execution_count": 1,
   "id": "f6040188-8eb8-4c1b-9c69-dcb63f6f5da1",
   "metadata": {},
   "outputs": [
    {
     "name": "stdout",
     "output_type": "stream",
     "text": [
      "Initializing Game...\n"
     ]
    }
   ],
   "source": [
    "# __init__.py 한번만 로드됨\n",
    "import game"
   ]
  },
  {
   "cell_type": "code",
   "execution_count": 2,
   "id": "b4751125-836b-4c78-98bc-3c02007bd6fe",
   "metadata": {},
   "outputs": [
    {
     "name": "stdout",
     "output_type": "stream",
     "text": [
      "랜더링\n"
     ]
    }
   ],
   "source": [
    "# __init__.py 패키지내에 내 모듈을 미리 import 할 수 있다\n",
    "game.render_test()"
   ]
  },
  {
   "cell_type": "code",
   "execution_count": 3,
   "id": "d618107e-88fc-4af3-988b-8f8f0ec29a22",
   "metadata": {},
   "outputs": [],
   "source": [
    "import game.graphic"
   ]
  },
  {
   "cell_type": "code",
   "execution_count": 4,
   "id": "2083ae67-e1fd-476e-bb54-a244e9feacb5",
   "metadata": {},
   "outputs": [
    {
     "name": "stdout",
     "output_type": "stream",
     "text": [
      "The version of this graphic of game is 3.7\n"
     ]
    }
   ],
   "source": [
    "game.graphic.print_version_info()"
   ]
  },
  {
   "cell_type": "code",
   "execution_count": 1,
   "id": "03420f53-610d-4f93-a9bd-a52d3636d3c5",
   "metadata": {},
   "outputs": [
    {
     "name": "stdout",
     "output_type": "stream",
     "text": [
      "Initializing Game...\n"
     ]
    }
   ],
   "source": [
    "# __all__ 사용하기\n",
    "from game.graphic import *"
   ]
  },
  {
   "cell_type": "code",
   "execution_count": 2,
   "id": "29dae8d3-2e1f-4f11-9e4b-e4ec1e55125c",
   "metadata": {},
   "outputs": [
    {
     "name": "stdout",
     "output_type": "stream",
     "text": [
      "비디오 에코\n"
     ]
    }
   ],
   "source": [
    "echo.echo_test()"
   ]
  },
  {
   "cell_type": "code",
   "execution_count": 1,
   "id": "63d8459a-f1cc-44b2-8304-4f6da41206d6",
   "metadata": {},
   "outputs": [
    {
     "name": "stdout",
     "output_type": "stream",
     "text": [
      "Initializing Game...\n"
     ]
    }
   ],
   "source": [
    "# relative 패키지\n",
    "from game.graphic.render import render_test\n"
   ]
  },
  {
   "cell_type": "code",
   "execution_count": 2,
   "id": "744e3380-ca2b-4016-91cb-f50bf475d7f7",
   "metadata": {},
   "outputs": [
    {
     "name": "stdout",
     "output_type": "stream",
     "text": [
      "랜더링\n",
      "에코\n"
     ]
    }
   ],
   "source": [
    "# 비디오\n",
    "render_test()"
   ]
  },
  {
   "cell_type": "markdown",
   "id": "74fae5cb-4af0-4088-881a-caa80002ed0c",
   "metadata": {},
   "source": [
    "# 예외 처리"
   ]
  },
  {
   "cell_type": "markdown",
   "id": "56916958-d05c-4f69-86eb-cf885c8f99cc",
   "metadata": {},
   "source": [
    "## 오류발생\n",
    " - 오타\n",
    " - 존재 하지않는 파일을 지정 또는 사용\n",
    " - 문법 오류\n",
    " - 수학적오류\n",
    " - 인덱스 오류\n",
    "## 오류 예외 처리 기법\n",
    " - try-except 문\n",
    " - try-finally 문\n",
    " - 여러개의 오류 처리\n",
    " - try-else 문"
   ]
  },
  {
   "cell_type": "code",
   "execution_count": 3,
   "id": "698b40df-1492-4d75-9960-8d20794e5265",
   "metadata": {},
   "outputs": [
    {
     "ename": "FileNotFoundError",
     "evalue": "[Errno 2] No such file or directory: '뜬금파일'",
     "output_type": "error",
     "traceback": [
      "\u001b[1;31m---------------------------------------------------------------------------\u001b[0m",
      "\u001b[1;31mFileNotFoundError\u001b[0m                         Traceback (most recent call last)",
      "Cell \u001b[1;32mIn[3], line 1\u001b[0m\n\u001b[1;32m----> 1\u001b[0m f \u001b[38;5;241m=\u001b[39m \u001b[38;5;28;43mopen\u001b[39;49m\u001b[43m(\u001b[49m\u001b[38;5;124;43m'\u001b[39;49m\u001b[38;5;124;43m뜬금파일\u001b[39;49m\u001b[38;5;124;43m'\u001b[39;49m\u001b[43m,\u001b[49m\u001b[38;5;124;43m'\u001b[39;49m\u001b[38;5;124;43mr\u001b[39;49m\u001b[38;5;124;43m'\u001b[39;49m\u001b[43m)\u001b[49m\n",
      "File \u001b[1;32m~\\AppData\\Local\\Programs\\Python\\Python313\\Lib\\site-packages\\IPython\\core\\interactiveshell.py:324\u001b[0m, in \u001b[0;36m_modified_open\u001b[1;34m(file, *args, **kwargs)\u001b[0m\n\u001b[0;32m    317\u001b[0m \u001b[38;5;28;01mif\u001b[39;00m file \u001b[38;5;129;01min\u001b[39;00m {\u001b[38;5;241m0\u001b[39m, \u001b[38;5;241m1\u001b[39m, \u001b[38;5;241m2\u001b[39m}:\n\u001b[0;32m    318\u001b[0m     \u001b[38;5;28;01mraise\u001b[39;00m \u001b[38;5;167;01mValueError\u001b[39;00m(\n\u001b[0;32m    319\u001b[0m         \u001b[38;5;124mf\u001b[39m\u001b[38;5;124m\"\u001b[39m\u001b[38;5;124mIPython won\u001b[39m\u001b[38;5;124m'\u001b[39m\u001b[38;5;124mt let you open fd=\u001b[39m\u001b[38;5;132;01m{\u001b[39;00mfile\u001b[38;5;132;01m}\u001b[39;00m\u001b[38;5;124m by default \u001b[39m\u001b[38;5;124m\"\u001b[39m\n\u001b[0;32m    320\u001b[0m         \u001b[38;5;124m\"\u001b[39m\u001b[38;5;124mas it is likely to crash IPython. If you know what you are doing, \u001b[39m\u001b[38;5;124m\"\u001b[39m\n\u001b[0;32m    321\u001b[0m         \u001b[38;5;124m\"\u001b[39m\u001b[38;5;124myou can use builtins\u001b[39m\u001b[38;5;124m'\u001b[39m\u001b[38;5;124m open.\u001b[39m\u001b[38;5;124m\"\u001b[39m\n\u001b[0;32m    322\u001b[0m     )\n\u001b[1;32m--> 324\u001b[0m \u001b[38;5;28;01mreturn\u001b[39;00m \u001b[43mio_open\u001b[49m\u001b[43m(\u001b[49m\u001b[43mfile\u001b[49m\u001b[43m,\u001b[49m\u001b[43m \u001b[49m\u001b[38;5;241;43m*\u001b[39;49m\u001b[43margs\u001b[49m\u001b[43m,\u001b[49m\u001b[43m \u001b[49m\u001b[38;5;241;43m*\u001b[39;49m\u001b[38;5;241;43m*\u001b[39;49m\u001b[43mkwargs\u001b[49m\u001b[43m)\u001b[49m\n",
      "\u001b[1;31mFileNotFoundError\u001b[0m: [Errno 2] No such file or directory: '뜬금파일'"
     ]
    }
   ],
   "source": [
    "# f = open('뜬금파일','r')"
   ]
  },
  {
   "cell_type": "code",
   "execution_count": null,
   "id": "9e036981-4a6b-463f-949c-52cb310c3d74",
   "metadata": {},
   "outputs": [],
   "source": [
    "# 4/0"
   ]
  },
  {
   "cell_type": "code",
   "execution_count": 4,
   "id": "6a195849-124e-4b66-a9c3-4657af4220de",
   "metadata": {},
   "outputs": [
    {
     "ename": "SyntaxError",
     "evalue": "invalid syntax (632198228.py, line 3)",
     "output_type": "error",
     "traceback": [
      "\u001b[1;36m  Cell \u001b[1;32mIn[4], line 3\u001b[1;36m\u001b[0m\n\u001b[1;33m    IndexError: list index ouf of range\u001b[0m\n\u001b[1;37m                     ^\u001b[0m\n\u001b[1;31mSyntaxError\u001b[0m\u001b[1;31m:\u001b[0m invalid syntax\n"
     ]
    }
   ],
   "source": [
    "a = [1,2,3]\n",
    "print(a[7])\n",
    "IndexError: list index ouf of range"
   ]
  },
  {
   "cell_type": "code",
   "execution_count": 6,
   "id": "072b972c-c0ca-49e1-8cf7-49bbe27749f4",
   "metadata": {},
   "outputs": [
    {
     "name": "stdout",
     "output_type": "stream",
     "text": [
      "알고있었지롱\n",
      "[Errno 2] No such file or directory: '뜬금파일'\n",
      "코드 작성을 마칩니다.\n"
     ]
    }
   ],
   "source": [
    "try:\n",
    "    f = open('뜬금파일','r')\n",
    "except FileNotFoundError as e:\n",
    "    if e:\n",
    "        print(\"알고있었지롱\")\n",
    "    print(e)\n",
    "finally:\n",
    "    print(\"코드 작성을 마칩니다.\")"
   ]
  },
  {
   "cell_type": "code",
   "execution_count": 7,
   "id": "ee6a2905-9cac-478b-b076-31783167fde7",
   "metadata": {},
   "outputs": [
    {
     "name": "stdout",
     "output_type": "stream",
     "text": [
      "0으로 나눌 수 없어요\n"
     ]
    }
   ],
   "source": [
    "try:\n",
    "    4/0\n",
    "except:\n",
    "    print('0으로 나눌 수 없어요')"
   ]
  },
  {
   "cell_type": "code",
   "execution_count": 8,
   "id": "1fdc7703-44c1-4dbb-8d0d-213326845f40",
   "metadata": {},
   "outputs": [
    {
     "name": "stdout",
     "output_type": "stream",
     "text": [
      "0으로 나누지마세요\n"
     ]
    }
   ],
   "source": [
    "# try-except-finally 3단계도 가능, finally는 에러가 나도 무조건 처리하는 것 (여기서는 파일 닫기)\n",
    "try:\n",
    "    f = open('foo.txt','w')\n",
    "    f.write(4/0)\n",
    "except:\n",
    "    print(\"0으로 나누지마세요\")\n",
    "finally:\n",
    "    f.close()"
   ]
  },
  {
   "cell_type": "code",
   "execution_count": 9,
   "id": "779f6c12-06aa-4c88-8fb2-68b48611cf3c",
   "metadata": {},
   "outputs": [
    {
     "name": "stdout",
     "output_type": "stream",
     "text": [
      "tuple index out of range\n"
     ]
    }
   ],
   "source": [
    "# 2개이상의 오류를 동일하게 처리 테스트하기\n",
    "try:\n",
    "    a = 1,2\n",
    "    print(a[512])\n",
    "    4/0\n",
    "except ZeroDivisionError:\n",
    "    print(\"0으로 나누지 마세요\")\n",
    "except IndexError as e:\n",
    "    print(e)"
   ]
  },
  {
   "cell_type": "code",
   "execution_count": 15,
   "id": "57f60a94-a55b-4ef1-a202-b13153af954a",
   "metadata": {},
   "outputs": [
    {
     "name": "stdin",
     "output_type": "stream",
     "text": [
      "나이를 입력하세요 22\n"
     ]
    },
    {
     "name": "stdout",
     "output_type": "stream",
     "text": [
      "환영합니다.\n",
      "===\n",
      "분석끝.\n"
     ]
    }
   ],
   "source": [
    "# try-else 문\n",
    "try:\n",
    "    age = int(input(\"나이를 입력하세요\"))\n",
    "except:\n",
    "    print(\"입력이 정확하지 않습니다.\")\n",
    "else:\n",
    "    if age <= 18:\n",
    "        print(\"미성년자는 출입금지\")\n",
    "    else:\n",
    "        print(\"환영합니다.\")\n",
    "finally:\n",
    "    print(\"=\"*3+\"\\n분석끝.\")"
   ]
  },
  {
   "cell_type": "code",
   "execution_count": 16,
   "id": "3442bbd8-0c5f-4d40-a6dc-bc2e53eda522",
   "metadata": {},
   "outputs": [
    {
     "name": "stdout",
     "output_type": "stream",
     "text": [
      "반가워\n"
     ]
    }
   ],
   "source": [
    "# 오류 회피하기\n",
    "try:\n",
    "    print('반가워')\n",
    "    f=open('없는파일','r') # 이 에러지점부터 이후로는 처리안함.\n",
    "    print('안녕')\n",
    "except FileNotFoundError:\n",
    "    pass"
   ]
  },
  {
   "cell_type": "code",
   "execution_count": null,
   "id": "aa08a8c6-5b88-4d06-99be-74021c679832",
   "metadata": {},
   "outputs": [],
   "source": [
    "# 테스트\n",
    "inp = int(input(\"13보다 큰 수를 입력하세요.\"))\n",
    "if 13 < inp:\n",
    "    print(\"크다\")\n",
    "else:\n",
    "    raise NotImplementedError"
   ]
  },
  {
   "cell_type": "code",
   "execution_count": 6,
   "id": "26782b04-736f-46d3-bda6-f821a15655a4",
   "metadata": {
    "scrolled": true
   },
   "outputs": [
    {
     "data": {
      "text/plain": [
       "<bound method Eagle.fly of <__main__.Eagle object at 0x000001C2950312B0>>"
      ]
     },
     "execution_count": 6,
     "metadata": {},
     "output_type": "execute_result"
    }
   ],
   "source": [
    "# 오류 일부러 발생시키기 (클래스 상속기반)\n",
    "class Bird:\n",
    "    def fly(self):\n",
    "        raise  NotImplementedError\n",
    "\n",
    "class Eagle(Bird):\n",
    "    # pass\n",
    "    def fly(self):\n",
    "        print(\"난 독수리다\")\n",
    "\n",
    "eagle = Eagle()\n",
    "eagle.fly"
   ]
  },
  {
   "cell_type": "code",
   "execution_count": null,
   "id": "cc24e976-02ad-45ad-8e67-f2e2506bd2d8",
   "metadata": {},
   "outputs": [],
   "source": [
    "class MyError(Exception):\n",
    "    "
   ]
  },
  {
   "cell_type": "code",
   "execution_count": 7,
   "id": "90f610fa-89d4-4d27-a477-53ecec5b08ef",
   "metadata": {},
   "outputs": [
    {
     "ename": "NameError",
     "evalue": "name 'nick' is not defined",
     "output_type": "error",
     "traceback": [
      "\u001b[1;31m---------------------------------------------------------------------------\u001b[0m",
      "\u001b[1;31mNameError\u001b[0m                                 Traceback (most recent call last)",
      "Cell \u001b[1;32mIn[7], line 4\u001b[0m\n\u001b[0;32m      2\u001b[0m     \u001b[38;5;28;01mif\u001b[39;00m nick \u001b[38;5;241m==\u001b[39m \u001b[38;5;124m'\u001b[39m\u001b[38;5;124m바보\u001b[39m\u001b[38;5;124m'\u001b[39m:\n\u001b[0;32m      3\u001b[0m         \u001b[38;5;28;01mraise\u001b[39;00m MyError()\n\u001b[1;32m----> 4\u001b[0m \u001b[38;5;28mprint\u001b[39m(\u001b[43mnick\u001b[49m)\n",
      "\u001b[1;31mNameError\u001b[0m: name 'nick' is not defined"
     ]
    }
   ],
   "source": [
    "def say_nick(nick):\n",
    "    if nick == '바보':\n",
    "        raise MyError()\n",
    "print(nick)"
   ]
  },
  {
   "cell_type": "code",
   "execution_count": null,
   "id": "ccadb2f6-291a-4ed4-a7f9-d7251ba8ead3",
   "metadata": {},
   "outputs": [],
   "source": [
    "say_nick(\"바보\")"
   ]
  },
  {
   "cell_type": "code",
   "execution_count": null,
   "id": "414b54e5-502b-4b42-9a8c-07bb1843c6fa",
   "metadata": {},
   "outputs": [],
   "source": [
    "try:\n",
    "    say_nick(\"천사\")\n",
    "    say_nick(\"바보\")\n",
    "except MyError as e:\n",
    "    print(\"욕하지마 바보아냐, 그래도 사람은 착해\", e)"
   ]
  },
  {
   "cell_type": "code",
   "execution_count": null,
   "id": "9c263890-4230-4b98-b0cb-bdddde8bd9bc",
   "metadata": {},
   "outputs": [],
   "source": [
    "class MyError(Exception):\n",
    "    def __str__(self):\n",
    "        return \"욕하지마 그래도 사람은 착해\""
   ]
  }
 ],
 "metadata": {
  "kernelspec": {
   "display_name": "Python 3 (ipykernel)",
   "language": "python",
   "name": "python3"
  },
  "language_info": {
   "codemirror_mode": {
    "name": "ipython",
    "version": 3
   },
   "file_extension": ".py",
   "mimetype": "text/x-python",
   "name": "python",
   "nbconvert_exporter": "python",
   "pygments_lexer": "ipython3",
   "version": "3.13.1"
  }
 },
 "nbformat": 4,
 "nbformat_minor": 5
}
