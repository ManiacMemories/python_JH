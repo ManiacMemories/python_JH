{
 "cells": [
  {
   "cell_type": "markdown",
   "id": "6aeb3e26-00c9-41df-8ebe-a125e3df2640",
   "metadata": {},
   "source": [
    "# 모듈"
   ]
  },
  {
   "cell_type": "code",
   "execution_count": 1,
   "id": "ff5dc36e-118e-4813-81de-3592e3bd8bf2",
   "metadata": {},
   "outputs": [],
   "source": [
    "# 모듈 만들기\n",
    "# def add(a, b):\n",
    "#     return a + b\n",
    "# def sub(a, b):\n",
    "#     return a - b"
   ]
  },
  {
   "cell_type": "code",
   "execution_count": 2,
   "id": "a5542ece-e1ca-4702-a483-28b73d595571",
   "metadata": {},
   "outputs": [
    {
     "ename": "NameError",
     "evalue": "name 'add' is not defined",
     "output_type": "error",
     "traceback": [
      "\u001b[1;31m---------------------------------------------------------------------------\u001b[0m",
      "\u001b[1;31mNameError\u001b[0m                                 Traceback (most recent call last)",
      "Cell \u001b[1;32mIn[2], line 1\u001b[0m\n\u001b[1;32m----> 1\u001b[0m \u001b[43madd\u001b[49m(\u001b[38;5;241m11\u001b[39m,\u001b[38;5;241m22\u001b[39m)\n",
      "\u001b[1;31mNameError\u001b[0m: name 'add' is not defined"
     ]
    }
   ],
   "source": [
    "add(11,22)"
   ]
  },
  {
   "cell_type": "code",
   "execution_count": 4,
   "id": "45efea03-c148-4356-84ee-93acb14c9d64",
   "metadata": {},
   "outputs": [
    {
     "name": "stdout",
     "output_type": "stream",
     "text": [
      "33\n",
      "11\n"
     ]
    }
   ],
   "source": [
    "import mod1\n",
    "print(mod1.add(11, 22))\n",
    "print(mod1.sub(33, 22))"
   ]
  },
  {
   "cell_type": "code",
   "execution_count": 5,
   "id": "899018a3-23bd-4bb6-9f0c-c2d9b285a3bd",
   "metadata": {},
   "outputs": [],
   "source": [
    "with open(\"mod2.py\", \"w\") as f:\n",
    "    data = \"\"\"\n",
    "    def mul(a,b):\n",
    "        return a*b\n",
    "    def div(a,b):\n",
    "        return a/b\n",
    "    \"\"\"\n",
    "    f.write(data)"
   ]
  },
  {
   "cell_type": "code",
   "execution_count": 9,
   "id": "e26bdb9a-27df-443b-955e-99d016a1f312",
   "metadata": {},
   "outputs": [
    {
     "name": "stdout",
     "output_type": "stream",
     "text": [
      "33\n",
      "11\n",
      "12\n",
      "2.0\n"
     ]
    }
   ],
   "source": [
    "import mod1,mod2\n",
    "print(mod1.add(11, 22))\n",
    "print(mod1.sub(33, 22))\n",
    "print(mod2.mul(3, 4))\n",
    "print(mod2.div(8, 4))"
   ]
  },
  {
   "cell_type": "code",
   "execution_count": 1,
   "id": "8de32834-824d-41ef-ba82-65449c90953a",
   "metadata": {},
   "outputs": [
    {
     "name": "stdout",
     "output_type": "stream",
     "text": [
      "33\n",
      "11\n",
      "12\n",
      "2.0\n"
     ]
    }
   ],
   "source": [
    "# import mod1 as m1\n",
    "# import mod2 as m2\n",
    "import mod1 as m1, mod2 as m2\n",
    "\n",
    "print(m1.add(11, 22))\n",
    "print(m1.sub(33, 22))\n",
    "print(m2.mul(3, 4))\n",
    "print(m2.div(8, 4))"
   ]
  },
  {
   "cell_type": "code",
   "execution_count": 2,
   "id": "fc06a536-3665-4b8a-b7b4-1ec8b2c0bb0f",
   "metadata": {},
   "outputs": [
    {
     "name": "stdout",
     "output_type": "stream",
     "text": [
      "77\n"
     ]
    }
   ],
   "source": [
    "from mod1 import add, sub\n",
    "print(add(33, 44))"
   ]
  },
  {
   "cell_type": "code",
   "execution_count": 3,
   "id": "7e600de8-4c1e-4f46-9143-82efa92d72c0",
   "metadata": {},
   "outputs": [
    {
     "name": "stdout",
     "output_type": "stream",
     "text": [
      "20\n"
     ]
    }
   ],
   "source": [
    "from mod2 import *\n",
    "print(mul(4,5))"
   ]
  },
  {
   "cell_type": "code",
   "execution_count": 4,
   "id": "d3f86318-b0d0-4965-bd19-6df049b47c9b",
   "metadata": {},
   "outputs": [
    {
     "name": "stdout",
     "output_type": "stream",
     "text": [
      "20\n"
     ]
    }
   ],
   "source": [
    "from mod2 import *\n",
    "print(mul(4,5))"
   ]
  },
  {
   "cell_type": "markdown",
   "id": "60370fcc-ca14-4c71-b073-fe98fc2a6d9e",
   "metadata": {},
   "source": [
    "## `__main__`의 의미"
   ]
  },
  {
   "cell_type": "code",
   "execution_count": 1,
   "id": "e4892f91-de92-497e-b3e4-92908f6ae2e3",
   "metadata": {},
   "outputs": [],
   "source": [
    "with open(\"mod1.py\",\"a\") as f:\n",
    "    text = \"\"\"\n",
    "print(add(1,4))\n",
    "print(sub(4,2))\"\"\"\n",
    "    f.write(text)"
   ]
  },
  {
   "cell_type": "markdown",
   "id": "64d4c995-4233-44f9-bcc1-b6209cfd9b67",
   "metadata": {},
   "source": [
    " - %%cmd : 윈도우\n",
    " - %%bash : 리눅스"
   ]
  },
  {
   "cell_type": "code",
   "execution_count": 7,
   "id": "beb1c3f9-dd81-4fa6-bdd1-2633a7818d28",
   "metadata": {},
   "outputs": [
    {
     "name": "stdout",
     "output_type": "stream",
     "text": [
      "Microsoft Windows [Version 10.0.26100.2894]\n",
      "(c) Microsoft Corporation. All rights reserved.\n",
      "\n",
      "JH\\code>python mod1.py\n",
      "5\n",
      "2\n",
      "__main__\n",
      "�� ���Ϸ� ������ �Ǿ����.\n",
      "\n",
      "D:\\KJH\\code>"
     ]
    }
   ],
   "source": [
    "%%cmd\n",
    "python mod1.py"
   ]
  },
  {
   "cell_type": "code",
   "execution_count": 8,
   "id": "37883c08-528a-4821-aa11-08eacc7a6e0a",
   "metadata": {
    "scrolled": true
   },
   "outputs": [
    {
     "data": {
      "text/plain": [
       "['__builtins__',\n",
       " '__cached__',\n",
       " '__doc__',\n",
       " '__file__',\n",
       " '__loader__',\n",
       " '__name__',\n",
       " '__package__',\n",
       " '__spec__',\n",
       " 'add',\n",
       " 'sub']"
      ]
     },
     "execution_count": 8,
     "metadata": {},
     "output_type": "execute_result"
    }
   ],
   "source": [
    "import mod1\n",
    "dir(mod1)"
   ]
  },
  {
   "cell_type": "code",
   "execution_count": 8,
   "id": "1a1020dc-675e-45bd-8c18-8452251d2931",
   "metadata": {},
   "outputs": [],
   "source": [
    "with open(\"stock1.py\", \"w\",encoding=\"utf-8\") as f:\n",
    "    stock = \"\"\"\n",
    "    \n",
    "import requests as req\n",
    "\n",
    "\n",
    "url = \"https://finance.naver.com/sise/sise_market_sum.naver\"\n",
    "web = req.get(url)\n",
    "html = web.text\n",
    "# print(html)\n",
    "def sam(jong='삼성전자'):\n",
    "    f1 = html.find(jong)\n",
    "    return(f'{jong} : ' +html[f1:f1+100][19:50].replace('<td class=\"number\">',\"\").replace('</td>',\"\").replace('\\n',\"\") + \"원\")\n",
    "\n",
    "def kia(jong='기아'):\n",
    "    f2 = html.find(jong)\n",
    "    return(f'{jong} : ' +html[f2:f2+100][17:50].replace('<td class=\"number\">',\"\").replace('</td>',\"\").replace('\\n',\"\").replace('\\t',\"\") + \"원\")\n",
    "\n",
    "if __name__==\"__main__\":\n",
    "    name = input(\"종목을 입력하세요 : \")\n",
    "    if name == \"삼성전자\":\n",
    "        print(sam())\n",
    "        print(\"전 파일로 실행이 되었어요.\")\n",
    "    elif name == \"기아\":\n",
    "        print(kia())\n",
    "        print(\"전 파일로 실행이 되었어요.\")\n",
    "else:\n",
    "    print(\"전 모듈로 임포트 되었어요.\")\n",
    "    \n",
    "    \n",
    "    \"\"\"\n",
    "    f.write(stock)\n"
   ]
  },
  {
   "cell_type": "code",
   "execution_count": 1,
   "id": "fe6a4add-bf7f-436f-a560-5e1157e2f3e3",
   "metadata": {},
   "outputs": [
    {
     "name": "stdout",
     "output_type": "stream",
     "text": [
      "전 모듈로 임포트 되었어요.\n"
     ]
    }
   ],
   "source": [
    "import stock"
   ]
  },
  {
   "cell_type": "markdown",
   "id": "cb61109a-1a71-4f24-b42b-20540ef0c01e",
   "metadata": {},
   "source": [
    "## 클래스나 변수등을 포함한 모듈"
   ]
  },
  {
   "cell_type": "code",
   "execution_count": 13,
   "id": "efeb3993-dcbf-4a38-9826-b91744472b82",
   "metadata": {},
   "outputs": [],
   "source": [
    "with open(\"mod3.py\",\"w\") as f:\n",
    "    text = \"\"\"PI = 3.141592\\n\\nclass Math:\\n\\tdef solve(self,r):\\n\\t\\treturn PI * (r**2)\\n\\ndef add(a,b):\\n\\treturn a+b\"\"\"\n",
    "    f.write(text)"
   ]
  },
  {
   "cell_type": "code",
   "execution_count": 2,
   "id": "5cf835e9-1b6f-4658-a98d-83dcf70f4244",
   "metadata": {
    "scrolled": true
   },
   "outputs": [
    {
     "name": "stdout",
     "output_type": "stream",
     "text": [
      "Microsoft Windows [Version 10.0.26100.2894]\n",
      "(c) Microsoft Corporation. All rights reserved.\n",
      "\n",
      "JH\\code>set PYTHONPATH=D:\\\\kjh\\\\code\n",
      "\n",
      "D:\\KJH\\code>"
     ]
    }
   ],
   "source": [
    "%%cmd\n",
    "set PYTHONPATH=D:\\\\kjh\\\\code"
   ]
  },
  {
   "cell_type": "markdown",
   "id": "9e016362-85e2-4e20-af62-12b19be833ed",
   "metadata": {},
   "source": [
    " - CMD set PYTHONPATH=D:\\kjh\\code\\mymod\n",
    " - PS $env:PYTHONPATH=\"D:\\kjh\\code\\mymod\""
   ]
  },
  {
   "cell_type": "code",
   "execution_count": 1,
   "id": "a14faa25-4c8d-401a-93da-9461d2c9c46f",
   "metadata": {},
   "outputs": [
    {
     "ename": "ModuleNotFoundError",
     "evalue": "No module named 'mod3'",
     "output_type": "error",
     "traceback": [
      "\u001b[1;31m---------------------------------------------------------------------------\u001b[0m",
      "\u001b[1;31mModuleNotFoundError\u001b[0m                       Traceback (most recent call last)",
      "Cell \u001b[1;32mIn[1], line 1\u001b[0m\n\u001b[1;32m----> 1\u001b[0m \u001b[38;5;28;01mimport\u001b[39;00m\u001b[38;5;250m \u001b[39m\u001b[38;5;21;01mmod3\u001b[39;00m\n\u001b[0;32m      2\u001b[0m \u001b[38;5;66;03m# 변수\u001b[39;00m\n\u001b[0;32m      3\u001b[0m \u001b[38;5;28mprint\u001b[39m(mod3\u001b[38;5;241m.\u001b[39mPI)\n",
      "\u001b[1;31mModuleNotFoundError\u001b[0m: No module named 'mod3'"
     ]
    }
   ],
   "source": [
    "import mod3\n",
    "# 변수\n",
    "print(mod3.PI)\n",
    "\n",
    "# 클래스\n",
    "a = mod3.Math()\n",
    "print(a.solve(10))\n",
    "\n",
    "# 함수\n",
    "print(mod3.add(mod3.PI, 4.4))"
   ]
  },
  {
   "cell_type": "markdown",
   "id": "fc77948d-432d-431e-a958-6c367645c5f5",
   "metadata": {},
   "source": [
    "## 다른 디렉토리에 있는 모듈 불러오는 방법"
   ]
  },
  {
   "cell_type": "code",
   "execution_count": 3,
   "id": "ca2053b6-bcf0-41ad-8e5d-6525bf5f9522",
   "metadata": {},
   "outputs": [
    {
     "data": {
      "text/plain": [
       "['C:\\\\Users\\\\Admin\\\\AppData\\\\Local\\\\Programs\\\\Python\\\\Python313\\\\python313.zip',\n",
       " 'C:\\\\Users\\\\Admin\\\\AppData\\\\Local\\\\Programs\\\\Python\\\\Python313\\\\DLLs',\n",
       " 'C:\\\\Users\\\\Admin\\\\AppData\\\\Local\\\\Programs\\\\Python\\\\Python313\\\\Lib',\n",
       " 'C:\\\\Users\\\\Admin\\\\AppData\\\\Local\\\\Programs\\\\Python\\\\Python313',\n",
       " '',\n",
       " 'C:\\\\Users\\\\Admin\\\\AppData\\\\Local\\\\Programs\\\\Python\\\\Python313\\\\Lib\\\\site-packages',\n",
       " 'C:\\\\Users\\\\Admin\\\\AppData\\\\Local\\\\Programs\\\\Python\\\\Python313\\\\Lib\\\\site-packages\\\\win32',\n",
       " 'C:\\\\Users\\\\Admin\\\\AppData\\\\Local\\\\Programs\\\\Python\\\\Python313\\\\Lib\\\\site-packages\\\\win32\\\\lib',\n",
       " 'C:\\\\Users\\\\Admin\\\\AppData\\\\Local\\\\Programs\\\\Python\\\\Python313\\\\Lib\\\\site-packages\\\\Pythonwin',\n",
       " 'D:\\\\kjh\\\\code\\\\mymod']"
      ]
     },
     "execution_count": 3,
     "metadata": {},
     "output_type": "execute_result"
    }
   ],
   "source": [
    "import sys\n",
    "sys.path"
   ]
  },
  {
   "cell_type": "code",
   "execution_count": 2,
   "id": "a8748d4f-dff2-41c1-bf91-3b35e82286b9",
   "metadata": {},
   "outputs": [
    {
     "data": {
      "text/plain": [
       "['C:\\\\Users\\\\Admin\\\\AppData\\\\Local\\\\Programs\\\\Python\\\\Python313\\\\python313.zip',\n",
       " 'C:\\\\Users\\\\Admin\\\\AppData\\\\Local\\\\Programs\\\\Python\\\\Python313\\\\DLLs',\n",
       " 'C:\\\\Users\\\\Admin\\\\AppData\\\\Local\\\\Programs\\\\Python\\\\Python313\\\\Lib',\n",
       " 'C:\\\\Users\\\\Admin\\\\AppData\\\\Local\\\\Programs\\\\Python\\\\Python313',\n",
       " '',\n",
       " 'C:\\\\Users\\\\Admin\\\\AppData\\\\Local\\\\Programs\\\\Python\\\\Python313\\\\Lib\\\\site-packages',\n",
       " 'C:\\\\Users\\\\Admin\\\\AppData\\\\Local\\\\Programs\\\\Python\\\\Python313\\\\Lib\\\\site-packages\\\\win32',\n",
       " 'C:\\\\Users\\\\Admin\\\\AppData\\\\Local\\\\Programs\\\\Python\\\\Python313\\\\Lib\\\\site-packages\\\\win32\\\\lib',\n",
       " 'C:\\\\Users\\\\Admin\\\\AppData\\\\Local\\\\Programs\\\\Python\\\\Python313\\\\Lib\\\\site-packages\\\\Pythonwin',\n",
       " 'D:\\\\kjh\\\\code\\\\mymod']"
      ]
     },
     "execution_count": 2,
     "metadata": {},
     "output_type": "execute_result"
    }
   ],
   "source": [
    "sys.path.append('D:\\\\kjh\\\\code\\\\mymod')\n",
    "sys.path"
   ]
  },
  {
   "cell_type": "code",
   "execution_count": 4,
   "id": "c292877f-216e-408a-910f-0450d0d68b7c",
   "metadata": {},
   "outputs": [
    {
     "name": "stdout",
     "output_type": "stream",
     "text": [
      "Requirement already satisfied: pip in c:\\users\\admin\\appdata\\local\\programs\\python\\python313\\lib\\site-packages (25.0)\n",
      "Collecting pip\n",
      "  Downloading pip-25.0.1-py3-none-any.whl.metadata (3.7 kB)\n",
      "Downloading pip-25.0.1-py3-none-any.whl (1.8 MB)\n",
      "   ---------------------------------------- 0.0/1.8 MB ? eta -:--:--\n",
      "   ---------------------------------------- 1.8/1.8 MB 52.2 MB/s eta 0:00:00\n",
      "Installing collected packages: pip\n",
      "  Attempting uninstall: pip\n",
      "    Found existing installation: pip 25.0\n",
      "    Uninstalling pip-25.0:\n",
      "      Successfully uninstalled pip-25.0\n",
      "Successfully installed pip-25.0.1\n"
     ]
    }
   ],
   "source": [
    "# !pip install python-dotenv\n",
    "!python.exe -m pip install --upgrade pip"
   ]
  },
  {
   "cell_type": "code",
   "execution_count": 11,
   "id": "1bb4038f-45a5-45d0-b443-0e2d9cfd76af",
   "metadata": {},
   "outputs": [
    {
     "name": "stdout",
     "output_type": "stream",
     "text": [
      "myphone01077777777\n",
      "https://www.google.com\n",
      "이게 될까?? 모르겠어요..!\n"
     ]
    }
   ],
   "source": [
    "from dotenv import load_dotenv\n",
    "import os\n",
    "\n",
    "# .env 파일 로드\n",
    "load_dotenv()\n",
    "\n",
    "SKEY = os.getenv(\"SECRET_KEY\")\n",
    "print(SKEY)\n",
    "DBUG = os.getenv(\"DEBUG\")\n",
    "print(DBUG)\n",
    "TEST = os.getenv(\"TEST\")\n",
    "print(TEST)"
   ]
  },
  {
   "cell_type": "code",
   "execution_count": 13,
   "id": "8b6091ff-5af7-4de5-8df7-cbb306b2bbdb",
   "metadata": {},
   "outputs": [
    {
     "name": "stdout",
     "output_type": "stream",
     "text": [
      "{\n",
      "\t\"lastBuildDate\":\"Thu, 13 Feb 2025 15:50:05 +0900\",\n",
      "\t\"total\":2094072,\n",
      "\t\"start\":1,\n",
      "\t\"display\":5,\n",
      "\t\"items\":[\n",
      "\t\t{\n",
      "\t\t\t\"title\":\"[<b>속보<\\/b>] 넥슨, 2024년 매출 4조원 돌파...`던파 모바일`, `퍼디` 출시 효과\",\n",
      "\t\t\t\"originallink\":\"https:\\/\\/www.dt.co.kr\\/contents.html?article_no=2025021302109931065010&ref=naver\",\n",
      "\t\t\t\"link\":\"https:\\/\\/n.news.naver.com\\/mnews\\/article\\/029\\/0002935267?sid=105\",\n",
      "\t\t\t\"description\":\"2024년 매출 4462억엔, 영업익 1242억엔 넥슨이 '던전앤파이터' 중국, '퍼스트 디센던트' 효과에 따라 2024년 4462억엔, 영업이익 1242억엔을 기록했다고 밝혔다.\",\n",
      "\t\t\t\"pubDate\":\"Thu, 13 Feb 2025 15:48:00 +0900\"\n",
      "\t\t},\n",
      "\t\t{\n",
      "\t\t\t\"title\":\"잔혹한 학대 당하다 동창 살해한 10대…심신미약 수용 2심서 집행유예\",\n",
      "\t\t\t\"originallink\":\"http:\\/\\/www.kado.net\\/news\\/articleView.html?idxno=1293309\",\n",
      "\t\t\t\"link\":\"https:\\/\\/n.news.naver.com\\/mnews\\/article\\/654\\/0000105899?sid=102\",\n",
      "\t\t\t\"description\":\"<b>속보<\\/b>=잔혹한 괴롭힘을 참지 못하고 살인을 저지 10대 피고인(본지 5월 24일자 5면 등)의 심신미약에 대한 주장이 받아들여지면서 2심에서 집행유예로 감형받아 석방됐다. 13일 서울고법 춘천재판부 형사1부(부장판사... \",\n",
      "\t\t\t\"pubDate\":\"Thu, 13 Feb 2025 15:42:00 +0900\"\n",
      "\t\t},\n",
      "\t\t{\n",
      "\t\t\t\"title\":\"[<b>속보<\\/b>] 코스피 1.36% 오른 2583.17 마감...원·달러 환율 1447.5원\",\n",
      "\t\t\t\"originallink\":\"https:\\/\\/www.gukjenews.com\\/news\\/articleView.html?idxno=3201471\",\n",
      "\t\t\t\"link\":\"https:\\/\\/www.gukjenews.com\\/news\\/articleView.html?idxno=3201471\",\n",
      "\t\t\t\"description\":\"원·달러 환율이 13년 6개월만에 1400원을 돌파한 22일 오전 서울 여의도 국민은행 딜링룸 전광판에 환율이 표시되고 있다. 코스피는 전 거래일(2347.21)보다 27.51포인트(1.17%) 내린 2319.70에, 코스닥은 전... \",\n",
      "\t\t\t\"pubDate\":\"Thu, 13 Feb 2025 15:40:00 +0900\"\n",
      "\t\t},\n",
      "\t\t{\n",
      "\t\t\t\"title\":\"[<b>속보<\\/b>] 국힘 윤리위, 尹 제명·탈당 권유 등 징계 않기로 결정\",\n",
      "\t\t\t\"originallink\":\"https:\\/\\/www.busan.com\\/view\\/busan\\/view.php?code=2025021315294691312\",\n",
      "\t\t\t\"link\":\"https:\\/\\/n.news.naver.com\\/mnews\\/article\\/082\\/0001311655?sid=100\",\n",
      "\t\t\t\"description\":\"국민의힘 중앙윤리위원회가 한동훈 전 대표의 요구로 시작된 윤석열 대통령 징계 절차 종결을 선언하고 제명·탈당 권유 등 징계 조치를 하지 않기로 결론을 내렸다. 13일 여의도 당사에서 윤리위 회의를 마친 여상원 당... \",\n",
      "\t\t\t\"pubDate\":\"Thu, 13 Feb 2025 15:40:00 +0900\"\n",
      "\t\t},\n",
      "\t\t{\n",
      "\t\t\t\"title\":\"[<b>속보<\\/b>] 코스피, 34.78p(1.36%) 오른 2583.17 마감\",\n",
      "\t\t\t\"originallink\":\"https:\\/\\/www.ajunews.com\\/view\\/20250213153604105\",\n",
      "\t\t\t\"link\":\"https:\\/\\/www.ajunews.com\\/view\\/20250213153604105\",\n",
      "\t\t\t\"description\":\"아주경제=홍승우 기자 hongscoop@ajunews.com 코스피, 34.78p(1.36%) 오른 2583.17 마감 코스닥, 4.10p(0.55%) 오른 749.28 마감\",\n",
      "\t\t\t\"pubDate\":\"Thu, 13 Feb 2025 15:38:00 +0900\"\n",
      "\t\t}\n",
      "\t]\n",
      "}\n"
     ]
    }
   ],
   "source": [
    "# 네이버 검색 API 예제 - 뉴스 검색\n",
    "import os\n",
    "import sys\n",
    "import urllib.request\n",
    "from dotenv import load_dotenv\n",
    "\n",
    "load_dotenv()\n",
    "client_id = os.environ.get(\"MY_ID\")\n",
    "client_secret = os.environ.get(\"MY_SECRET\")\n",
    "\n",
    "encText = urllib.parse.quote(\"속보\")\n",
    "url = \"https://openapi.naver.com/v1/search/news.json?query=\" + encText + '&display=5&start=1&sort\"sim\"' # JSON 결과\n",
    "# url = \"https://openapi.naver.com/v1/search/blog.xml?query=\" + encText # XML 결과\n",
    "request = urllib.request.Request(url)\n",
    "request.add_header(\"X-Naver-Client-Id\",client_id)\n",
    "request.add_header(\"X-Naver-Client-Secret\",client_secret)\n",
    "response = urllib.request.urlopen(request)\n",
    "rescode = response.getcode()\n",
    "if(rescode==200):\n",
    "    response_body = response.read()\n",
    "    print(response_body.decode('utf-8'))\n",
    "else:\n",
    "    print(\"Error Code:\" + rescode)"
   ]
  },
  {
   "cell_type": "code",
   "execution_count": null,
   "id": "b3a45153-aebc-40f7-8c78-3a027e625be9",
   "metadata": {},
   "outputs": [],
   "source": [
    "# import os\n",
    "# import sys\n",
    "# import urllib.request\n",
    "# from dotenv import load_dotenv\n",
    "\n",
    "# load_dotenv()\n",
    "# client_id = os.environ.get(\"MY_ID\")\n",
    "# client_secret = os.environ.get(\"MY_SECRET\")\n",
    "\n",
    "# args = sys.argv\n",
    "# print(args[1])\n",
    "\n",
    "# def new(category):\n",
    "#     encText = urllib.parse.quote(category)\n",
    "#     url = \"https://openapi.naver.com/v1/search/news.json?query=\" + encText + '&display=5&start=1&sort\"sim\"' # JSON 결과\n",
    "#     # url = \"https://openapi.naver.com/v1/search/blog.xml?query=\" + encText # XML 결과\n",
    "#     request = urllib.request.Request(url)\n",
    "#     request.add_header(\"X-Naver-Client-Id\",client_id)\n",
    "#     request.add_header(\"X-Naver-Client-Secret\",client_secret)\n",
    "#     response = urllib.request.urlopen(request)\n",
    "#     rescode = response.getcode()\n",
    "#     if(rescode==200):\n",
    "#         response_body = response.read()\n",
    "#         print(response_body.decode('utf-8'))\n",
    "#     else:\n",
    "#         print(\"Error Code:\" + rescode)"
   ]
  },
  {
   "cell_type": "code",
   "execution_count": 75,
   "id": "0f8f2be7-0140-4398-ae5b-9e35ec3be7fb",
   "metadata": {},
   "outputs": [
    {
     "name": "stdin",
     "output_type": "stream",
     "text": [
      "단어를 입력하세요 아루라아\n"
     ]
    },
    {
     "name": "stdout",
     "output_type": "stream",
     "text": [
      "아루라아은(는) 거꾸로 하면 다른 단어 입니다.\n"
     ]
    }
   ],
   "source": [
    "name = input(\"단어를 입력하세요\")\n",
    "\n",
    "if name == name[::-1]:\n",
    "    print(f'{name}은(는) 거꾸로 해도 똑같은 단어 입니다.')\n",
    "else:\n",
    "    print(f'{name}은(는) 거꾸로 하면 다른 단어 입니다.')"
   ]
  },
  {
   "cell_type": "code",
   "execution_count": 85,
   "id": "0ba4a39b-8dee-4299-bf1d-e78b750d00f5",
   "metadata": {},
   "outputs": [
    {
     "name": "stdin",
     "output_type": "stream",
     "text": [
      "추가할 숫자 개수를 입력하세요 :  5\n",
      "값을 입력하세요:  1\n",
      "값을 입력하세요:  2\n",
      "값을 입력하세요:  3\n",
      "값을 입력하세요:  4\n",
      "값을 입력하세요:  5\n"
     ]
    },
    {
     "name": "stdout",
     "output_type": "stream",
     "text": [
      "[[1], [2], [3], [4], [5]]\n",
      "짝수 리스트 : [0, 2, 4], 홀수 리스트 : [1, 3, 5]\n"
     ]
    }
   ],
   "source": [
    "adn = int(input(\"추가할 숫자 개수를 입력하세요 : \"))\n",
    "\n",
    "num = []  # 짝수 인덱스의 문자 저장\n",
    "c = []  # 홀수 인덱스의 문자 저장\n",
    "d = []\n",
    "\n",
    "for i in range(adn):\n",
    "    num.append(list(map(int,input(\"값을 입력하세요: \").split())))\n",
    "print(f'{num}')\n",
    "\n",
    "\n",
    "for i in range(len(num)+1):\n",
    "    if i % 2 == 0:\n",
    "        c.append(i)\n",
    "    else:\n",
    "        d.append(i)\n",
    "\n",
    "print(f'짝수 리스트 : {c}, 홀수 리스트 : {d}')"
   ]
  },
  {
   "cell_type": "code",
   "execution_count": 99,
   "id": "4928a538-231e-4a6a-b6bd-c13d663e2084",
   "metadata": {},
   "outputs": [
    {
     "name": "stdin",
     "output_type": "stream",
     "text": [
      "추가할 단어 개수를 입력하세요 :  3\n",
      "추가할 단어를 입력하세요 :  kiwi\n",
      "추가할 단어를 입력하세요 :  banana\n",
      "추가할 단어를 입력하세요 :  orange\n"
     ]
    },
    {
     "name": "stdout",
     "output_type": "stream",
     "text": [
      "['kiwi', 'banana', 'orange']\n",
      "문자의 최대 길이는 : 6 입니다.\n",
      "가장 긴 문자는 : ['banana', 'orange'] 입니다.\n"
     ]
    }
   ],
   "source": [
    "add = int(input(\"추가할 단어 개수를 입력하세요 : \"))\n",
    "num = []\n",
    "mx = []\n",
    "mxn = 0\n",
    "\n",
    "for i in range(add):\n",
    "    num.append(input(\"추가할 단어를 입력하세요 : \"))\n",
    "print(f'{num}')\n",
    "\n",
    "# 각 단어의 길이를 비교하여 최대 길이를 구하기\n",
    "for i in num:\n",
    "    if len(i) > mxn:\n",
    "        mxn = len(i)\n",
    "print(f'문자의 최대 길이는 : {mxn} 입니다.')\n",
    "\n",
    "# 최대 길이와 같은 단어들을 찾기\n",
    "for i in num:\n",
    "    if len(i) == mxn:\n",
    "        mx.append(i)\n",
    "print(f'가장 긴 문자는 : {mx} 입니다.')"
   ]
  },
  {
   "cell_type": "code",
   "execution_count": 104,
   "id": "5289cff0-a089-46d7-9e3f-4424639f88c5",
   "metadata": {},
   "outputs": [],
   "source": [
    "import qrcode\n",
    "\n",
    "def qrcode_maker(text,filename='qr.png'):\n",
    "    qr =qrcode.make(text)\n",
    "    qr.save(filename)\n",
    "\n",
    "# qrcode_maker(\"안녕하세요. 김정현 입니다.\")\n",
    "qrcode_maker(\"www.naver.com\",'naver.png')"
   ]
  },
  {
   "cell_type": "code",
   "execution_count": 101,
   "id": "06aa219a-b4b4-4da7-9f95-7da54adc1ff2",
   "metadata": {},
   "outputs": [
    {
     "name": "stdout",
     "output_type": "stream",
     "text": [
      "Collecting qrcode\n",
      "  Downloading qrcode-8.0-py3-none-any.whl.metadata (17 kB)\n",
      "Requirement already satisfied: colorama in c:\\users\\admin\\appdata\\local\\programs\\python\\python313\\lib\\site-packages (from qrcode) (0.4.6)\n",
      "Downloading qrcode-8.0-py3-none-any.whl (45 kB)\n",
      "Installing collected packages: qrcode\n",
      "Successfully installed qrcode-8.0\n"
     ]
    }
   ],
   "source": [
    "!pip install qrcode"
   ]
  },
  {
   "cell_type": "code",
   "execution_count": 110,
   "id": "7bc6063c-5731-4874-b439-0c38a06520b5",
   "metadata": {},
   "outputs": [
    {
     "data": {
      "text/html": [
       "<img src=\"qr.png\" width=100>"
      ],
      "text/plain": [
       "<IPython.core.display.HTML object>"
      ]
     },
     "metadata": {},
     "output_type": "display_data"
    }
   ],
   "source": [
    "from IPython.display import display, HTML\n",
    "from PIL import Image\n",
    "\n",
    "image_path = \"qr.png\"\n",
    "img = Image.open(image_path)\n",
    "htmlcode = '<img src=\"qr.png\" width=100>'\n",
    "\n",
    "display(HTML(htmlcode))\n",
    "# display(img)"
   ]
  },
  {
   "cell_type": "code",
   "execution_count": 11,
   "id": "45cf8d1a-1985-4bbd-8f6f-5c2c241f6406",
   "metadata": {},
   "outputs": [
    {
     "name": "stdin",
     "output_type": "stream",
     "text": [
      "당신의 기분을 한 문장으로 표현해주세요:  멋져!!\n"
     ]
    },
    {
     "name": "stdout",
     "output_type": "stream",
     "text": [
      "입력된 단어: ['멋져!!']\n",
      "긍정적인 단어: []\n",
      "부정적인 단어: []\n",
      "평범한 하루네요.\n"
     ]
    }
   ],
   "source": [
    "positive_words = [\"좋아\", \"행복\", \"멋져\", \"최고\", \"사랑해\"]\n",
    "negative_words = [\"싫어\", \"화나\", \"짜증\", \"별로\", \"나빠\"]\n",
    "\n",
    "pw = []\n",
    "nw = []\n",
    "\n",
    "status = input(\"당신의 기분을 한 문장으로 표현해주세요: \").split()\n",
    "print(\"입력된 단어:\", status)\n",
    "\n",
    "for i in status:\n",
    "    if i in positive_words:\n",
    "        pw.append(i)\n",
    "    elif i in negative_words:\n",
    "        nw.append(i)\n",
    "\n",
    "print(\"긍정적인 단어:\", pw)\n",
    "print(\"부정적인 단어:\", nw)\n",
    "\n",
    "if len(pw) > len(nw):\n",
    "    print(\"기분이 좋아 보이네요!\")\n",
    "elif len(nw) > len(pw):\n",
    "    print(\"기분이 나빠 보이네요.\")\n",
    "else:\n",
    "    print(\"평범한 하루네요.\")"
   ]
  },
  {
   "cell_type": "code",
   "execution_count": null,
   "id": "51a42350-f262-49f8-a306-86befbf2a3e4",
   "metadata": {},
   "outputs": [],
   "source": []
  }
 ],
 "metadata": {
  "kernelspec": {
   "display_name": "Python 3 (ipykernel)",
   "language": "python",
   "name": "python3"
  },
  "language_info": {
   "codemirror_mode": {
    "name": "ipython",
    "version": 3
   },
   "file_extension": ".py",
   "mimetype": "text/x-python",
   "name": "python",
   "nbconvert_exporter": "python",
   "pygments_lexer": "ipython3",
   "version": "3.13.1"
  }
 },
 "nbformat": 4,
 "nbformat_minor": 5
}
