{
 "cells": [
  {
   "cell_type": "markdown",
   "id": "6aeb3e26-00c9-41df-8ebe-a125e3df2640",
   "metadata": {},
   "source": [
    "# 모듈"
   ]
  },
  {
   "cell_type": "code",
   "execution_count": 1,
   "id": "ff5dc36e-118e-4813-81de-3592e3bd8bf2",
   "metadata": {},
   "outputs": [],
   "source": [
    "# 모듈 만들기\n",
    "# def add(a, b):\n",
    "#     return a + b\n",
    "# def sub(a, b):\n",
    "#     return a - b"
   ]
  },
  {
   "cell_type": "code",
   "execution_count": 2,
   "id": "a5542ece-e1ca-4702-a483-28b73d595571",
   "metadata": {},
   "outputs": [
    {
     "ename": "NameError",
     "evalue": "name 'add' is not defined",
     "output_type": "error",
     "traceback": [
      "\u001b[1;31m---------------------------------------------------------------------------\u001b[0m",
      "\u001b[1;31mNameError\u001b[0m                                 Traceback (most recent call last)",
      "Cell \u001b[1;32mIn[2], line 1\u001b[0m\n\u001b[1;32m----> 1\u001b[0m \u001b[43madd\u001b[49m(\u001b[38;5;241m11\u001b[39m,\u001b[38;5;241m22\u001b[39m)\n",
      "\u001b[1;31mNameError\u001b[0m: name 'add' is not defined"
     ]
    }
   ],
   "source": [
    "add(11,22)"
   ]
  },
  {
   "cell_type": "code",
   "execution_count": 4,
   "id": "45efea03-c148-4356-84ee-93acb14c9d64",
   "metadata": {},
   "outputs": [
    {
     "name": "stdout",
     "output_type": "stream",
     "text": [
      "33\n",
      "11\n"
     ]
    }
   ],
   "source": [
    "import mod1\n",
    "print(mod1.add(11, 22))\n",
    "print(mod1.sub(33, 22))"
   ]
  },
  {
   "cell_type": "code",
   "execution_count": 5,
   "id": "899018a3-23bd-4bb6-9f0c-c2d9b285a3bd",
   "metadata": {},
   "outputs": [],
   "source": [
    "with open(\"mod2.py\", \"w\") as f:\n",
    "    data = \"\"\"\n",
    "    def mul(a,b):\n",
    "        return a*b\n",
    "    def div(a,b):\n",
    "        return a/b\n",
    "    \"\"\"\n",
    "    f.write(data)"
   ]
  },
  {
   "cell_type": "code",
   "execution_count": 9,
   "id": "e26bdb9a-27df-443b-955e-99d016a1f312",
   "metadata": {},
   "outputs": [
    {
     "name": "stdout",
     "output_type": "stream",
     "text": [
      "33\n",
      "11\n",
      "12\n",
      "2.0\n"
     ]
    }
   ],
   "source": [
    "import mod1,mod2\n",
    "print(mod1.add(11, 22))\n",
    "print(mod1.sub(33, 22))\n",
    "print(mod2.mul(3, 4))\n",
    "print(mod2.div(8, 4))"
   ]
  },
  {
   "cell_type": "code",
   "execution_count": 1,
   "id": "8de32834-824d-41ef-ba82-65449c90953a",
   "metadata": {},
   "outputs": [
    {
     "name": "stdout",
     "output_type": "stream",
     "text": [
      "33\n",
      "11\n",
      "12\n",
      "2.0\n"
     ]
    }
   ],
   "source": [
    "# import mod1 as m1\n",
    "# import mod2 as m2\n",
    "import mod1 as m1, mod2 as m2\n",
    "\n",
    "print(m1.add(11, 22))\n",
    "print(m1.sub(33, 22))\n",
    "print(m2.mul(3, 4))\n",
    "print(m2.div(8, 4))"
   ]
  },
  {
   "cell_type": "code",
   "execution_count": 2,
   "id": "fc06a536-3665-4b8a-b7b4-1ec8b2c0bb0f",
   "metadata": {},
   "outputs": [
    {
     "name": "stdout",
     "output_type": "stream",
     "text": [
      "77\n"
     ]
    }
   ],
   "source": [
    "from mod1 import add, sub\n",
    "print(add(33, 44))"
   ]
  },
  {
   "cell_type": "code",
   "execution_count": 3,
   "id": "7e600de8-4c1e-4f46-9143-82efa92d72c0",
   "metadata": {},
   "outputs": [
    {
     "name": "stdout",
     "output_type": "stream",
     "text": [
      "20\n"
     ]
    }
   ],
   "source": [
    "from mod2 import *\n",
    "print(mul(4,5))"
   ]
  },
  {
   "cell_type": "code",
   "execution_count": 4,
   "id": "d3f86318-b0d0-4965-bd19-6df049b47c9b",
   "metadata": {},
   "outputs": [
    {
     "name": "stdout",
     "output_type": "stream",
     "text": [
      "20\n"
     ]
    }
   ],
   "source": [
    "from mod2 import *\n",
    "print(mul(4,5))"
   ]
  },
  {
   "cell_type": "markdown",
   "id": "60370fcc-ca14-4c71-b073-fe98fc2a6d9e",
   "metadata": {},
   "source": [
    "## `__main__`의 의미"
   ]
  },
  {
   "cell_type": "code",
   "execution_count": 1,
   "id": "e4892f91-de92-497e-b3e4-92908f6ae2e3",
   "metadata": {},
   "outputs": [],
   "source": [
    "with open(\"mod1.py\",\"a\") as f:\n",
    "    text = \"\"\"\n",
    "print(add(1,4))\n",
    "print(sub(4,2))\"\"\"\n",
    "    f.write(text)"
   ]
  },
  {
   "cell_type": "markdown",
   "id": "64d4c995-4233-44f9-bcc1-b6209cfd9b67",
   "metadata": {},
   "source": [
    " - %%cmd : 윈도우\n",
    " - %%bash : 리눅스"
   ]
  },
  {
   "cell_type": "code",
   "execution_count": 7,
   "id": "beb1c3f9-dd81-4fa6-bdd1-2633a7818d28",
   "metadata": {},
   "outputs": [
    {
     "name": "stdout",
     "output_type": "stream",
     "text": [
      "Microsoft Windows [Version 10.0.26100.2894]\n",
      "(c) Microsoft Corporation. All rights reserved.\n",
      "\n",
      "JH\\code>python mod1.py\n",
      "5\n",
      "2\n",
      "__main__\n",
      "�� ���Ϸ� ������ �Ǿ����.\n",
      "\n",
      "D:\\KJH\\code>"
     ]
    }
   ],
   "source": [
    "%%cmd\n",
    "python mod1.py"
   ]
  },
  {
   "cell_type": "code",
   "execution_count": 8,
   "id": "37883c08-528a-4821-aa11-08eacc7a6e0a",
   "metadata": {
    "scrolled": true
   },
   "outputs": [
    {
     "data": {
      "text/plain": [
       "['__builtins__',\n",
       " '__cached__',\n",
       " '__doc__',\n",
       " '__file__',\n",
       " '__loader__',\n",
       " '__name__',\n",
       " '__package__',\n",
       " '__spec__',\n",
       " 'add',\n",
       " 'sub']"
      ]
     },
     "execution_count": 8,
     "metadata": {},
     "output_type": "execute_result"
    }
   ],
   "source": [
    "import mod1\n",
    "dir(mod1)"
   ]
  },
  {
   "cell_type": "code",
   "execution_count": 8,
   "id": "1a1020dc-675e-45bd-8c18-8452251d2931",
   "metadata": {},
   "outputs": [],
   "source": [
    "with open(\"stock1.py\", \"w\",encoding=\"utf-8\") as f:\n",
    "    stock = \"\"\"\n",
    "    \n",
    "import requests as req\n",
    "\n",
    "\n",
    "url = \"https://finance.naver.com/sise/sise_market_sum.naver\"\n",
    "web = req.get(url)\n",
    "html = web.text\n",
    "# print(html)\n",
    "def sam(jong='삼성전자'):\n",
    "    f1 = html.find(jong)\n",
    "    return(f'{jong} : ' +html[f1:f1+100][19:50].replace('<td class=\"number\">',\"\").replace('</td>',\"\").replace('\\n',\"\") + \"원\")\n",
    "\n",
    "def kia(jong='기아'):\n",
    "    f2 = html.find(jong)\n",
    "    return(f'{jong} : ' +html[f2:f2+100][17:50].replace('<td class=\"number\">',\"\").replace('</td>',\"\").replace('\\n',\"\").replace('\\t',\"\") + \"원\")\n",
    "\n",
    "if __name__==\"__main__\":\n",
    "    name = input(\"종목을 입력하세요 : \")\n",
    "    if name == \"삼성전자\":\n",
    "        print(sam())\n",
    "        print(\"전 파일로 실행이 되었어요.\")\n",
    "    elif name == \"기아\":\n",
    "        print(kia())\n",
    "        print(\"전 파일로 실행이 되었어요.\")\n",
    "else:\n",
    "    print(\"전 모듈로 임포트 되었어요.\")\n",
    "    \n",
    "    \n",
    "    \"\"\"\n",
    "    f.write(stock)\n"
   ]
  },
  {
   "cell_type": "code",
   "execution_count": 1,
   "id": "fe6a4add-bf7f-436f-a560-5e1157e2f3e3",
   "metadata": {},
   "outputs": [
    {
     "name": "stdout",
     "output_type": "stream",
     "text": [
      "전 모듈로 임포트 되었어요.\n"
     ]
    }
   ],
   "source": [
    "import stock"
   ]
  },
  {
   "cell_type": "code",
   "execution_count": 7,
   "id": "da26eae0-ad1e-42d8-9f04-c4253d0f42cc",
   "metadata": {},
   "outputs": [
    {
     "name": "stdin",
     "output_type": "stream",
     "text": [
      "종목을 입력하세요 :  기아\n"
     ]
    },
    {
     "name": "stdout",
     "output_type": "stream",
     "text": [
      "기아 : 94,600원\n",
      "전 파일로 실행이 되었어요.\n"
     ]
    }
   ],
   "source": []
  },
  {
   "cell_type": "code",
   "execution_count": null,
   "id": "efeb3993-dcbf-4a38-9826-b91744472b82",
   "metadata": {},
   "outputs": [],
   "source": []
  }
 ],
 "metadata": {
  "kernelspec": {
   "display_name": "Python 3 (ipykernel)",
   "language": "python",
   "name": "python3"
  },
  "language_info": {
   "codemirror_mode": {
    "name": "ipython",
    "version": 3
   },
   "file_extension": ".py",
   "mimetype": "text/x-python",
   "name": "python",
   "nbconvert_exporter": "python",
   "pygments_lexer": "ipython3",
   "version": "3.13.1"
  }
 },
 "nbformat": 4,
 "nbformat_minor": 5
}
