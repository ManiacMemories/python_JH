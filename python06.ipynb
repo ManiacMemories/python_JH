{
 "cells": [
  {
   "cell_type": "markdown",
   "id": "0322c68f-d2dd-4cb5-948b-18f3db09d811",
   "metadata": {},
   "source": [
    "# 내장함수"
   ]
  },
  {
   "cell_type": "code",
   "execution_count": 1,
   "id": "95543ea7-6bc0-4c87-aa54-87aa84f758c4",
   "metadata": {},
   "outputs": [
    {
     "name": "stdout",
     "output_type": "stream",
     "text": [
      "3\n",
      "1.2\n"
     ]
    }
   ],
   "source": [
    "# abs *\n",
    "print(abs(-3))\n",
    "print(abs(-1.2))"
   ]
  },
  {
   "cell_type": "code",
   "execution_count": 5,
   "id": "ee86994e-0144-4595-a972-4468afea4404",
   "metadata": {},
   "outputs": [
    {
     "name": "stdout",
     "output_type": "stream",
     "text": [
      "True\n",
      "False\n",
      "True\n"
     ]
    }
   ],
   "source": [
    "print(all([1,2,3]))\n",
    "print(all([11,22,0,44,55]))\n",
    "print(all([]))"
   ]
  },
  {
   "cell_type": "code",
   "execution_count": 9,
   "id": "8e18a3a9-7455-403d-aca5-f7b077ed5928",
   "metadata": {},
   "outputs": [
    {
     "name": "stdout",
     "output_type": "stream",
     "text": [
      "True\n",
      "False\n",
      "False\n"
     ]
    }
   ],
   "source": [
    "# any *\n",
    "print(any([1,2,3,0]))\n",
    "print(any([0,\"\",[],False]))\n",
    "print(any([]))"
   ]
  },
  {
   "cell_type": "code",
   "execution_count": 11,
   "id": "050ae50f-e018-4ec1-a67a-369942fae323",
   "metadata": {},
   "outputs": [
    {
     "name": "stdout",
     "output_type": "stream",
     "text": [
      "A\n",
      "가\n",
      "65\n",
      "44032\n"
     ]
    }
   ],
   "source": [
    "print(chr(65))\n",
    "print(chr(44032))\n",
    "# 유니코드 - UTF -8 (인코딩 방식)\n",
    "print(ord('A'))\n",
    "print(ord('가'))"
   ]
  },
  {
   "cell_type": "code",
   "execution_count": null,
   "id": "856e7c96-b965-43cc-b6eb-5b551df10e6f",
   "metadata": {},
   "outputs": [],
   "source": []
  }
 ],
 "metadata": {
  "kernelspec": {
   "display_name": "Python 3 (ipykernel)",
   "language": "python",
   "name": "python3"
  },
  "language_info": {
   "codemirror_mode": {
    "name": "ipython",
    "version": 3
   },
   "file_extension": ".py",
   "mimetype": "text/x-python",
   "name": "python",
   "nbconvert_exporter": "python",
   "pygments_lexer": "ipython3",
   "version": "3.13.1"
  }
 },
 "nbformat": 4,
 "nbformat_minor": 5
}
