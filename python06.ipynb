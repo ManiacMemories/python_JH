{
 "cells": [
  {
   "cell_type": "markdown",
   "id": "0322c68f-d2dd-4cb5-948b-18f3db09d811",
   "metadata": {},
   "source": [
    "# 내장함수"
   ]
  },
  {
   "cell_type": "code",
   "execution_count": 1,
   "id": "95543ea7-6bc0-4c87-aa54-87aa84f758c4",
   "metadata": {},
   "outputs": [
    {
     "name": "stdout",
     "output_type": "stream",
     "text": [
      "3\n",
      "1.2\n"
     ]
    }
   ],
   "source": [
    "# abs *\n",
    "print(abs(-3))\n",
    "print(abs(-1.2))"
   ]
  },
  {
   "cell_type": "code",
   "execution_count": 5,
   "id": "ee86994e-0144-4595-a972-4468afea4404",
   "metadata": {},
   "outputs": [
    {
     "name": "stdout",
     "output_type": "stream",
     "text": [
      "True\n",
      "False\n",
      "True\n"
     ]
    }
   ],
   "source": [
    "print(all([1,2,3]))\n",
    "print(all([11,22,0,44,55]))\n",
    "print(all([]))"
   ]
  },
  {
   "cell_type": "code",
   "execution_count": 9,
   "id": "8e18a3a9-7455-403d-aca5-f7b077ed5928",
   "metadata": {},
   "outputs": [
    {
     "name": "stdout",
     "output_type": "stream",
     "text": [
      "True\n",
      "False\n",
      "False\n"
     ]
    }
   ],
   "source": [
    "# any *\n",
    "print(any([1,2,3,0]))\n",
    "print(any([0,\"\",[],False]))\n",
    "print(any([]))"
   ]
  },
  {
   "cell_type": "code",
   "execution_count": 11,
   "id": "050ae50f-e018-4ec1-a67a-369942fae323",
   "metadata": {},
   "outputs": [
    {
     "name": "stdout",
     "output_type": "stream",
     "text": [
      "A\n",
      "가\n",
      "65\n",
      "44032\n"
     ]
    }
   ],
   "source": [
    "print(chr(65))\n",
    "print(chr(44032))\n",
    "# 유니코드 - UTF -8 (인코딩 방식)\n",
    "print(ord('A'))\n",
    "print(ord('가'))"
   ]
  },
  {
   "cell_type": "code",
   "execution_count": 47,
   "id": "856e7c96-b965-43cc-b6eb-5b551df10e6f",
   "metadata": {},
   "outputs": [
    {
     "name": "stdout",
     "output_type": "stream",
     "text": [
      "['A', 'B', 'C', 'D', 'E', 'F', 'G', 'H', 'I', 'J', 'K', 'L', 'M', 'N', 'O', 'P', 'Q', 'R', 'S', 'T', 'U', 'V', 'W', 'X', 'Y']\n"
     ]
    }
   ],
   "source": [
    "asc1 = []\n",
    "\n",
    "for i in range(65,90):\n",
    "    asc1.append(chr(i))\n",
    "print(asc1)"
   ]
  },
  {
   "cell_type": "code",
   "execution_count": 45,
   "id": "a51f5e37-e53a-49e7-8f82-23da830a1e3f",
   "metadata": {},
   "outputs": [
    {
     "name": "stdout",
     "output_type": "stream",
     "text": [
      "['y', 'x', 'w', 'v', 'u', 't', 's', 'r', 'q', 'p', 'o', 'n', 'm', 'l', 'k', 'j', 'i', 'h', 'g', 'f', 'e', 'd', 'c', 'b', 'a']\n"
     ]
    }
   ],
   "source": [
    "asc2 = []\n",
    "\n",
    "for i in range(97,122):\n",
    "    asc2.append(chr(i))\n",
    "print(asc[::-1])"
   ]
  },
  {
   "cell_type": "code",
   "execution_count": 44,
   "id": "8ddf05b7-8a83-4100-b55d-360c67c8f382",
   "metadata": {},
   "outputs": [
    {
     "name": "stdout",
     "output_type": "stream",
     "text": [
      "A1 A2 A3 A4 A5 A6 A7 A8 A9 A10 \n",
      "B1 B2 B3 B4 B5 B6 B7 B8 B9 B10 \n",
      "C1 C2 C3 C4 C5 C6 C7 C8 C9 C10 \n"
     ]
    }
   ],
   "source": [
    "for i in range(65,68):\n",
    "    for num in range(1, 11): \n",
    "        print(f\"{chr(i)}{num}\", end=' ')\n",
    "    print()"
   ]
  },
  {
   "cell_type": "code",
   "execution_count": 4,
   "id": "1cd79cc2-5dd9-4886-bf74-b8139dbda2d7",
   "metadata": {},
   "outputs": [
    {
     "name": "stdin",
     "output_type": "stream",
     "text": [
      "당신의 기분을 한 문장으로 표현해주세요:  좋아서 멋지고 그래서 사랑해\n"
     ]
    },
    {
     "name": "stdout",
     "output_type": "stream",
     "text": [
      "입력된 단어: ['좋다', '멋지다', '그래서', '사랑', '하다']\n",
      "긍정적인 단어: ['좋다', '멋지다', '사랑']\n",
      "부정적인 단어: []\n",
      "기분이 좋아 보이네요!\n"
     ]
    }
   ],
   "source": [
    "from konlpy.tag import Okt\n",
    "\n",
    "okt = Okt()\n",
    "\n",
    "class Team:\n",
    "    def __init__(self):\n",
    "        self.pw = []  # 긍정적인 단어 저장\n",
    "        self.nw = []  # 부정적인 단어 저장\n",
    "\n",
    "    def p4(self):\n",
    "        positive_words = [\"좋다\", \"행복\", \"멋지다\", \"최고\", \"사랑\"]\n",
    "        negative_words = [\"싫다\", \"화나다\", \"짜증\", \"별로\", \"나쁘다\"]\n",
    "\n",
    "        self.status = input(\"당신의 기분을 한 문장으로 표현해주세요: \")\n",
    "        words = okt.morphs(self.status, stem=True)  # 형태소 분석 후 어간 추출\n",
    "\n",
    "        print(\"입력된 단어:\", words)\n",
    "\n",
    "        for word in words:\n",
    "            if word in positive_words:\n",
    "                self.pw.append(word)\n",
    "            elif word in negative_words:\n",
    "                self.nw.append(word)\n",
    "\n",
    "        print(\"긍정적인 단어:\", self.pw)\n",
    "        print(\"부정적인 단어:\", self.nw)\n",
    "\n",
    "        if len(self.pw) > len(self.nw):\n",
    "            print(\"기분이 좋아 보이네요!\")\n",
    "        elif len(self.nw) > len(self.pw):\n",
    "            print(\"기분이 나빠 보이네요.\")\n",
    "        else:\n",
    "            print(\"평범한 하루네요.\")\n",
    "\n",
    "# 실행\n",
    "obj = Team()\n",
    "obj.p4()"
   ]
  },
  {
   "cell_type": "code",
   "execution_count": 4,
   "id": "3a2ad0f1-1149-4acc-86bf-2e997c0f15ec",
   "metadata": {},
   "outputs": [
    {
     "name": "stdout",
     "output_type": "stream",
     "text": [
      "Requirement already satisfied: konlpy in c:\\users\\admin\\appdata\\local\\programs\\python\\python313\\lib\\site-packages (0.6.0)\n",
      "Requirement already satisfied: JPype1>=0.7.0 in c:\\users\\admin\\appdata\\local\\programs\\python\\python313\\lib\\site-packages (from konlpy) (1.5.2)\n",
      "Requirement already satisfied: lxml>=4.1.0 in c:\\users\\admin\\appdata\\local\\programs\\python\\python313\\lib\\site-packages (from konlpy) (5.3.1)\n",
      "Requirement already satisfied: numpy>=1.6 in c:\\users\\admin\\appdata\\local\\programs\\python\\python313\\lib\\site-packages (from konlpy) (2.2.2)\n",
      "Requirement already satisfied: packaging in c:\\users\\admin\\appdata\\local\\programs\\python\\python313\\lib\\site-packages (from JPype1>=0.7.0->konlpy) (24.2)\n"
     ]
    }
   ],
   "source": [
    "!pip install konlpy"
   ]
  },
  {
   "cell_type": "code",
   "execution_count": 170,
   "id": "1eeb69f1-37d2-48d6-91f0-86ed5b2173b0",
   "metadata": {},
   "outputs": [
    {
     "name": "stdin",
     "output_type": "stream",
     "text": [
      "당신의 기분을 한 문장으로 표현해주세요:  좋아 좋아 별로야 싫어 기뻐\n"
     ]
    },
    {
     "name": "stdout",
     "output_type": "stream",
     "text": [
      "입력된 단어: 좋아 좋아 별로야 싫어 기뻐\n",
      "긍정적인 단어: ['좋아']\n",
      "부정적인 단어: ['좋아']\n",
      "평범한 하루네요.\n"
     ]
    }
   ],
   "source": [
    "\n",
    "obj = team2()\n",
    "obj.p4()"
   ]
  },
  {
   "cell_type": "code",
   "execution_count": 14,
   "id": "d6b95e30-5d89-4c22-a957-3bee503bb7fc",
   "metadata": {},
   "outputs": [
    {
     "name": "stdin",
     "output_type": "stream",
     "text": [
      "단어를 입력하세요:  우영우\n"
     ]
    },
    {
     "name": "stdout",
     "output_type": "stream",
     "text": [
      "똑같다\n"
     ]
    },
    {
     "name": "stdin",
     "output_type": "stream",
     "text": [
      "문장을 입력하세요:  banana orange kiwi\n"
     ]
    },
    {
     "name": "stdout",
     "output_type": "stream",
     "text": [
      "가장 긴 단어는: ['banana', 'orange']\n"
     ]
    },
    {
     "name": "stdin",
     "output_type": "stream",
     "text": [
      "숫자를 입력하세요:  10\n"
     ]
    },
    {
     "name": "stdout",
     "output_type": "stream",
     "text": [
      "짝수: [10]\n",
      "홀수: []\n"
     ]
    },
    {
     "name": "stdin",
     "output_type": "stream",
     "text": [
      "당신의 기분을 한 문장으로 표현해주세요:  좋아\n"
     ]
    },
    {
     "name": "stdout",
     "output_type": "stream",
     "text": [
      "입력된 단어: ['좋아']\n",
      "긍정적인 단어: ['좋아']\n",
      "부정적인 단어: []\n",
      "기분이 좋아 보이네요!\n"
     ]
    },
    {
     "name": "stdin",
     "output_type": "stream",
     "text": [
      "원하시는 문장을 입력하세요 apple is good\n"
     ]
    },
    {
     "name": "stdout",
     "output_type": "stream",
     "text": [
      "Apple Is Good\n"
     ]
    }
   ],
   "source": [
    "class Team2:\n",
    "    def __init__(self):\n",
    "        self.cont=\"\"\n",
    "        self.res=[]\n",
    "        self.word = \"\"\n",
    "        self.lst = \"\"\n",
    "        self.long_result=[]\n",
    "        self.pw = []\n",
    "        self.nw = []\n",
    "        self.status = \"\"\n",
    "        \n",
    "    #거꾸로 읽어도 같은 단어를 확인하는 함수\n",
    "    def compare(self):\n",
    "        self.word=input(\"단어를 입력하세요: \")\n",
    "        if self.word==self.word[::-1]:\n",
    "            print(\"똑같다\")\n",
    "        else: \n",
    "            print(\"다르다\")\n",
    "    # 홀수 짝수 나누는 조건 함수 * display_numbers의 하위 함수\n",
    "    def ex2(self):\n",
    "        self.lst = list(map(int, input(\"숫자를 입력하세요: \").split()))\n",
    "        lst1 = [i for i in self.lst if i % 2 == 0]\n",
    "        lst2 = [i for i in self.lst if i % 2 != 0]\n",
    "        return lst1, lst2\n",
    "        \n",
    "    #홀수 짝수를 나누어 주는 함수\n",
    "    def display_numbers(self):\n",
    "        num1, num2 = self.ex2()\n",
    "        print(\"짝수:\", num1)\n",
    "        print(\"홀수:\", num2)\n",
    "\n",
    "    #가장 긴 단어를 가져오는 함수\n",
    "    def longest_words(self):\n",
    "        long_result = self.long_result\n",
    "        words = input(\"문장을 입력하세요: \").split()\n",
    "        max_len = len(max(words, key=len))\n",
    "    \n",
    "        for word in words:\n",
    "            if len(word) == max_len:\n",
    "                long_result.append(word)\n",
    "    \n",
    "        print(\"가장 긴 단어는:\", long_result)\n",
    "\n",
    "    # 문장을 받는 함수 *p4의 하위 함수\n",
    "    def face(self):\n",
    "        self.status = input(\"당신의 기분을 한 문장으로 표현해주세요: \").split()\n",
    "        return self.status\n",
    "\n",
    "    # 문장을 보고 기분을 나타내는 함수\n",
    "    def p4(self):\n",
    "        self.face()\n",
    "        positive_words = [\"좋아\", \"행복\", \"멋져\", \"최고\", \"사랑해\"]\n",
    "        negative_words = [\"싫어\", \"화나\", \"짜증\", \"별로\", \"나빠\"]\n",
    "\n",
    "        print(\"입력된 단어:\", self.status)\n",
    "        \n",
    "        for i in self.status:\n",
    "            if i in positive_words:\n",
    "                self.pw.append(i)\n",
    "            elif i in negative_words:\n",
    "                self.nw.append(i)\n",
    "                \n",
    "        print(\"긍정적인 단어:\", self.pw)\n",
    "        print(\"부정적인 단어:\", self.nw)\n",
    "\n",
    "        if len(self.pw) > len(self.nw):\n",
    "            print(\"기분이 좋아 보이네요!\")\n",
    "        elif len(self.nw) > len(self.pw):\n",
    "            print(\"기분이 나빠 보이네요.\")\n",
    "        else:\n",
    "            print(\"평범한 하루네요.\")\n",
    "\n",
    "    #단어 첫글자가 소문자일시 대문자로 바꿔주는 함수\n",
    "    def p5(self):\n",
    "        self.cont=input(\"원하시는 문장을 입력하세요\")\n",
    "        ls=self.cont.split(\" \")\n",
    "        a=ord('a')\n",
    "        z=ord('z')\n",
    "        for n in ls:\n",
    "            up=ord(n[0])\n",
    "            if a<=up and up<=z :\n",
    "                word=n[0].upper()+n[1:]\n",
    "                self.res.append(word)\n",
    "        print(\" \".join(self.res))\n",
    "\n",
    "obj = Team2()\n",
    "obj.compare()\n",
    "obj.longest_words()\n",
    "obj.display_numbers()\n",
    "obj.p4()\n",
    "obj.p5()"
   ]
  },
  {
   "cell_type": "code",
   "execution_count": 130,
   "id": "2cee05b7-5468-482d-8f2f-28207ecc7720",
   "metadata": {},
   "outputs": [
    {
     "name": "stdin",
     "output_type": "stream",
     "text": [
      "단어를 입력하세요:  우영우\n",
      "숫자를 입력하세요:  3\n"
     ]
    },
    {
     "name": "stdout",
     "output_type": "stream",
     "text": [
      "똑같다\n",
      "짝수: []\n",
      "홀수: [3]\n"
     ]
    },
    {
     "name": "stdin",
     "output_type": "stream",
     "text": [
      "당신의 기분을 한 문장으로 표현해주세요:  좋아\n"
     ]
    },
    {
     "name": "stdout",
     "output_type": "stream",
     "text": [
      "입력된 단어: ['좋아']\n",
      "긍정적인 단어: ['좋아']\n",
      "부정적인 단어: []\n",
      "기분이 좋아 보이네요!\n"
     ]
    },
    {
     "name": "stdin",
     "output_type": "stream",
     "text": [
      "원하시는 문장을 입력하세요 apple is good\n"
     ]
    },
    {
     "name": "stdout",
     "output_type": "stream",
     "text": [
      "Apple Is Good\n"
     ]
    }
   ],
   "source": [
    "# obj = Team2()\n",
    "# obj.compare()\n",
    "# obj.display_numbers()\n",
    "# obj.p4()\n",
    "# obj.p5()"
   ]
  },
  {
   "cell_type": "code",
   "execution_count": 13,
   "id": "d8316792-fc65-46a4-bb65-0453a867797b",
   "metadata": {},
   "outputs": [
    {
     "name": "stderr",
     "output_type": "stream",
     "text": [
      "java version \"1.8.0_441\"\n",
      "Java(TM) SE Runtime Environment (build 1.8.0_441-b07)\n",
      "Java HotSpot(TM) 64-Bit Server VM (build 25.441-b07, mixed mode)\n"
     ]
    }
   ],
   "source": [
    "!java -version"
   ]
  },
  {
   "cell_type": "code",
   "execution_count": 1,
   "id": "af013fe7-1c42-4968-9b7b-218d000d6f93",
   "metadata": {},
   "outputs": [
    {
     "name": "stdin",
     "output_type": "stream",
     "text": [
      "당신의 기분을 한 문장으로 표현해주세요:  좋아서 멋지고 그래서 사라해\n"
     ]
    },
    {
     "name": "stdout",
     "output_type": "stream",
     "text": [
      "['좋다', '멋지다', '그래서', '사라', '하다']\n"
     ]
    }
   ],
   "source": [
    "from konlpy.tag import Okt\n",
    "\n",
    "#한글 형태소 분석기\n",
    "okt = Okt()\n",
    "\n",
    "positive_words = [\"좋다\", \"행복\", \"멋지다\", \"최고\", \"사랑\"]\n",
    "negative_words = [\"싫다\", \"화나다\", \"짜증\", \"별로\", \"나쁘다\"]\n",
    "text = input(\"당신의 기분을 한 문장으로 표현해주세요: \")\n",
    "\n",
    "words = okt.morphs(text, stem=True)\n",
    "print(words)"
   ]
  },
  {
   "cell_type": "code",
   "execution_count": null,
   "id": "1a381fd6-1efc-451b-b8b7-991f8330f3b0",
   "metadata": {},
   "outputs": [],
   "source": [
    "# dir([1,2,3])\n",
    "# dir({'1':'a'})"
   ]
  },
  {
   "cell_type": "code",
   "execution_count": 6,
   "id": "8feeeb23-800e-4f9d-a4a4-6c50c040e1ec",
   "metadata": {},
   "outputs": [
    {
     "name": "stdout",
     "output_type": "stream",
     "text": [
      "(4, 1)\n",
      "4 1\n"
     ]
    }
   ],
   "source": [
    "# divmod 몫과 나머지\n",
    "print(divmod(13,3))\n",
    "print(13//3,13%3)"
   ]
  },
  {
   "cell_type": "code",
   "execution_count": 7,
   "id": "cffe39f6-94b5-45e0-9b06-bb274227bc24",
   "metadata": {},
   "outputs": [
    {
     "name": "stdout",
     "output_type": "stream",
     "text": [
      "1 순위 과일은: apple\n",
      "2 순위 과일은: banana\n",
      "3 순위 과일은: kiwi\n",
      "4 순위 과일은: cherry\n",
      "5 순위 과일은: mango\n"
     ]
    }
   ],
   "source": [
    "# enumerate * 열거하다.\n",
    "fruit = ['apple','banana','kiwi','cherry','mango']\n",
    "for i, f in enumerate(fruit, start=1):\n",
    "    print(i,'순위 과일은:',f)"
   ]
  },
  {
   "cell_type": "code",
   "execution_count": 8,
   "id": "4169ab2a-9ddc-4528-8720-5cc2b871d0cd",
   "metadata": {},
   "outputs": [
    {
     "data": {
      "text/plain": [
       "3"
      ]
     },
     "execution_count": 8,
     "metadata": {},
     "output_type": "execute_result"
    }
   ],
   "source": [
    "eval('1+2')"
   ]
  },
  {
   "cell_type": "code",
   "execution_count": 9,
   "id": "58422f0a-e10a-405e-a6f9-006f9d628cd8",
   "metadata": {},
   "outputs": [
    {
     "data": {
      "text/plain": [
       "'A1'"
      ]
     },
     "execution_count": 9,
     "metadata": {},
     "output_type": "execute_result"
    }
   ],
   "source": [
    "eval(\"'A'+'1'\")"
   ]
  },
  {
   "cell_type": "code",
   "execution_count": 12,
   "id": "ee6df063-c763-4575-95c8-0c18981fb28e",
   "metadata": {},
   "outputs": [
    {
     "name": "stdout",
     "output_type": "stream",
     "text": [
      "[2, 4, 6, 8, 10]\n"
     ]
    }
   ],
   "source": [
    "def filt(x):\n",
    "    return x % 2 == 0\n",
    "l = [1, 2, 3, 4, 5, 6, 7 ,8, 9, 10]\n",
    "print(list(filter(filt,l)))"
   ]
  },
  {
   "cell_type": "code",
   "execution_count": 14,
   "id": "fab87ea5-3685-4e87-9eb6-004f19553576",
   "metadata": {},
   "outputs": [
    {
     "data": {
      "text/plain": [
       "[2, 4, 6, 8, 10]"
      ]
     },
     "execution_count": 14,
     "metadata": {},
     "output_type": "execute_result"
    }
   ],
   "source": [
    "list(filter(lambda x : x % 2 == 0 ,l))"
   ]
  },
  {
   "cell_type": "code",
   "execution_count": 17,
   "id": "6e6ed7d2-7de3-4983-93ce-b6284640c434",
   "metadata": {},
   "outputs": [
    {
     "name": "stdout",
     "output_type": "stream",
     "text": [
      "0xea\n",
      "0o11\n",
      "0b1001\n"
     ]
    }
   ],
   "source": [
    "# hex, oct, bin\n",
    "print(hex(234))\n",
    "print(oct(9))\n",
    "print(bin(9))"
   ]
  },
  {
   "cell_type": "code",
   "execution_count": 18,
   "id": "07676d65-24c8-4db4-bf82-48798d3333ce",
   "metadata": {},
   "outputs": [
    {
     "name": "stdout",
     "output_type": "stream",
     "text": [
      "A\n",
      "가\n",
      "65\n",
      "44032\n",
      "\u001e",
      "\n"
     ]
    }
   ],
   "source": [
    "print(chr(65))\n",
    "print(chr(44032))\n",
    "print(ord('A'))\n",
    "print(ord('가'))\n",
    "print(chr(int(hex(30)[2:],16)))"
   ]
  },
  {
   "cell_type": "code",
   "execution_count": 20,
   "id": "9622d590-9115-4e69-a897-ce6e249fd2ef",
   "metadata": {},
   "outputs": [
    {
     "name": "stdout",
     "output_type": "stream",
     "text": [
      "140730291323880\n",
      "140730291323880\n",
      "140730291323880\n",
      "True\n"
     ]
    }
   ],
   "source": [
    "a = 3\n",
    "print(id(3))\n",
    "print(id(a))\n",
    "b = a\n",
    "print(id(b))\n",
    "print(all([id(3)==id(a),id(a)==id(b)]))"
   ]
  },
  {
   "cell_type": "code",
   "execution_count": 21,
   "id": "baad4d43-6c1c-4bc3-a33a-d92cf2c64bdc",
   "metadata": {},
   "outputs": [],
   "source": [
    "# input\n",
    "# input은 스트링으로 값을 전달받는다. 그러므로 int나 float로 변경할 것\n"
   ]
  },
  {
   "cell_type": "code",
   "execution_count": 22,
   "id": "42041b7e-da6b-42cb-9c8e-66e122a5ac4b",
   "metadata": {},
   "outputs": [],
   "source": [
    "# int *\n",
    "# 문자를 숫자로 변환, 정수로 변환, 소수점이 사라짐"
   ]
  },
  {
   "cell_type": "code",
   "execution_count": 24,
   "id": "220026af-2625-4e09-afa2-879785758108",
   "metadata": {},
   "outputs": [
    {
     "name": "stdout",
     "output_type": "stream",
     "text": [
      "사람입니다.\n",
      "사람입니다.\n"
     ]
    },
    {
     "data": {
      "text/plain": [
       "False"
      ]
     },
     "execution_count": 24,
     "metadata": {},
     "output_type": "execute_result"
    }
   ],
   "source": [
    "# isinstance(object, class) 인스턴스 확인용\n",
    "\n",
    "class Person:\n",
    "    def p(self):\n",
    "        return(\"사람입니다.\")\n",
    "\n",
    "class Animal:pass\n",
    "a = Person()\n",
    "b = Person()\n",
    "c = Animal()\n",
    "\n",
    "print(a.p())\n",
    "print(b.p())\n",
    "isinstance(a,Person)\n",
    "isinstance(b,Person)\n",
    "isinstance(c,Person)"
   ]
  },
  {
   "cell_type": "code",
   "execution_count": 26,
   "id": "417699ff-f3c4-4438-afe8-385dd71d228c",
   "metadata": {},
   "outputs": [
    {
     "name": "stdout",
     "output_type": "stream",
     "text": [
      "6\n",
      "4\n",
      "2\n"
     ]
    }
   ],
   "source": [
    "# len **\n",
    "print(len(\"python\"))\n",
    "print(len([1,2,3,4]))\n",
    "print(len((1,'a')))\n"
   ]
  },
  {
   "cell_type": "code",
   "execution_count": 27,
   "id": "22a20242-05fc-40a3-906f-461aeab5cdbc",
   "metadata": {},
   "outputs": [],
   "source": [
    "# list **"
   ]
  },
  {
   "cell_type": "code",
   "execution_count": 28,
   "id": "06fa8e30-d273-40b9-bde7-f24958d7e323",
   "metadata": {},
   "outputs": [
    {
     "name": "stdout",
     "output_type": "stream",
     "text": [
      "[2, 4, 6, 8]\n"
     ]
    }
   ],
   "source": [
    "# map *\n",
    "def two_items(n1):\n",
    "    result = []\n",
    "    for n in n1:\n",
    "        result.append(n*2)\n",
    "    return result\n",
    "result = two_items([1,2,3,4])\n",
    "print(result)"
   ]
  },
  {
   "cell_type": "code",
   "execution_count": 31,
   "id": "b7fdd273-44ab-4a88-bbac-c26f2d18458f",
   "metadata": {},
   "outputs": [
    {
     "data": {
      "text/plain": [
       "[2, 4, 6, 8]"
      ]
     },
     "execution_count": 31,
     "metadata": {},
     "output_type": "execute_result"
    }
   ],
   "source": [
    "def two_times(x):\n",
    "    return x * 2\n",
    "\n",
    "list(map(two_times,[1,2,3,4]))"
   ]
  },
  {
   "cell_type": "code",
   "execution_count": 32,
   "id": "63cd1667-c406-46a4-81e9-fb51cca4d16c",
   "metadata": {},
   "outputs": [
    {
     "data": {
      "text/plain": [
       "[2, 4, 6, 8]"
      ]
     },
     "execution_count": 32,
     "metadata": {},
     "output_type": "execute_result"
    }
   ],
   "source": [
    "list(map(lambda x: x*2,[1,2,3,4]))"
   ]
  },
  {
   "cell_type": "code",
   "execution_count": 36,
   "id": "ae869246-93b1-483b-90ad-db1638f4dc4c",
   "metadata": {},
   "outputs": [
    {
     "name": "stdout",
     "output_type": "stream",
     "text": [
      "[1, 3, 5]\n",
      "[2, 4, 6]\n",
      "[11, 12, 13, 14, 15, 16]\n",
      "[1, 4, 9, 16, 25, 36]\n",
      "[11, 24, 39, 56, 75, 96]\n"
     ]
    }
   ],
   "source": [
    "# 테스트\n",
    "li = [1,2,3,4,5,6]\n",
    "\n",
    "def odd(x):\n",
    "    return x % 2 != 0\n",
    "def even(x):\n",
    "    return x % 2 == 0\n",
    "def add(x):\n",
    "    return x + 10\n",
    "def mul(x):\n",
    "    return x * x\n",
    "def addmul(x):\n",
    "    return (x + 10) * x\n",
    "    \n",
    "print(list(filter(odd,li)))\n",
    "print(list(filter(even,li)))\n",
    "print(list(map(add,li)))\n",
    "print(list(map(mul,li)))\n",
    "print(list(map(addmul,li)))"
   ]
  },
  {
   "cell_type": "code",
   "execution_count": 41,
   "id": "1960e9c2-acd1-4a7f-9dc5-0da5cde4d12c",
   "metadata": {},
   "outputs": [
    {
     "data": {
      "text/plain": [
       "'y'"
      ]
     },
     "execution_count": 41,
     "metadata": {},
     "output_type": "execute_result"
    }
   ],
   "source": [
    "# max *\n",
    "max([1,2,23,14,55,46,7,18])\n",
    "max('python') # 문자일 경우 유니코드 값으로 판단"
   ]
  },
  {
   "cell_type": "code",
   "execution_count": 42,
   "id": "c533f550-8e10-4f87-aab4-87e38b556d04",
   "metadata": {},
   "outputs": [
    {
     "data": {
      "text/plain": [
       "'h'"
      ]
     },
     "execution_count": 42,
     "metadata": {},
     "output_type": "execute_result"
    }
   ],
   "source": [
    "# min *\n",
    "min([1,2,23,14,55,46,7,18])\n",
    "min('python') # 문자일 경우 유니코드 값으로 판단"
   ]
  },
  {
   "cell_type": "code",
   "execution_count": null,
   "id": "a30a74fe-d006-4305-871a-d82dc2b1a766",
   "metadata": {},
   "outputs": [],
   "source": [
    "# open *\n",
    "f = open('README.md','r',encoding='utf-8')\n",
    "f.read()"
   ]
  },
  {
   "cell_type": "code",
   "execution_count": 44,
   "id": "ec7d9dfd-1a2e-4b1c-b3af-6b926ff66ea6",
   "metadata": {},
   "outputs": [
    {
     "name": "stdout",
     "output_type": "stream",
     "text": [
      "32\n"
     ]
    }
   ],
   "source": [
    "# pow * x 를 y제곱한 결과값을 리턴\n",
    "print(pow(2,5))"
   ]
  },
  {
   "cell_type": "code",
   "execution_count": 46,
   "id": "e2955b24-d886-47a8-9314-b5c03c99b051",
   "metadata": {},
   "outputs": [
    {
     "name": "stdout",
     "output_type": "stream",
     "text": [
      "[0, 1, 2, 3, 4]\n",
      "[5, 6, 7, 8, 9]\n",
      "[5, 7, 9]\n",
      "[15, 14, 13, 12, 11, 10, 9, 8, 7, 6, 5, 4, 3, 2, 1]\n"
     ]
    }
   ],
   "source": [
    "# range **\n",
    "# 인수가 하나\n",
    "print(list(range(5)))\n",
    "# 인수가 2개\n",
    "print(list(range(5,10)))\n",
    "# 인수가 3개\n",
    "print(list(range(5,10,2)))\n",
    "# 역순(스탭 조절)\n",
    "print(list(range(15,0,-1)))\n"
   ]
  },
  {
   "cell_type": "code",
   "execution_count": 48,
   "id": "10a90a5c-b0c8-4bf8-b0a8-707575be5c7e",
   "metadata": {},
   "outputs": [
    {
     "name": "stdout",
     "output_type": "stream",
     "text": [
      "3\n",
      "4\n",
      "3\n",
      "3.5\n",
      "3.495\n"
     ]
    }
   ],
   "source": [
    "# round * 반올림\n",
    "print(round(3.45))\n",
    "print(round(3.546))\n",
    "print(round(3.495))\n",
    "print(round(3.495,2))\n",
    "print(round(3.495,3))"
   ]
  },
  {
   "cell_type": "code",
   "execution_count": 50,
   "id": "2e90ef91-35ba-4747-bc2a-de416f386e34",
   "metadata": {},
   "outputs": [
    {
     "name": "stdout",
     "output_type": "stream",
     "text": [
      "[3, 2, 1, 4, 6, 7]\n",
      "[1, 2, 3, 4, 6, 7]\n",
      "[7, 6, 4, 3, 2, 1]\n"
     ]
    }
   ],
   "source": [
    "# sorted(iterable) 정렬된 리스트로 리턴\n",
    "s0 = [3,2,1,4,6,7]\n",
    "s1 = sorted(s0)\n",
    "s2 = sorted(s0,reverse = True)\n",
    "print(s0)\n",
    "print(s1)\n",
    "print(s2)"
   ]
  },
  {
   "cell_type": "code",
   "execution_count": 51,
   "id": "c8e0ce8a-4dcc-4002-ae6a-9a5f979bb90e",
   "metadata": {},
   "outputs": [
    {
     "name": "stdout",
     "output_type": "stream",
     "text": [
      "23 <class 'int'>\n",
      "23 <class 'str'>\n"
     ]
    }
   ],
   "source": [
    "# str 문자열로 변환\n",
    "num = 23\n",
    "st = str(num)\n",
    "print(num,type(num))\n",
    "print(st,type(st))"
   ]
  },
  {
   "cell_type": "code",
   "execution_count": 52,
   "id": "f99cee64-4504-4f99-9acd-cb7b10476eb3",
   "metadata": {},
   "outputs": [
    {
     "name": "stdout",
     "output_type": "stream",
     "text": [
      "15\n"
     ]
    }
   ],
   "source": [
    "# sum * 이터러블데이터의 합을 리턴\n",
    "print(sum([1,2,3,4,5]))"
   ]
  },
  {
   "cell_type": "code",
   "execution_count": 54,
   "id": "03473342-bc98-42fb-a0f4-361cf72171fa",
   "metadata": {},
   "outputs": [
    {
     "name": "stdout",
     "output_type": "stream",
     "text": [
      "('a', 'b', 'c')\n",
      "(1, 2, 3, 4, 5, 6)\n",
      "(1, 2, 3, 4, 5, 6)\n"
     ]
    }
   ],
   "source": [
    "# tuple * 튜플로 바꾸기\n",
    "print(tuple(\"abc\"))\n",
    "print(tuple([1,2,3,4,5,6]))\n",
    "print(tuple((1,2,3,4,5,6)))"
   ]
  },
  {
   "cell_type": "code",
   "execution_count": 56,
   "id": "2b9258de-f9aa-4cab-8248-579e6d1c2108",
   "metadata": {},
   "outputs": [
    {
     "name": "stdout",
     "output_type": "stream",
     "text": [
      "<class 'str'>\n",
      "<class 'int'>\n"
     ]
    }
   ],
   "source": [
    "# type ** 자료형 확인\n",
    "print(type(\"abc\"))\n",
    "print(type(1234))"
   ]
  },
  {
   "cell_type": "code",
   "execution_count": 57,
   "id": "8f10f1c2-5ae4-48b0-8637-764a2fe806a9",
   "metadata": {},
   "outputs": [
    {
     "name": "stdout",
     "output_type": "stream",
     "text": [
      "11 : apple => dog\n",
      "22 : banana => cat\n",
      "33 : kiwi => elephant\n",
      "44 : cherry => Lion\n",
      "55 : mango => Rabbit\n"
     ]
    }
   ],
   "source": [
    "# zip ** 묶어서 리턴\n",
    "fruit = ['apple','banana','kiwi','cherry','mango']\n",
    "animal = ['dog','cat','elephant','Lion','Rabbit']\n",
    "num = [11,22,33,44,55]\n",
    "for f, a, n in zip(fruit, animal, num):\n",
    "    print(n,':',f,'=>',a)"
   ]
  },
  {
   "cell_type": "markdown",
   "id": "bd5ed613-b50f-4f25-922d-a718dd4299d4",
   "metadata": {},
   "source": [
    "# 표준 라이브러리"
   ]
  },
  {
   "cell_type": "code",
   "execution_count": 67,
   "id": "d79f6f76-ca85-4f94-829f-e609bc1ded5a",
   "metadata": {},
   "outputs": [
    {
     "name": "stdout",
     "output_type": "stream",
     "text": [
      "2025-02-03 2025-07-25\n",
      "전체 수업기간 :  172 일\n",
      "남은 수업기간 :  157 일\n",
      "지난 수업기간 :  15 일\n"
     ]
    }
   ],
   "source": [
    "import datetime\n",
    "day1 = datetime.date(2025,2,3)\n",
    "day2 = datetime.date(2025,7,25)\n",
    "print(day1, day2)\n",
    "diff = day2 - day1\n",
    "print(\"전체 수업기간 : \", diff.days,\"일\")\n",
    "diff2 = day2 - datetime.datetime.now().date()\n",
    "print(\"남은 수업기간 : \", diff2.days,\"일\")\n",
    "print(\"지난 수업기간 : \", diff.days - diff2.days,\"일\")\n",
    "# diff = day2 - day1\n",
    "# diff.days -15"
   ]
  },
  {
   "cell_type": "code",
   "execution_count": 64,
   "id": "b7e84aa1-19e3-4ead-80c6-1211ee62894b",
   "metadata": {},
   "outputs": [
    {
     "data": {
      "text/plain": [
       "datetime.date(2025, 2, 18)"
      ]
     },
     "execution_count": 64,
     "metadata": {},
     "output_type": "execute_result"
    }
   ],
   "source": [
    "datetime.datetime.now().date()"
   ]
  },
  {
   "cell_type": "code",
   "execution_count": 77,
   "id": "28385b8b-ddb8-46d4-883c-16d3398388fb",
   "metadata": {},
   "outputs": [
    {
     "name": "stdout",
     "output_type": "stream",
     "text": [
      "그날은 일요일 입니다.\n"
     ]
    }
   ],
   "source": [
    "# 요일 확인\n",
    "days = ['월','화','수','목','금','토','일']\n",
    "day = datetime.date(2020,2,2)\n",
    "# day.isoweekday()\n",
    "print(\"그날은 \" + days[day.weekday()] + \"요일 입니다.\")"
   ]
  },
  {
   "cell_type": "code",
   "execution_count": 2,
   "id": "c23006e7-9b3b-4bcf-a706-888db3b0c20e",
   "metadata": {},
   "outputs": [],
   "source": [
    "import datetime\n",
    "def xms():\n",
    "    days = ['월','화','수','목','금','토','일']\n",
    "    day1 = datetime.datetime.now().date()\n",
    "    day2 = datetime.date(2025,12,25)\n",
    "    diff = day2 - day1\n",
    "    return(f\"오늘은 {day1} 입니다. 🎄크리스마스 까지 남은 기간은 {diff.days}일 이며, 🎅크리스마스는 {days[day2.weekday()]}요일 입니다!!\")"
   ]
  },
  {
   "cell_type": "code",
   "execution_count": 3,
   "id": "5ee362e8-3546-4818-9f5e-016b0391aa62",
   "metadata": {},
   "outputs": [
    {
     "name": "stdout",
     "output_type": "stream",
     "text": [
      "오늘은 2025-02-18 입니다. 🎄크리스마스 까지 남은 기간은 310일 이며, 🎅크리스마스는 목요일 입니다!!\n"
     ]
    }
   ],
   "source": [
    "print(xms())"
   ]
  },
  {
   "cell_type": "code",
   "execution_count": 3,
   "id": "4b1c8e20-c0e4-4636-abe6-fd2c90fdaa71",
   "metadata": {},
   "outputs": [],
   "source": [
    "import xm"
   ]
  },
  {
   "cell_type": "code",
   "execution_count": 4,
   "id": "f93edb3e-1192-4149-989c-6248ea234e60",
   "metadata": {},
   "outputs": [
    {
     "data": {
      "text/plain": [
       "1739855447.7381475"
      ]
     },
     "execution_count": 4,
     "metadata": {},
     "output_type": "execute_result"
    }
   ],
   "source": [
    "import time\n",
    "time.time()"
   ]
  },
  {
   "cell_type": "code",
   "execution_count": 5,
   "id": "0f09cc8f-eb35-4c6d-879b-60674a05e4bb",
   "metadata": {},
   "outputs": [
    {
     "name": "stdout",
     "output_type": "stream",
     "text": [
      "time.struct_time(tm_year=2025, tm_mon=2, tm_mday=18, tm_hour=14, tm_min=14, tm_sec=50, tm_wday=1, tm_yday=49, tm_isdst=0)\n"
     ]
    }
   ],
   "source": [
    "tt = time.localtime(time.time())\n",
    "print(tt)"
   ]
  },
  {
   "cell_type": "code",
   "execution_count": 6,
   "id": "73015a38-ca7f-495e-ad46-79f3c686687c",
   "metadata": {},
   "outputs": [
    {
     "data": {
      "text/plain": [
       "'Tue Feb 18 14:16:48 2025'"
      ]
     },
     "execution_count": 6,
     "metadata": {},
     "output_type": "execute_result"
    }
   ],
   "source": [
    "time.asctime(time.localtime(time.time()))"
   ]
  },
  {
   "cell_type": "code",
   "execution_count": 7,
   "id": "7f0ac2d0-e356-42d2-a68f-063ebcf79a78",
   "metadata": {},
   "outputs": [
    {
     "data": {
      "text/plain": [
       "'Tue Feb 18 14:16:53 2025'"
      ]
     },
     "execution_count": 7,
     "metadata": {},
     "output_type": "execute_result"
    }
   ],
   "source": [
    "time.ctime()"
   ]
  },
  {
   "cell_type": "code",
   "execution_count": 9,
   "id": "5d7afc77-4e98-4a0d-8886-f1ed97fa659e",
   "metadata": {},
   "outputs": [
    {
     "data": {
      "text/plain": [
       "'Tue Feb 18 14:19:19 2025'"
      ]
     },
     "execution_count": 9,
     "metadata": {},
     "output_type": "execute_result"
    }
   ],
   "source": [
    "time.strftime('%x',time.localtime(time.time()))\n",
    "time.strftime('%X',time.localtime(time.time()))\n",
    "time.strftime('%c',time.localtime(time.time()))"
   ]
  },
  {
   "cell_type": "code",
   "execution_count": 10,
   "id": "e9434f20-1aaf-48a4-beb3-0cb8066a54ea",
   "metadata": {},
   "outputs": [
    {
     "name": "stdout",
     "output_type": "stream",
     "text": [
      "10"
     ]
    }
   ],
   "source": [
    "import time as t\n",
    "for i in range(1,11):\n",
    "    print(i,end='\\r')\n",
    "    t.sleep(1)"
   ]
  },
  {
   "cell_type": "markdown",
   "id": "5aef99c0-9114-4df2-9c1e-f4ceb0e8da72",
   "metadata": {},
   "source": [
    "## math.gcd , math.lcm"
   ]
  },
  {
   "cell_type": "code",
   "execution_count": 11,
   "id": "0aac8274-d50c-41fa-ab4b-f8a048362b30",
   "metadata": {},
   "outputs": [],
   "source": [
    "import math"
   ]
  },
  {
   "cell_type": "code",
   "execution_count": 14,
   "id": "090023fd-b1b2-411a-a904-d82dabdcb036",
   "metadata": {},
   "outputs": [
    {
     "name": "stdout",
     "output_type": "stream",
     "text": [
      "3.141592653589793\n",
      "20\n",
      "75\n"
     ]
    }
   ],
   "source": [
    "print(math.pi)\n",
    "print(math.gcd(60,100,80))\n",
    "print(math.lcm(15,25))"
   ]
  },
  {
   "cell_type": "code",
   "execution_count": 24,
   "id": "bb7c893e-596c-4a33-930e-f4432d5aaad8",
   "metadata": {},
   "outputs": [
    {
     "name": "stdout",
     "output_type": "stream",
     "text": [
      "0.6315891635218318\n",
      "2\n"
     ]
    }
   ],
   "source": [
    "import random as r\n",
    "# r.random()\n",
    "print(r.random())\n",
    "# r.randint()\n",
    "print(r.randint(1,10))"
   ]
  },
  {
   "cell_type": "code",
   "execution_count": 25,
   "id": "7b35f06e-6a2f-4134-8d35-25a0770e78fc",
   "metadata": {},
   "outputs": [
    {
     "name": "stdout",
     "output_type": "stream",
     "text": [
      "44 22 22 33 22 22 "
     ]
    }
   ],
   "source": [
    "# r.choice()\n",
    "data = [11, 22, 33, 44, 55, 66]\n",
    "for n in range(6):\n",
    "    print(r.choice(data), end=' ')"
   ]
  },
  {
   "cell_type": "code",
   "execution_count": 26,
   "id": "f76a3a73-4956-4f7f-9509-e08d0246bd4e",
   "metadata": {},
   "outputs": [
    {
     "name": "stdout",
     "output_type": "stream",
     "text": [
      "[16, 9, 8, 4, 14, 1, 7, 10, 18, 6, 15, 17, 2, 3, 12, 19, 13, 20, 11, 5] 20\n",
      "{1, 2, 3, 4, 5, 6, 7, 8, 9, 10, 11, 12, 13, 14, 15, 16, 17, 18, 19, 20} 20\n"
     ]
    }
   ],
   "source": [
    "# r.sample()\n",
    "li = list(range(1,21))\n",
    "arr = []\n",
    "for n in r.sample(li,len(li)):\n",
    "    arr.append(n)\n",
    "print(arr, len(arr))\n",
    "sarr = set(arr)\n",
    "print(sarr,len(sarr))"
   ]
  },
  {
   "cell_type": "code",
   "execution_count": 1,
   "id": "a437084c-611e-4d19-b933-a03c7bb0d7ac",
   "metadata": {},
   "outputs": [
    {
     "name": "stdout",
     "output_type": "stream",
     "text": [
      "19: REBEL HEART / IVE (아이브)\n",
      "29: HOME SWEET HOME (feat. 태양, 대성) / G-DRAGON\n",
      "39: 나는 반딧불 / 황가람\n",
      "49: Whiplash / aespa\n",
      "59: Drowning / WOODZ\n",
      "69: ATTITUDE / IVE (아이브)\n",
      "79: APT. / 로제 (ROSÉ)\n",
      "89: 오늘만 I LOVE YOU / Bruno Mars\n",
      "99: toxic till the end / BOYNEXTDOOR\n",
      "109: 모르시나요(PROD.로코베리) / 로제 (ROSÉ)\n",
      "119: Dash / 조째즈\n",
      "129: HAPPY / PLAVE\n",
      "139: POWER / DAY6 (데이식스)\n",
      "149: 내게 사랑이 뭐냐고 물어본다면 / G-DRAGON\n",
      "159: RIZZ / 로이킴\n",
      "169: DRIP / PLAVE\n",
      "179: Chroma Drift / BABYMONSTER\n",
      "189: Island / PLAVE\n",
      "199: 너와의 모든 지금 / PLAVE\n",
      "209: 소나기 / 재쓰비 (JAESSBEE)\n",
      " "
     ]
    }
   ],
   "source": [
    "import requests as req\n",
    "from bs4 import BeautifulSoup as bs\n",
    "url = \"https://www.melon.com/chart/index.htm\"\n",
    "headers = {'User-Agent':'Mozilla/5.0 (Windows NT 10.0; Win64; x64) AppleWebKit/537.36 (KHTML, like Gecko) Chrome/133.0.0.0 Safari/537.36 Edg/133.0.0.0'}\n",
    "web = req.get(url, headers = headers)\n",
    "soup = bs(web.content, 'html.parser' )\n",
    "\n",
    "title = soup. select('.rank01') [:20]\n",
    "name = soup. select('.checkEllipsis a' ) [:20]\n",
    "str = ''\n",
    "for i, (t, n) in enumerate(zip(title, name),1):\n",
    "    str += f'{i}9: {t.text.strip()} / {n.text}\\n'\n",
    "print(str,end=' ')"
   ]
  },
  {
   "cell_type": "code",
   "execution_count": null,
   "id": "2d8433de-3033-499e-b571-bd771d481d00",
   "metadata": {},
   "outputs": [],
   "source": []
  }
 ],
 "metadata": {
  "kernelspec": {
   "display_name": "Python 3 (ipykernel)",
   "language": "python",
   "name": "python3"
  },
  "language_info": {
   "codemirror_mode": {
    "name": "ipython",
    "version": 3
   },
   "file_extension": ".py",
   "mimetype": "text/x-python",
   "name": "python",
   "nbconvert_exporter": "python",
   "pygments_lexer": "ipython3",
   "version": "3.13.1"
  }
 },
 "nbformat": 4,
 "nbformat_minor": 5
}
