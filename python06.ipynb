{
 "cells": [
  {
   "cell_type": "markdown",
   "id": "0322c68f-d2dd-4cb5-948b-18f3db09d811",
   "metadata": {},
   "source": [
    "# 내장함수"
   ]
  },
  {
   "cell_type": "code",
   "execution_count": 1,
   "id": "95543ea7-6bc0-4c87-aa54-87aa84f758c4",
   "metadata": {},
   "outputs": [
    {
     "name": "stdout",
     "output_type": "stream",
     "text": [
      "3\n",
      "1.2\n"
     ]
    }
   ],
   "source": [
    "# abs *\n",
    "print(abs(-3))\n",
    "print(abs(-1.2))"
   ]
  },
  {
   "cell_type": "code",
   "execution_count": 5,
   "id": "ee86994e-0144-4595-a972-4468afea4404",
   "metadata": {},
   "outputs": [
    {
     "name": "stdout",
     "output_type": "stream",
     "text": [
      "True\n",
      "False\n",
      "True\n"
     ]
    }
   ],
   "source": [
    "print(all([1,2,3]))\n",
    "print(all([11,22,0,44,55]))\n",
    "print(all([]))"
   ]
  },
  {
   "cell_type": "code",
   "execution_count": 9,
   "id": "8e18a3a9-7455-403d-aca5-f7b077ed5928",
   "metadata": {},
   "outputs": [
    {
     "name": "stdout",
     "output_type": "stream",
     "text": [
      "True\n",
      "False\n",
      "False\n"
     ]
    }
   ],
   "source": [
    "# any *\n",
    "print(any([1,2,3,0]))\n",
    "print(any([0,\"\",[],False]))\n",
    "print(any([]))"
   ]
  },
  {
   "cell_type": "code",
   "execution_count": 11,
   "id": "050ae50f-e018-4ec1-a67a-369942fae323",
   "metadata": {},
   "outputs": [
    {
     "name": "stdout",
     "output_type": "stream",
     "text": [
      "A\n",
      "가\n",
      "65\n",
      "44032\n"
     ]
    }
   ],
   "source": [
    "print(chr(65))\n",
    "print(chr(44032))\n",
    "# 유니코드 - UTF -8 (인코딩 방식)\n",
    "print(ord('A'))\n",
    "print(ord('가'))"
   ]
  },
  {
   "cell_type": "code",
   "execution_count": 47,
   "id": "856e7c96-b965-43cc-b6eb-5b551df10e6f",
   "metadata": {},
   "outputs": [
    {
     "name": "stdout",
     "output_type": "stream",
     "text": [
      "['A', 'B', 'C', 'D', 'E', 'F', 'G', 'H', 'I', 'J', 'K', 'L', 'M', 'N', 'O', 'P', 'Q', 'R', 'S', 'T', 'U', 'V', 'W', 'X', 'Y']\n"
     ]
    }
   ],
   "source": [
    "asc1 = []\n",
    "\n",
    "for i in range(65,90):\n",
    "    asc1.append(chr(i))\n",
    "print(asc1)"
   ]
  },
  {
   "cell_type": "code",
   "execution_count": 45,
   "id": "a51f5e37-e53a-49e7-8f82-23da830a1e3f",
   "metadata": {},
   "outputs": [
    {
     "name": "stdout",
     "output_type": "stream",
     "text": [
      "['y', 'x', 'w', 'v', 'u', 't', 's', 'r', 'q', 'p', 'o', 'n', 'm', 'l', 'k', 'j', 'i', 'h', 'g', 'f', 'e', 'd', 'c', 'b', 'a']\n"
     ]
    }
   ],
   "source": [
    "asc2 = []\n",
    "\n",
    "for i in range(97,122):\n",
    "    asc2.append(chr(i))\n",
    "print(asc[::-1])"
   ]
  },
  {
   "cell_type": "code",
   "execution_count": 44,
   "id": "8ddf05b7-8a83-4100-b55d-360c67c8f382",
   "metadata": {},
   "outputs": [
    {
     "name": "stdout",
     "output_type": "stream",
     "text": [
      "A1 A2 A3 A4 A5 A6 A7 A8 A9 A10 \n",
      "B1 B2 B3 B4 B5 B6 B7 B8 B9 B10 \n",
      "C1 C2 C3 C4 C5 C6 C7 C8 C9 C10 \n"
     ]
    }
   ],
   "source": [
    "for i in range(65,68):\n",
    "    for num in range(1, 11): \n",
    "        print(f\"{chr(i)}{num}\", end=' ')\n",
    "    print()"
   ]
  },
  {
   "cell_type": "code",
   "execution_count": 12,
   "id": "1cd79cc2-5dd9-4886-bf74-b8139dbda2d7",
   "metadata": {},
   "outputs": [
    {
     "name": "stdin",
     "output_type": "stream",
     "text": [
      "당신의 기분을 한 문장으로 표현해주세요:  좋아서 멋지고 그래서 사랑해\n"
     ]
    },
    {
     "ename": "AssertionError",
     "evalue": "phrase input should be string, not <class 'list'>",
     "output_type": "error",
     "traceback": [
      "\u001b[1;31m---------------------------------------------------------------------------\u001b[0m",
      "\u001b[1;31mAssertionError\u001b[0m                            Traceback (most recent call last)",
      "Cell \u001b[1;32mIn[12], line 31\u001b[0m\n\u001b[0;32m     28\u001b[0m             \u001b[38;5;28mprint\u001b[39m(\u001b[38;5;124m\"\u001b[39m\u001b[38;5;124m평범한 하루네요.\u001b[39m\u001b[38;5;124m\"\u001b[39m)\n\u001b[0;32m     30\u001b[0m obj \u001b[38;5;241m=\u001b[39m team()\n\u001b[1;32m---> 31\u001b[0m \u001b[43mobj\u001b[49m\u001b[38;5;241;43m.\u001b[39;49m\u001b[43mp4\u001b[49m\u001b[43m(\u001b[49m\u001b[43m)\u001b[49m\n",
      "Cell \u001b[1;32mIn[12], line 11\u001b[0m, in \u001b[0;36mteam.p4\u001b[1;34m(self)\u001b[0m\n\u001b[0;32m      8\u001b[0m negative_words \u001b[38;5;241m=\u001b[39m [\u001b[38;5;124m\"\u001b[39m\u001b[38;5;124m싫어\u001b[39m\u001b[38;5;124m\"\u001b[39m, \u001b[38;5;124m\"\u001b[39m\u001b[38;5;124m화나\u001b[39m\u001b[38;5;124m\"\u001b[39m, \u001b[38;5;124m\"\u001b[39m\u001b[38;5;124m짜증\u001b[39m\u001b[38;5;124m\"\u001b[39m, \u001b[38;5;124m\"\u001b[39m\u001b[38;5;124m별로\u001b[39m\u001b[38;5;124m\"\u001b[39m, \u001b[38;5;124m\"\u001b[39m\u001b[38;5;124m나빠\u001b[39m\u001b[38;5;124m\"\u001b[39m]\n\u001b[0;32m     10\u001b[0m \u001b[38;5;28mself\u001b[39m\u001b[38;5;241m.\u001b[39mstatus \u001b[38;5;241m=\u001b[39m \u001b[38;5;28minput\u001b[39m(\u001b[38;5;124m\"\u001b[39m\u001b[38;5;124m당신의 기분을 한 문장으로 표현해주세요: \u001b[39m\u001b[38;5;124m\"\u001b[39m)\u001b[38;5;241m.\u001b[39msplit()\n\u001b[1;32m---> 11\u001b[0m words \u001b[38;5;241m=\u001b[39m \u001b[43mokt\u001b[49m\u001b[38;5;241;43m.\u001b[39;49m\u001b[43mmorphs\u001b[49m\u001b[43m(\u001b[49m\u001b[38;5;28;43mself\u001b[39;49m\u001b[38;5;241;43m.\u001b[39;49m\u001b[43mstatus\u001b[49m\u001b[43m,\u001b[49m\u001b[43m \u001b[49m\u001b[43mstem\u001b[49m\u001b[38;5;241;43m=\u001b[39;49m\u001b[38;5;28;43;01mTrue\u001b[39;49;00m\u001b[43m)\u001b[49m\n\u001b[0;32m     12\u001b[0m \u001b[38;5;28mprint\u001b[39m(\u001b[38;5;124m\"\u001b[39m\u001b[38;5;124m입력된 단어:\u001b[39m\u001b[38;5;124m\"\u001b[39m, \u001b[38;5;28mself\u001b[39m\u001b[38;5;241m.\u001b[39mstatus)\n\u001b[0;32m     14\u001b[0m \u001b[38;5;28;01mfor\u001b[39;00m i \u001b[38;5;129;01min\u001b[39;00m \u001b[38;5;28mself\u001b[39m\u001b[38;5;241m.\u001b[39mstatus:\n",
      "File \u001b[1;32m~\\AppData\\Local\\Programs\\Python\\Python313\\Lib\\site-packages\\konlpy\\tag\\_okt.py:89\u001b[0m, in \u001b[0;36mOkt.morphs\u001b[1;34m(self, phrase, norm, stem)\u001b[0m\n\u001b[0;32m     86\u001b[0m \u001b[38;5;28;01mdef\u001b[39;00m\u001b[38;5;250m \u001b[39m\u001b[38;5;21mmorphs\u001b[39m(\u001b[38;5;28mself\u001b[39m, phrase, norm\u001b[38;5;241m=\u001b[39m\u001b[38;5;28;01mFalse\u001b[39;00m, stem\u001b[38;5;241m=\u001b[39m\u001b[38;5;28;01mFalse\u001b[39;00m):\n\u001b[0;32m     87\u001b[0m \u001b[38;5;250m    \u001b[39m\u001b[38;5;124;03m\"\"\"Parse phrase to morphemes.\"\"\"\u001b[39;00m\n\u001b[1;32m---> 89\u001b[0m     \u001b[38;5;28;01mreturn\u001b[39;00m [s \u001b[38;5;28;01mfor\u001b[39;00m s, t \u001b[38;5;129;01min\u001b[39;00m \u001b[38;5;28;43mself\u001b[39;49m\u001b[38;5;241;43m.\u001b[39;49m\u001b[43mpos\u001b[49m\u001b[43m(\u001b[49m\u001b[43mphrase\u001b[49m\u001b[43m,\u001b[49m\u001b[43m \u001b[49m\u001b[43mnorm\u001b[49m\u001b[38;5;241;43m=\u001b[39;49m\u001b[43mnorm\u001b[49m\u001b[43m,\u001b[49m\u001b[43m \u001b[49m\u001b[43mstem\u001b[49m\u001b[38;5;241;43m=\u001b[39;49m\u001b[43mstem\u001b[49m\u001b[43m)\u001b[49m]\n",
      "File \u001b[1;32m~\\AppData\\Local\\Programs\\Python\\Python313\\Lib\\site-packages\\konlpy\\tag\\_okt.py:69\u001b[0m, in \u001b[0;36mOkt.pos\u001b[1;34m(self, phrase, norm, stem, join)\u001b[0m\n\u001b[0;32m     58\u001b[0m \u001b[38;5;28;01mdef\u001b[39;00m\u001b[38;5;250m \u001b[39m\u001b[38;5;21mpos\u001b[39m(\u001b[38;5;28mself\u001b[39m, phrase, norm\u001b[38;5;241m=\u001b[39m\u001b[38;5;28;01mFalse\u001b[39;00m, stem\u001b[38;5;241m=\u001b[39m\u001b[38;5;28;01mFalse\u001b[39;00m, join\u001b[38;5;241m=\u001b[39m\u001b[38;5;28;01mFalse\u001b[39;00m):\n\u001b[0;32m     59\u001b[0m \u001b[38;5;250m    \u001b[39m\u001b[38;5;124;03m\"\"\"POS tagger.\u001b[39;00m\n\u001b[0;32m     60\u001b[0m \u001b[38;5;124;03m    In contrast to other classes in this subpackage,\u001b[39;00m\n\u001b[0;32m     61\u001b[0m \u001b[38;5;124;03m    this POS tagger doesn't have a `flatten` option,\u001b[39;00m\n\u001b[1;32m   (...)\u001b[0m\n\u001b[0;32m     67\u001b[0m \u001b[38;5;124;03m    :param join: If True, returns joined sets of morph and tag.\u001b[39;00m\n\u001b[0;32m     68\u001b[0m \u001b[38;5;124;03m    \"\"\"\u001b[39;00m\n\u001b[1;32m---> 69\u001b[0m     \u001b[43mvalidate_phrase_inputs\u001b[49m\u001b[43m(\u001b[49m\u001b[43mphrase\u001b[49m\u001b[43m)\u001b[49m\n\u001b[0;32m     71\u001b[0m     tokens \u001b[38;5;241m=\u001b[39m \u001b[38;5;28mself\u001b[39m\u001b[38;5;241m.\u001b[39mjki\u001b[38;5;241m.\u001b[39mtokenize(\n\u001b[0;32m     72\u001b[0m                 phrase,\n\u001b[0;32m     73\u001b[0m                 jpype\u001b[38;5;241m.\u001b[39mjava\u001b[38;5;241m.\u001b[39mlang\u001b[38;5;241m.\u001b[39mBoolean(norm),\n\u001b[0;32m     74\u001b[0m                 jpype\u001b[38;5;241m.\u001b[39mjava\u001b[38;5;241m.\u001b[39mlang\u001b[38;5;241m.\u001b[39mBoolean(stem))\u001b[38;5;241m.\u001b[39mtoArray()\n\u001b[0;32m     75\u001b[0m     \u001b[38;5;28;01mif\u001b[39;00m join:\n",
      "File \u001b[1;32m~\\AppData\\Local\\Programs\\Python\\Python313\\Lib\\site-packages\\konlpy\\tag\\_common.py:20\u001b[0m, in \u001b[0;36mvalidate_phrase_inputs\u001b[1;34m(phrase)\u001b[0m\n\u001b[0;32m     14\u001b[0m \u001b[38;5;250m\u001b[39m\u001b[38;5;124;03m\"\"\"validate if phrase input is provided in str format\u001b[39;00m\n\u001b[0;32m     15\u001b[0m \n\u001b[0;32m     16\u001b[0m \u001b[38;5;124;03mArgs:\u001b[39;00m\n\u001b[0;32m     17\u001b[0m \u001b[38;5;124;03m    phrase (str): phrase input\u001b[39;00m\n\u001b[0;32m     18\u001b[0m \u001b[38;5;124;03m\"\"\"\u001b[39;00m\n\u001b[0;32m     19\u001b[0m msg \u001b[38;5;241m=\u001b[39m \u001b[38;5;124m\"\u001b[39m\u001b[38;5;124mphrase input should be string, not \u001b[39m\u001b[38;5;132;01m%s\u001b[39;00m\u001b[38;5;124m\"\u001b[39m \u001b[38;5;241m%\u001b[39m \u001b[38;5;28mtype\u001b[39m(phrase)\n\u001b[1;32m---> 20\u001b[0m \u001b[38;5;28;01massert\u001b[39;00m \u001b[38;5;28misinstance\u001b[39m(phrase, basestring), msg\n",
      "\u001b[1;31mAssertionError\u001b[0m: phrase input should be string, not <class 'list'>"
     ]
    }
   ],
   "source": [
    "from konlpy.tag import Okt\n",
    "\n",
    "okt = Okt()\n",
    "\n",
    "class team:\n",
    "    def p4(self):\n",
    "        positive_words = [\"좋아\", \"행복\", \"멋져\", \"최고\", \"사랑해\"]\n",
    "        negative_words = [\"싫어\", \"화나\", \"짜증\", \"별로\", \"나빠\"]\n",
    "        \n",
    "        self.status = input(\"당신의 기분을 한 문장으로 표현해주세요: \").split()\n",
    "        words = okt.morphs(self.status, stem=True)\n",
    "        print(\"입력된 단어:\", self.status)\n",
    "        \n",
    "        for i in self.status:\n",
    "            if i in positive_words:\n",
    "                self.pw.append(i)\n",
    "            elif i in negative_words:\n",
    "                self.nw.append(i)\n",
    "                \n",
    "        print(\"긍정적인 단어:\", self.pw)\n",
    "        print(\"부정적인 단어:\", self.nw)\n",
    "\n",
    "        if len(self.pw) > len(self.nw):\n",
    "            print(\"기분이 좋아 보이네요!\")\n",
    "        elif len(self.nw) > len(self.pw):\n",
    "            print(\"기분이 나빠 보이네요.\")\n",
    "        else:\n",
    "            print(\"평범한 하루네요.\")\n",
    "\n",
    "obj = team()\n",
    "obj.p4()"
   ]
  },
  {
   "cell_type": "code",
   "execution_count": 4,
   "id": "3a2ad0f1-1149-4acc-86bf-2e997c0f15ec",
   "metadata": {},
   "outputs": [
    {
     "name": "stdout",
     "output_type": "stream",
     "text": [
      "Requirement already satisfied: konlpy in c:\\users\\admin\\appdata\\local\\programs\\python\\python313\\lib\\site-packages (0.6.0)\n",
      "Requirement already satisfied: JPype1>=0.7.0 in c:\\users\\admin\\appdata\\local\\programs\\python\\python313\\lib\\site-packages (from konlpy) (1.5.2)\n",
      "Requirement already satisfied: lxml>=4.1.0 in c:\\users\\admin\\appdata\\local\\programs\\python\\python313\\lib\\site-packages (from konlpy) (5.3.1)\n",
      "Requirement already satisfied: numpy>=1.6 in c:\\users\\admin\\appdata\\local\\programs\\python\\python313\\lib\\site-packages (from konlpy) (2.2.2)\n",
      "Requirement already satisfied: packaging in c:\\users\\admin\\appdata\\local\\programs\\python\\python313\\lib\\site-packages (from JPype1>=0.7.0->konlpy) (24.2)\n"
     ]
    }
   ],
   "source": [
    "!pip install konlpy"
   ]
  },
  {
   "cell_type": "code",
   "execution_count": 170,
   "id": "1eeb69f1-37d2-48d6-91f0-86ed5b2173b0",
   "metadata": {},
   "outputs": [
    {
     "name": "stdin",
     "output_type": "stream",
     "text": [
      "당신의 기분을 한 문장으로 표현해주세요:  좋아 좋아 별로야 싫어 기뻐\n"
     ]
    },
    {
     "name": "stdout",
     "output_type": "stream",
     "text": [
      "입력된 단어: 좋아 좋아 별로야 싫어 기뻐\n",
      "긍정적인 단어: ['좋아']\n",
      "부정적인 단어: ['좋아']\n",
      "평범한 하루네요.\n"
     ]
    }
   ],
   "source": [
    "\n",
    "obj = team2()\n",
    "obj.p4()"
   ]
  },
  {
   "cell_type": "code",
   "execution_count": 178,
   "id": "d6b95e30-5d89-4c22-a957-3bee503bb7fc",
   "metadata": {},
   "outputs": [
    {
     "name": "stdin",
     "output_type": "stream",
     "text": [
      "숫자를 입력하세요:  3\n",
      "문장을 입력하세요:  banana orange kiwi apple\n"
     ]
    },
    {
     "name": "stdout",
     "output_type": "stream",
     "text": [
      "가장 긴 단어는: ['banana', 'orange']\n"
     ]
    }
   ],
   "source": [
    "class Team2:\n",
    "    def __init__(self):\n",
    "        self.cont=\"\"\n",
    "        self.res=[]\n",
    "        self.word = \"\"\n",
    "        self.lst = list(map(int, input(\"숫자를 입력하세요: \").split()))\n",
    "        self.long_result=[]\n",
    "        self.pw = []\n",
    "        self.nw = []\n",
    "        self.status = []\n",
    "    def compare(self):\n",
    "        if self.word==self.word[::-1]:\n",
    "            print(\"똑같다\")\n",
    "        else: \n",
    "            print(\"다르다\")\n",
    "\n",
    "    def ex2(self):\n",
    "        lst1 = [i for i in self.lst if i % 2 == 0]\n",
    "        lst2 = [i for i in self.lst if i % 2 != 0]\n",
    "        return lst1, lst2\n",
    "    def display_numbers(self):\n",
    "        num1, num2 = self.ex2()\n",
    "        print(\"짝수:\", num1)\n",
    "        print(\"홀수:\", num2)\n",
    "\n",
    "\n",
    "    def longest_words(self):\n",
    "        long_result = self.long_result\n",
    "        words = input(\"문장을 입력하세요: \").split()\n",
    "        max_len = len(max(words, key=len))\n",
    "    \n",
    "        for word in words:\n",
    "            if len(word) == max_len:\n",
    "                long_result.append(word)\n",
    "    \n",
    "        print(\"가장 긴 단어는:\", long_result)\n",
    "\n",
    "\n",
    "    def face(self):\n",
    "        self.status = input(\"당신의 기분을 한 문장으로 표현해주세요: \").split()\n",
    "        \n",
    "    def p4(self):\n",
    "        positive_words = [\"좋아\", \"행복\", \"멋져\", \"최고\", \"사랑해\"]\n",
    "        negative_words = [\"싫어\", \"화나\", \"짜증\", \"별로\", \"나빠\"]\n",
    "\n",
    "        print(\"입력된 단어:\", self.status)\n",
    "        \n",
    "        for i in self.status:\n",
    "            if i in positive_words:\n",
    "                self.pw.append(i)\n",
    "            elif i in negative_words:\n",
    "                self.nw.append(i)\n",
    "                \n",
    "        print(\"긍정적인 단어:\", self.pw)\n",
    "        print(\"부정적인 단어:\", self.nw)\n",
    "\n",
    "        if len(self.pw) > len(self.nw):\n",
    "            print(\"기분이 좋아 보이네요!\")\n",
    "        elif len(self.nw) > len(self.pw):\n",
    "            print(\"기분이 나빠 보이네요.\")\n",
    "        else:\n",
    "            print(\"평범한 하루네요.\")\n",
    "\n",
    "    def p5(self):\n",
    "        self.cont=input(\"원하시는 문장을 입력하세요\")\n",
    "        ls=self.cont.split(\" \")\n",
    "        a=ord('a')\n",
    "        z=ord('z')\n",
    "        for n in ls:\n",
    "            up=ord(n[0])\n",
    "            if a<=up and up<=z :\n",
    "                word=n[0].upper()+n[1:]\n",
    "                self.res.append(word)\n",
    "        print(\" \".join(self.res))\n",
    "\n",
    "obj = Team2()\n",
    "# obj.compare()\n",
    "# obj.longest_words()\n",
    "# obj.display_numbers()\n",
    "# obj.p4()\n",
    "# obj.p5()"
   ]
  },
  {
   "cell_type": "code",
   "execution_count": 130,
   "id": "2cee05b7-5468-482d-8f2f-28207ecc7720",
   "metadata": {},
   "outputs": [
    {
     "name": "stdin",
     "output_type": "stream",
     "text": [
      "단어를 입력하세요:  우영우\n",
      "숫자를 입력하세요:  3\n"
     ]
    },
    {
     "name": "stdout",
     "output_type": "stream",
     "text": [
      "똑같다\n",
      "짝수: []\n",
      "홀수: [3]\n"
     ]
    },
    {
     "name": "stdin",
     "output_type": "stream",
     "text": [
      "당신의 기분을 한 문장으로 표현해주세요:  좋아\n"
     ]
    },
    {
     "name": "stdout",
     "output_type": "stream",
     "text": [
      "입력된 단어: ['좋아']\n",
      "긍정적인 단어: ['좋아']\n",
      "부정적인 단어: []\n",
      "기분이 좋아 보이네요!\n"
     ]
    },
    {
     "name": "stdin",
     "output_type": "stream",
     "text": [
      "원하시는 문장을 입력하세요 apple is good\n"
     ]
    },
    {
     "name": "stdout",
     "output_type": "stream",
     "text": [
      "Apple Is Good\n"
     ]
    }
   ],
   "source": [
    "# obj = Team2()\n",
    "# obj.compare()\n",
    "# obj.display_numbers()\n",
    "# obj.p4()\n",
    "# obj.p5()"
   ]
  },
  {
   "cell_type": "code",
   "execution_count": 13,
   "id": "d8316792-fc65-46a4-bb65-0453a867797b",
   "metadata": {},
   "outputs": [
    {
     "name": "stderr",
     "output_type": "stream",
     "text": [
      "java version \"1.8.0_441\"\n",
      "Java(TM) SE Runtime Environment (build 1.8.0_441-b07)\n",
      "Java HotSpot(TM) 64-Bit Server VM (build 25.441-b07, mixed mode)\n"
     ]
    }
   ],
   "source": [
    "!java -version"
   ]
  },
  {
   "cell_type": "code",
   "execution_count": null,
   "id": "af013fe7-1c42-4968-9b7b-218d000d6f93",
   "metadata": {},
   "outputs": [],
   "source": []
  }
 ],
 "metadata": {
  "kernelspec": {
   "display_name": "Python 3 (ipykernel)",
   "language": "python",
   "name": "python3"
  },
  "language_info": {
   "codemirror_mode": {
    "name": "ipython",
    "version": 3
   },
   "file_extension": ".py",
   "mimetype": "text/x-python",
   "name": "python",
   "nbconvert_exporter": "python",
   "pygments_lexer": "ipython3",
   "version": "3.13.1"
  }
 },
 "nbformat": 4,
 "nbformat_minor": 5
}
