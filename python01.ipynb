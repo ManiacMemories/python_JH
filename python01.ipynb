{
 "cells": [
  {
   "cell_type": "markdown",
   "id": "592c8f70-5bc3-4de3-bc91-8327187ac255",
   "metadata": {
    "jp-MarkdownHeadingCollapsed": true
   },
   "source": [
    "# 주피터랩 단축키\n",
    "- a : 위 셀 추가\n",
    "- b : 아래셀 추가\n",
    "- ctrl + shift + 위 : 셀 위로 이동\n",
    "- ctrl + shift + 아래 : 셀 아래로 이동\n",
    "- shift + enter : 셀 실행\n",
    "- dd : 셀 삭제\n",
    "- x : 셀 잘라내기\n",
    "- c : 셀 복사\n",
    "- v : 셀 붙여넣기\n",
    "- z : undo\n",
    "- shift + z : redo"
   ]
  },
  {
   "cell_type": "markdown",
   "id": "3b61f736-2f61-4108-8b3e-9ebd2d78b666",
   "metadata": {},
   "source": [
    "# 기초"
   ]
  },
  {
   "cell_type": "code",
   "execution_count": 1,
   "id": "91473b6c-6ede-48aa-aa36-f608b6271a63",
   "metadata": {},
   "outputs": [
    {
     "name": "stdout",
     "output_type": "stream",
     "text": [
      "사실은 두번 째~~\n"
     ]
    }
   ],
   "source": [
    "#print('주피터랩에 처음이에요')\n",
    "print('사실은 두번 째~~')"
   ]
  },
  {
   "cell_type": "code",
   "execution_count": 2,
   "id": "f226a844-f2ff-429c-88cd-b2becafac5df",
   "metadata": {},
   "outputs": [
    {
     "name": "stdout",
     "output_type": "stream",
     "text": [
      "4610\n"
     ]
    }
   ],
   "source": [
    "print(1277+3333)"
   ]
  },
  {
   "cell_type": "code",
   "execution_count": 3,
   "id": "e77ce40d-523f-43e4-aa7c-0d2aa3299af0",
   "metadata": {},
   "outputs": [
    {
     "name": "stdout",
     "output_type": "stream",
     "text": [
      "시간이 많이 남았어...\n"
     ]
    }
   ],
   "source": [
    "import time as t\n",
    "print('배고프다', end = '\\r')\n",
    "t.sleep(1)\n",
    "print('근데', end = '\\r')\n",
    "t.sleep(1)\n",
    "print('시간이 많이 남았어...')"
   ]
  },
  {
   "cell_type": "code",
   "execution_count": 4,
   "id": "0dca6cff-50db-4aea-88ea-b7f93168f397",
   "metadata": {},
   "outputs": [
    {
     "name": "stdout",
     "output_type": "stream",
     "text": [
      "1-2-3-4-5\n"
     ]
    }
   ],
   "source": [
    "print(1,2,3,4,5, sep = '-')"
   ]
  },
  {
   "cell_type": "markdown",
   "id": "11c65e47-cd02-4d09-8689-f12c7680ea23",
   "metadata": {},
   "source": [
    "# 자료형"
   ]
  },
  {
   "cell_type": "markdown",
   "id": "8d22323b-ac2e-46c3-9455-a9e807d72c21",
   "metadata": {},
   "source": [
    "<table>\n",
    "<thead>\n",
    "<tr>\n",
    "<th>코드</th>\n",
    "<th>설명</th>\n",
    "</tr>\n",
    "</thead>\n",
    "<tbody>\n",
    "<tr>\n",
    "<td><code>\\n</code></td>\n",
    "<td>문자열 안에서 줄을 바꿀 때 사용</td>\n",
    "</tr>\n",
    "<tr>\n",
    "<td><code>\\t</code></td>\n",
    "<td>문자열 사이에 탭 간격을 줄 때 사용</td>\n",
    "</tr>\n",
    "<tr>\n",
    "<td><code>\\\\</code></td>\n",
    "<td><code>\\</code>를 그대로 표현할 때 사용</td>\n",
    "</tr>\n",
    "<tr>\n",
    "<td><code>\\'</code></td>\n",
    "<td>작은따옴표(')를 그대로 표현할 때 사용</td>\n",
    "</tr>\n",
    "<tr>\n",
    "<td><code>\\\"</code></td>\n",
    "<td>큰따옴표(\")를 그대로 표현할 때 사용</td>\n",
    "</tr>\n",
    "<tr>\n",
    "<td><code>\\r</code></td>\n",
    "<td>캐리지 리턴(줄 바꿈 문자, 커서를 현재 줄의 가장 앞으로 이동)</td>\n",
    "</tr>\n",
    "<tr>\n",
    "<td><code>\\f</code></td>\n",
    "<td>폼 피드(줄 바꿈 문자, 커서를 현재 줄의 다음 줄로 이동)</td>\n",
    "</tr>\n",
    "<tr>\n",
    "<td><code>\\a</code></td>\n",
    "<td>벨 소리(출력할 때 PC 스피커에서 '삑' 소리가 난다)</td>\n",
    "</tr>\n",
    "<tr>\n",
    "<td><code>\\b</code></td>\n",
    "<td>백 스페이스</td>\n",
    "</tr>\n",
    "<tr>\n",
    "<td><code>\\000</code></td>\n",
    "<td>널 문자</td>\n",
    "</tr>\n",
    "</tbody>\n",
    "</table>"
   ]
  },
  {
   "cell_type": "markdown",
   "id": "ec19aa88-7f49-4ddb-b047-5553b3293e24",
   "metadata": {},
   "source": [
    "## 숫자형"
   ]
  },
  {
   "cell_type": "code",
   "execution_count": 5,
   "id": "572e3f69-6d6d-4124-b66d-f5141a89d488",
   "metadata": {},
   "outputs": [
    {
     "name": "stdout",
     "output_type": "stream",
     "text": [
      "123 -178 0\n"
     ]
    }
   ],
   "source": [
    "# 정수형\n",
    "a = 123\n",
    "b = -178\n",
    "c = 0\n",
    "print(a,b,c)"
   ]
  },
  {
   "cell_type": "code",
   "execution_count": 6,
   "id": "d3eede52-8607-4c9e-9b5c-7b632cad117b",
   "metadata": {},
   "outputs": [
    {
     "name": "stdout",
     "output_type": "stream",
     "text": [
      "덧셈 556\n",
      "======================\n",
      "뺄셈 356\n",
      "======================\n",
      "곱셈 45600\n",
      "======================\n",
      "나눗셈 4.56\n",
      "======================\n",
      "몫 4\n",
      "======================\n",
      "나머지 56\n",
      "======================\n",
      "제곱 207936\n",
      "======================\n"
     ]
    }
   ],
   "source": [
    "# 사칙연산 예\n",
    "sachik = 456\n",
    "sem = 100\n",
    "print('덧셈',sachik + sem, end = '\\n======================\\n')\n",
    "print('뺄셈',sachik - sem, end = '\\n======================\\n')\n",
    "print('곱셈',sachik * sem, end = '\\n======================\\n')\n",
    "print('나눗셈',sachik / sem, end = '\\n======================\\n')\n",
    "print('몫',sachik // sem, end = '\\n======================\\n')\n",
    "print('나머지',sachik % sem, end = '\\n======================\\n')\n",
    "print('제곱',sachik ** 2, end = '\\n======================\\n')"
   ]
  },
  {
   "cell_type": "code",
   "execution_count": 7,
   "id": "f222e1c9-b48c-4100-af27-1e83f94844fc",
   "metadata": {},
   "outputs": [
    {
     "name": "stdout",
     "output_type": "stream",
     "text": [
      "1.2 -3.14 4.24e-10\n"
     ]
    }
   ],
   "source": [
    "# 실수형\n",
    "aa = 1.2\n",
    "bb = -3.14\n",
    "cc = 4.24e-10\n",
    "print(aa,bb,cc)"
   ]
  },
  {
   "cell_type": "code",
   "execution_count": 9,
   "id": "5ff09a97-d74a-4eaa-a430-f3f813c627c9",
   "metadata": {},
   "outputs": [
    {
     "name": "stdout",
     "output_type": "stream",
     "text": [
      "15\n",
      "127 2748\n"
     ]
    }
   ],
   "source": [
    "# 2진수(bin)\n",
    "aaa = 0b1111\n",
    "print(aaa)\n",
    "# 8진수(oct)와 16진수(hex)\n",
    "bbb = 0o177\n",
    "ccc = 0xABC\n",
    "print(bbb,ccc)\n"
   ]
  },
  {
   "cell_type": "code",
   "execution_count": 10,
   "id": "a4e68b9e-9943-4c79-8276-eeca3e543f48",
   "metadata": {},
   "outputs": [
    {
     "data": {
      "text/plain": [
       "81"
      ]
     },
     "execution_count": 10,
     "metadata": {},
     "output_type": "execute_result"
    }
   ],
   "source": [
    "a = 3\n",
    "b = 4\n",
    "a ** b"
   ]
  },
  {
   "cell_type": "code",
   "execution_count": 12,
   "id": "e5311d5a-9776-4d76-8760-9140db65cd37",
   "metadata": {},
   "outputs": [
    {
     "name": "stdout",
     "output_type": "stream",
     "text": [
      "2\n",
      "3\n",
      "4\n"
     ]
    }
   ],
   "source": [
    "# 복합연산자\n",
    "a = 1\n",
    "a = a + 1\n",
    "print(a)\n",
    "a = a + 1\n",
    "print(a)\n",
    "a = a + 1\n",
    "print(a)"
   ]
  },
  {
   "cell_type": "code",
   "execution_count": 18,
   "id": "abb70f72-7c1b-4424-ab05-8964fac6b056",
   "metadata": {},
   "outputs": [],
   "source": [
    "# 복합연산자\n",
    "a = 10\n"
   ]
  },
  {
   "cell_type": "code",
   "execution_count": 24,
   "id": "65c49f50-8aeb-49f4-91fe-4b0637d634c4",
   "metadata": {},
   "outputs": [
    {
     "name": "stdout",
     "output_type": "stream",
     "text": [
      "4\n"
     ]
    }
   ],
   "source": [
    "a -= 1\n",
    "print(a)"
   ]
  },
  {
   "cell_type": "code",
   "execution_count": null,
   "id": "5032413c-8b04-408d-9ac6-8ad7cd5d4f6f",
   "metadata": {},
   "outputs": [],
   "source": [
    "# 복합연산자\n"
   ]
  },
  {
   "cell_type": "markdown",
   "id": "ee0582d0-9e96-446a-a826-75d8f3c1a38e",
   "metadata": {},
   "source": [
    "## 문자열 자료형"
   ]
  },
  {
   "cell_type": "code",
   "execution_count": 27,
   "id": "8d376cef-b37b-4ff2-b1ea-35e31691dfdf",
   "metadata": {},
   "outputs": [
    {
     "name": "stdout",
     "output_type": "stream",
     "text": [
      "문자형입니다.\n",
      "\n",
      "이것은 여러 줄 문자열 처리입니다.\n",
      "\n",
      "\n",
      "이것도 여러 줄 문자열 입니다.\n",
      "\n"
     ]
    }
   ],
   "source": [
    "# 주석처리입니다.\n",
    "str1 = '문자형입니다.'\n",
    "print(str1)\n",
    "\n",
    "str2 = '''\n",
    "이것은 여러 줄 문자열 처리입니다.\n",
    "'''\n",
    "\n",
    "print(str2)\n",
    "str3 = \"\"\"\n",
    "이것도 여러 줄 문자열 입니다.\n",
    "\"\"\"\n",
    "\n",
    "print(str3)"
   ]
  },
  {
   "cell_type": "code",
   "execution_count": 31,
   "id": "e220fa91-8c2c-4f2b-b57a-9ffc59f1113d",
   "metadata": {},
   "outputs": [
    {
     "name": "stdout",
     "output_type": "stream",
     "text": [
      "Python's 'favorite' food is perl\n"
     ]
    }
   ],
   "source": [
    "# food = \"Python's favorite food is perl\"\n",
    "food = 'Python\\'s \\'favorite\\' food is perl'\n",
    "print(food)"
   ]
  },
  {
   "cell_type": "code",
   "execution_count": 32,
   "id": "36cf9ee1-58b9-40ff-afe2-8dea1b3e9033",
   "metadata": {},
   "outputs": [
    {
     "name": "stdout",
     "output_type": "stream",
     "text": [
      "Life is too short \n",
      "you need python\n"
     ]
    }
   ],
   "source": [
    "multiline = \"Life is too short \\nyou need python\"\n",
    "print(multiline)"
   ]
  },
  {
   "cell_type": "code",
   "execution_count": 33,
   "id": "bae6d1da-f5cc-42cb-b47c-4b58e06086af",
   "metadata": {},
   "outputs": [
    {
     "name": "stdout",
     "output_type": "stream",
     "text": [
      "Life is too short\n",
      "you need python\n",
      "\n"
     ]
    }
   ],
   "source": [
    "multiline = '''Life is too short\n",
    "you need python\n",
    "'''\n",
    "print(multiline)"
   ]
  },
  {
   "cell_type": "code",
   "execution_count": 34,
   "id": "084e6c12-81ca-475b-b448-623184aa1e98",
   "metadata": {},
   "outputs": [
    {
     "name": "stdout",
     "output_type": "stream",
     "text": [
      "Python is fun!\n"
     ]
    }
   ],
   "source": [
    "# 문자열 연산하기\n",
    "head = \"Python\"\n",
    "tail = \" is fun!\"\n",
    "print(head + tail)"
   ]
  },
  {
   "cell_type": "code",
   "execution_count": 38,
   "id": "d0b5e944-e176-4de2-82ee-3ac72c7dfedc",
   "metadata": {},
   "outputs": [
    {
     "name": "stdout",
     "output_type": "stream",
     "text": [
      "python\n",
      "python\n",
      "python\n",
      "python\n",
      "python\n",
      "\n"
     ]
    }
   ],
   "source": [
    "a = \"python\" + \"\\n\"\n",
    "print(a * 5)"
   ]
  },
  {
   "cell_type": "code",
   "execution_count": 58,
   "id": "73199007-8f76-4df8-a411-4b1aefe067c1",
   "metadata": {},
   "outputs": [
    {
     "name": "stdout",
     "output_type": "stream",
     "text": [
      "====================\n",
      "     영 수 증\n",
      "====================\n",
      "아메리카노 : 16500 원 \n",
      "라떼 : 7200 원 \n",
      "허브티 : 12000 원 \n",
      "====================\n",
      "\n"
     ]
    }
   ],
   "source": [
    "# 숫자계산\n",
    "p1 = 5500 * 3\n",
    "p2 = 7200 * 1\n",
    "p3 = 6000 * 2\n",
    "\n",
    "#문자열계산\n",
    "m1 = \"아메리카노 : \" + str(p1) +\" 원 \\n\" # 문자랑 숫자는 더할 수 없다.\n",
    "m2 = \"라떼 : \" + str(p2) +\" 원 \\n\"\n",
    "m3 = \"허브티 : \" + str(p3) + \" 원 \\n\"\n",
    "m4 = (\"=\" * 20) + \"\\n\"\n",
    "m5 = \"     \" + \"영 수 증\" + \"\\n\"\n",
    "# print(\"=\" * 20)\n",
    "# print(\"    영 수 증\") # 문자와 문자는 더할 수 있다.\n",
    "# print(\"=\" * 20) # 문자와 숫자는 곱할 수 있다.\n",
    "# print(m1+m2+m3)\n",
    "# print(\"=\" * 20)\n",
    "\n",
    "print(m4+m5+m4+m1+m2+m3+m4)"
   ]
  },
  {
   "cell_type": "code",
   "execution_count": 59,
   "id": "a723de63-cb70-45e5-9dc4-750dc24b108e",
   "metadata": {},
   "outputs": [
    {
     "name": "stdout",
     "output_type": "stream",
     "text": [
      "17\n"
     ]
    }
   ],
   "source": [
    "a = \"Life is too short\"\n",
    "print(len(a))"
   ]
  },
  {
   "cell_type": "code",
   "execution_count": 63,
   "id": "032bfad8-56ea-4870-a580-294e840132dd",
   "metadata": {},
   "outputs": [
    {
     "name": "stdout",
     "output_type": "stream",
     "text": [
      "L i f e\n"
     ]
    }
   ],
   "source": [
    "print(a[0], a[1], a[2], a[3])"
   ]
  },
  {
   "cell_type": "code",
   "execution_count": 68,
   "id": "6ff2b757-e6f2-44a2-afa6-9cbede29570a",
   "metadata": {},
   "outputs": [
    {
     "name": "stdout",
     "output_type": "stream",
     "text": [
      "too\n"
     ]
    }
   ],
   "source": [
    "print(a[8] + a[9] + a[10])"
   ]
  },
  {
   "cell_type": "code",
   "execution_count": 70,
   "id": "24459e14-aec7-4253-b143-143ecdecc9bb",
   "metadata": {},
   "outputs": [
    {
     "name": "stdout",
     "output_type": "stream",
     "text": [
      "t r\n"
     ]
    }
   ],
   "source": [
    "print(a[-1],a[-2])"
   ]
  },
  {
   "cell_type": "code",
   "execution_count": 77,
   "id": "478ebd6a-e75c-4ce8-a7c7-bdb9117d3fe8",
   "metadata": {},
   "outputs": [
    {
     "name": "stdout",
     "output_type": "stream",
     "text": [
      "too\n",
      "need\n"
     ]
    }
   ],
   "source": [
    "a = \"Life is too short, You need Python\"\n",
    "#too\n",
    "print(a[8:11])\n",
    "print(a[23:27])"
   ]
  },
  {
   "cell_type": "code",
   "execution_count": 78,
   "id": "2b7841aa-7a1e-468f-80e7-23ee607212b9",
   "metadata": {},
   "outputs": [
    {
     "name": "stdout",
     "output_type": "stream",
     "text": [
      "Python\n"
     ]
    }
   ],
   "source": [
    "print(a[28:])"
   ]
  },
  {
   "cell_type": "code",
   "execution_count": 83,
   "id": "48e5186d-cee1-4f17-954f-7aeef1f030d8",
   "metadata": {},
   "outputs": [
    {
     "name": "stdout",
     "output_type": "stream",
     "text": [
      "nohtyP deen uoY ,trohs oot si efiL\n"
     ]
    }
   ],
   "source": [
    "print(a[::-1])"
   ]
  },
  {
   "cell_type": "code",
   "execution_count": 94,
   "id": "bfa57c5a-50e7-4dfc-b71c-e04d5cb518ff",
   "metadata": {},
   "outputs": [
    {
     "name": "stdout",
     "output_type": "stream",
     "text": [
      "2025년 02월 03일 오늘은 화창하다\n"
     ]
    }
   ],
   "source": [
    "today = \"20250203 오늘은 화창하다\"\n",
    "year = today[:4]\n",
    "month = today[4:6]\n",
    "day = today[6:8]\n",
    "weather = today[8:]\n",
    "print(year + \"년 \" + month + \"월 \" + day + \"일\" + weather)"
   ]
  },
  {
   "cell_type": "code",
   "execution_count": 116,
   "id": "3586189d-3018-4624-86fd-05ac31630a16",
   "metadata": {},
   "outputs": [
    {
     "name": "stdout",
     "output_type": "stream",
     "text": [
      "한국서 돈벌고 '나 몰라라' 코스트코… 연회비 인상률은 미국의 3배\n"
     ]
    }
   ],
   "source": [
    "import requests\n",
    "url = 'https://v.daum.net/v/20250203151815463'\n",
    "res = requests.get(url).text\n",
    "# print(res[374:409]+'3'+res[410])\n",
    "result = res[374:411]\n",
    "out = result[:-2] + '3' + result[-1]\n",
    "print(out)"
   ]
  },
  {
   "cell_type": "code",
   "execution_count": 6,
   "id": "460a0634-08ce-42de-84c8-24087c0d1700",
   "metadata": {},
   "outputs": [
    {
     "name": "stdout",
     "output_type": "stream",
     "text": [
      "한국서 돈벌고 '나 몰라라' 코스트코… 연회비 인상률은 미국의 10배\n"
     ]
    }
   ],
   "source": [
    "#목표 출력\n",
    "print(\"한국서 돈벌고 '나 몰라라' 코스트코… 연회비 인상률은 미국의 %d배\" %10)"
   ]
  },
  {
   "cell_type": "code",
   "execution_count": 136,
   "id": "783fb438-14ae-4a3b-bda6-ba0fd91165d9",
   "metadata": {},
   "outputs": [
    {
     "name": "stdout",
     "output_type": "stream",
     "text": [
      "김정현의 톡쏘는 일상 : 네이버 블로그\n"
     ]
    }
   ],
   "source": [
    "import requests\n",
    "url = 'https://blog.naver.com/droad777' \n",
    "res = requests.get(url).text\n",
    "# print(res[895:915])\n",
    "result = res[895:915]\n",
    "out = '김정현' + result[2:]\n",
    "print(out)"
   ]
  },
  {
   "cell_type": "markdown",
   "id": "e15e8c85-da61-4ab8-be73-7fb658192298",
   "metadata": {},
   "source": [
    "## 문자열 포매팅"
   ]
  },
  {
   "cell_type": "code",
   "execution_count": 11,
   "id": "3c194cd5-707d-4939-8c5b-8a7835150103",
   "metadata": {},
   "outputs": [
    {
     "name": "stdout",
     "output_type": "stream",
     "text": [
      "I eat 3 apples.\n",
      "I eat 10 apples.\n",
      "I eat five apples.\n"
     ]
    }
   ],
   "source": [
    "print(\"I eat 3 apples.\")\n",
    "print(\"I eat %d apples.\" %10)\n",
    "print(\"I eat %s apples.\" %\"five\")"
   ]
  },
  {
   "cell_type": "markdown",
   "id": "0b1de098-65d1-4d02-a3e9-dbda47f41e3e",
   "metadata": {},
   "source": [
    "<table>\n",
    "<thead>\n",
    "<tr>\n",
    "<th>코드</th>\n",
    "<th>설명</th>\n",
    "</tr>\n",
    "</thead>\n",
    "<tbody>\n",
    "<tr>\n",
    "<td>%s</td>\n",
    "<td>문자열(String)</td>\n",
    "</tr>\n",
    "<tr>\n",
    "<td>%c</td>\n",
    "<td>문자 1개(character)</td>\n",
    "</tr>\n",
    "<tr>\n",
    "<td>%d</td>\n",
    "<td>정수(Integer)</td>\n",
    "</tr>\n",
    "<tr>\n",
    "<td>%f</td>\n",
    "<td>부동소수(floating-point)</td>\n",
    "</tr>\n",
    "<tr>\n",
    "<td>%o</td>\n",
    "<td>8진수</td>\n",
    "</tr>\n",
    "<tr>\n",
    "<td>%x</td>\n",
    "<td>16진수</td>\n",
    "</tr>\n",
    "<tr>\n",
    "<td>%%</td>\n",
    "<td>Literal % (문자 <code>%</code> 자체)</td>\n",
    "</tr>\n",
    "</tbody>\n",
    "</table>"
   ]
  },
  {
   "cell_type": "code",
   "execution_count": 15,
   "id": "3602b1fa-87a2-4547-ad48-d97cbcf7ab1a",
   "metadata": {},
   "outputs": [
    {
     "name": "stdout",
     "output_type": "stream",
     "text": [
      "사람 몸의 수분은 60% 이다.\n"
     ]
    }
   ],
   "source": [
    "print(\"사람 몸의 수분은 %d%% 이다.\" %60)"
   ]
  },
  {
   "cell_type": "code",
   "execution_count": 21,
   "id": "8ccdaf37-738b-462c-8000-7fcab3fc2850",
   "metadata": {},
   "outputs": [
    {
     "name": "stdout",
     "output_type": "stream",
     "text": [
      "십진수 123은 16진수로 7b이다.\n",
      "십진수 123은 8진수로 173이다.\n",
      "십진수 123은 8진수로 173이고, 16진수로 7b이다.\n"
     ]
    }
   ],
   "source": [
    "print(\"십진수 %d은 16진수로 %x이다.\" %(123,123))\n",
    "print(\"십진수 %d은 8진수로 %o이다.\" %(123,123))\n",
    "print(\"십진수 %d은 8진수로 %o이고, 16진수로 %x이다.\" %(123,123,123))"
   ]
  },
  {
   "cell_type": "code",
   "execution_count": 26,
   "id": "ef3aa698-3e4e-4b16-9b8f-e67f5671d1fd",
   "metadata": {},
   "outputs": [
    {
     "name": "stdout",
     "output_type": "stream",
     "text": [
      "        hiJane\n"
     ]
    }
   ],
   "source": [
    "# 우측 정렬 공백\n",
    "print(\"%10sJane\" % \"hi\")"
   ]
  },
  {
   "attachments": {
    "86d5b009-79af-4551-ae77-2beb12c26827.png": {
     "image/png": "[encoded data removed]"
    }
   },
   "cell_type": "markdown",
   "id": "d854c0cb-3268-456e-ab36-507c3b980685",
   "metadata": {},
   "source": [
    "![image.png](attachment:86d5b009-79af-4551-ae77-2beb12c26827.png)"
   ]
  },
  {
   "cell_type": "code",
   "execution_count": 27,
   "id": "8cce0f35-741d-485a-95cb-8d5faf1a220a",
   "metadata": {},
   "outputs": [
    {
     "name": "stdout",
     "output_type": "stream",
     "text": [
      "hi        Jane\n"
     ]
    }
   ],
   "source": [
    "#좌측 정렬 공백\n",
    "print(\"%-10sJane\" % \"hi\")"
   ]
  },
  {
   "attachments": {
    "4f9ceaf3-ffa9-416d-ac07-8ea6ce46664f.png": {
     "image/png": "[encoded data removed]"
    }
   },
   "cell_type": "markdown",
   "id": "c42cbb7c-55dd-4b86-9056-a32b02e2e885",
   "metadata": {},
   "source": [
    "![image.png](attachment:4f9ceaf3-ffa9-416d-ac07-8ea6ce46664f.png)"
   ]
  },
  {
   "cell_type": "code",
   "execution_count": 30,
   "id": "69d80ef1-3e75-4c14-951b-8de0cec8c38f",
   "metadata": {},
   "outputs": [
    {
     "name": "stdout",
     "output_type": "stream",
     "text": [
      "3.141592\n"
     ]
    }
   ],
   "source": [
    "# 소숫점 표현하기\n",
    "print(\"%f\" %3.141592)"
   ]
  },
  {
   "cell_type": "code",
   "execution_count": 31,
   "id": "c7eaa539-5623-4926-b663-9271c5d6caf0",
   "metadata": {},
   "outputs": [
    {
     "name": "stdout",
     "output_type": "stream",
     "text": [
      "  3.141592\n"
     ]
    }
   ],
   "source": [
    "# 소숫점 공백 표현하기\n",
    "print(\"%10f\" %3.141592)"
   ]
  },
  {
   "attachments": {
    "6cc06de9-f9be-4a63-b622-922e447edc9a.png": {
     "image/png": "[encoded data removed]"
    }
   },
   "cell_type": "markdown",
   "id": "881e29d6-79a0-40cf-8966-9070c1d3fc7e",
   "metadata": {},
   "source": [
    "![image.png](attachment:6cc06de9-f9be-4a63-b622-922e447edc9a.png)"
   ]
  },
  {
   "cell_type": "markdown",
   "id": "a73194a1-eae2-4576-ac3f-6e0ef9c5d8f0",
   "metadata": {},
   "source": [
    "## foramt 함수를 사용한 포매팅"
   ]
  },
  {
   "cell_type": "code",
   "execution_count": 40,
   "id": "28b9540f-3c2f-44bd-8551-29ccf4866bcc",
   "metadata": {},
   "outputs": [
    {
     "name": "stdout",
     "output_type": "stream",
     "text": [
      "I eat 3 of 10 apples\n"
     ]
    }
   ],
   "source": [
    "# 바로 대입하기\n",
    "print(\"I eat {0} of {1} apples\".format(3,10))"
   ]
  },
  {
   "cell_type": "code",
   "execution_count": 38,
   "id": "247160c4-5192-4dfe-9b15-f496d97299b6",
   "metadata": {},
   "outputs": [
    {
     "name": "stdout",
     "output_type": "stream",
     "text": [
      "I eat three of 10 apples\n"
     ]
    }
   ],
   "source": [
    "# 변수로 대입하기\n",
    "total = 10\n",
    "ea = \"three\"\n",
    "print(\"I eat {0} of {1} apples\".format(ea,total))"
   ]
  },
  {
   "cell_type": "code",
   "execution_count": 41,
   "id": "a27e5a4a-e57c-4dcd-8d42-805d24c2cee8",
   "metadata": {},
   "outputs": [
    {
     "name": "stdout",
     "output_type": "stream",
     "text": [
      "I eat three of 10 apples\n"
     ]
    }
   ],
   "source": [
    "print(\"I eat {ea} of {total} apples\".format(ea=\"three\",total=10))"
   ]
  },
  {
   "cell_type": "code",
   "execution_count": 43,
   "id": "34e9f866-9e1c-4fb8-b2e0-eef60ed60231",
   "metadata": {},
   "outputs": [
    {
     "name": "stdout",
     "output_type": "stream",
     "text": [
      "I ate 10 apples. so I was sick for 3 days.\n"
     ]
    }
   ],
   "source": [
    "# 인덱스와 이름을 혼용해서 넣기\n",
    "print(\"I ate {0} apples. so I was sick for {day} days.\".format(10, day=3))"
   ]
  },
  {
   "cell_type": "code",
   "execution_count": 50,
   "id": "851ab9bb-4b5d-4713-8968-37fc22e10bc5",
   "metadata": {},
   "outputs": [
    {
     "name": "stdout",
     "output_type": "stream",
     "text": [
      "        hi\n"
     ]
    }
   ],
   "source": [
    "# 우측 정렬\n",
    "print(\"{0:>10}\".format(\"hi\"))"
   ]
  },
  {
   "cell_type": "code",
   "execution_count": 51,
   "id": "9efdff8b-81b6-4434-8c6a-2c297833b78b",
   "metadata": {},
   "outputs": [
    {
     "name": "stdout",
     "output_type": "stream",
     "text": [
      "    hi    \n"
     ]
    }
   ],
   "source": [
    "# 가운데 정렬\n",
    "print(\"{0:^10}\".format(\"hi\"))"
   ]
  },
  {
   "cell_type": "code",
   "execution_count": 52,
   "id": "609b2556-8531-4071-a894-487d1637f141",
   "metadata": {},
   "outputs": [
    {
     "name": "stdout",
     "output_type": "stream",
     "text": [
      "hi        \n"
     ]
    }
   ],
   "source": [
    "# 좌측 정렬\n",
    "print(\"{0:10}\".format(\"hi\"))"
   ]
  },
  {
   "cell_type": "code",
   "execution_count": 55,
   "id": "230837b1-708d-4fee-aa94-72ae8e2d7f96",
   "metadata": {},
   "outputs": [
    {
     "name": "stdout",
     "output_type": "stream",
     "text": [
      "====hi====\n"
     ]
    }
   ],
   "source": [
    "# 가운데 정렬 + 글자 채우기\n",
    "print(\"{0:=^10}\".format(\"hi\"))"
   ]
  },
  {
   "cell_type": "code",
   "execution_count": 56,
   "id": "d8b6cae2-cda7-46c2-8791-5a0d7e7141cd",
   "metadata": {},
   "outputs": [
    {
     "name": "stdout",
     "output_type": "stream",
     "text": [
      "ㅋㅋㅋ웃겨!ㅋㅋㅋㅋ\n"
     ]
    }
   ],
   "source": [
    "# 가운데 정렬 + 글자 채우기\n",
    "print(\"{0:ㅋ^10}\".format(\"웃겨!\"))"
   ]
  },
  {
   "cell_type": "code",
   "execution_count": 59,
   "id": "3ea26ba5-e0af-42b4-8bf5-f56945825294",
   "metadata": {},
   "outputs": [
    {
     "name": "stdout",
     "output_type": "stream",
     "text": [
      "              3.1416\n"
     ]
    }
   ],
   "source": [
    "# 소수점 표현하기\n",
    "pi = 3.141592\n",
    "print(\"{0:20.4f}\".format(pi))"
   ]
  },
  {
   "cell_type": "code",
   "execution_count": 60,
   "id": "1667da63-3dfe-4220-8e32-5f7730be1ed1",
   "metadata": {},
   "outputs": [
    {
     "name": "stdout",
     "output_type": "stream",
     "text": [
      "중괄호 는 { 과 } 입니다.\n"
     ]
    }
   ],
   "source": [
    "# 이스케이프 처리\n",
    "print(\"{0} 는 {{ 과 }} 입니다.\".format(\"중괄호\"))"
   ]
  },
  {
   "cell_type": "code",
   "execution_count": 70,
   "id": "8ab51685-b891-47ff-902b-e9edff49ae88",
   "metadata": {},
   "outputs": [
    {
     "name": "stdout",
     "output_type": "stream",
     "text": [
      "01111011\n"
     ]
    }
   ],
   "source": [
    "# 2진수 처리\n",
    "print(\"{0:0>8b}\".format(123))"
   ]
  },
  {
   "cell_type": "markdown",
   "id": "2b737e3f-fd68-4add-92f4-7188e0146b00",
   "metadata": {},
   "source": [
    "## f문자열 포매팅"
   ]
  },
  {
   "cell_type": "code",
   "execution_count": 73,
   "id": "f06f3d53-9053-4e3a-a2c2-c20c5e7a8985",
   "metadata": {},
   "outputs": [
    {
     "name": "stdout",
     "output_type": "stream",
     "text": [
      "나의 이름은 배트맨입니다. 나이는 30입니다.\n",
      "내년이면 31 살이 됩니다.\n"
     ]
    }
   ],
   "source": [
    "name = \"배트맨\"\n",
    "age = 30\n",
    "print(f\"나의 이름은 {name}입니다. 나이는 {age}입니다.\")\n",
    "print(f\"내년이면 {age + 1} 살이 됩니다.\")"
   ]
  },
  {
   "cell_type": "code",
   "execution_count": 78,
   "id": "bf37d694-e659-43c4-9d59-89bee33695bd",
   "metadata": {},
   "outputs": [
    {
     "name": "stdout",
     "output_type": "stream",
     "text": [
      "나의 이름은홍길동 입니다. 나이는 30 입니다. 성별은 male 입니다.\n"
     ]
    }
   ],
   "source": [
    "d = {'name':'홍길동','age':30, 'gen':'male'}\n",
    "print(f'나의 이름은{d[\"name\"]} 입니다. 나이는 {d[\"age\"]} 입니다. 성별은 {d[\"gen\"]} 입니다.')"
   ]
  },
  {
   "cell_type": "code",
   "execution_count": 83,
   "id": "0d9ca191-7cfc-4938-bdee-65a3cac76b6e",
   "metadata": {},
   "outputs": [
    {
     "name": "stdout",
     "output_type": "stream",
     "text": [
      "hi        \n",
      "        hi\n",
      "    hi    \n"
     ]
    }
   ],
   "source": [
    "# 왼쪽 정렬\n",
    "print(f'{\"hi\":<10}')\n",
    "# 오른쪽 정렬\n",
    "print(f'{\"hi\":>10}')\n",
    "# 가운데 정렬\n",
    "print(f'{\"hi\":^10}')"
   ]
  },
  {
   "cell_type": "code",
   "execution_count": 87,
   "id": "75bf1828-6159-49e5-bcea-427d9f6425ff",
   "metadata": {},
   "outputs": [
    {
     "name": "stdout",
     "output_type": "stream",
     "text": [
      "3.4213\n",
      "    3.4213\n"
     ]
    }
   ],
   "source": [
    "y = 3.42134234\n",
    "print(f'{y:0.4f}')\n",
    "print(f'{y:10.4f}')"
   ]
  },
  {
   "cell_type": "markdown",
   "id": "f639d0f1-d5b1-4830-ad12-48ec6b279ed7",
   "metadata": {},
   "source": [
    "## 문자열 관련 함수들"
   ]
  },
  {
   "cell_type": "code",
   "execution_count": 96,
   "id": "926e3ee7-8634-4cba-a8d2-906a776991d5",
   "metadata": {},
   "outputs": [
    {
     "data": {
      "text/plain": [
       "2"
      ]
     },
     "execution_count": 96,
     "metadata": {},
     "output_type": "execute_result"
    }
   ],
   "source": [
    "# 문자 개수 세기 count\n",
    "\"hobby\".count('b')"
   ]
  },
  {
   "cell_type": "code",
   "execution_count": 97,
   "id": "e1ae4560-e7aa-446d-ba42-cf36d2741bcd",
   "metadata": {},
   "outputs": [
    {
     "name": "stdout",
     "output_type": "stream",
     "text": [
      "한국서 돈벌고 '나 몰라라' 코스트코… 연회비 인상률은 미국의 3배\n",
      "1\n"
     ]
    }
   ],
   "source": [
    "import requests\n",
    "url = 'https://v.daum.net/v/20250203151815463'\n",
    "res = requests.get(url).text\n",
    "# print(res[374:409]+'3'+res[410])\n",
    "result = res[374:411]\n",
    "out = result[:-2] + '3' + result[-1]\n",
    "print(out)\n",
    "print(out.count('한국'))"
   ]
  },
  {
   "cell_type": "code",
   "execution_count": 101,
   "id": "4acee25d-72d9-4412-a11e-1bff4761aa98",
   "metadata": {},
   "outputs": [
    {
     "name": "stdout",
     "output_type": "stream",
     "text": [
      "한국서 돈벌고 '나 몰라라' 코스트코… 연회비 인상률은 미국의 3배\n",
      "-1\n"
     ]
    }
   ],
   "source": [
    "# 위치 알려주기 1 find\n",
    "print(out)\n",
    "print(out.find('밥'))"
   ]
  },
  {
   "cell_type": "code",
   "execution_count": 104,
   "id": "ec972a3c-d6f9-4322-a65c-13bcfac67c38",
   "metadata": {},
   "outputs": [
    {
     "name": "stdout",
     "output_type": "stream",
     "text": [
      "374\n"
     ]
    }
   ],
   "source": [
    "import requests\n",
    "url = 'https://v.daum.net/v/20250203151815463'\n",
    "res = requests.get(url).text\n",
    "print(res.find('한'))"
   ]
  },
  {
   "cell_type": "code",
   "execution_count": 121,
   "id": "3ab2f2e8-e9b5-48f5-9fb8-b95329895624",
   "metadata": {},
   "outputs": [
    {
     "name": "stdout",
     "output_type": "stream",
     "text": [
      "좋아하는 노래 제목 :  toxic till the end\n",
      "41529\n"
     ]
    }
   ],
   "source": [
    "import requests\n",
    "url = 'https://music.apple.com/kr/playlist/%EC%98%A4%EB%8A%98%EC%9D%98-top-100-%EB%8C%80%ED%95%9C%EB%AF%BC%EA%B5%AD/pl.d3d10c32fbc540b38e266367dc8cb00c' \n",
    "res = requests.get(url).text\n",
    "print('좋아하는 노래 제목 : ',res[41529:41547])\n",
    "# print(res.find('toxic till the end'))\n",
    "print(res.index('toxic till the end')) # 없으면 오류 발생"
   ]
  },
  {
   "cell_type": "code",
   "execution_count": null,
   "id": "a67e4733-ae12-43e5-a0b2-d4d0067111ad",
   "metadata": {},
   "outputs": [],
   "source": [
    "dir(str)"
   ]
  },
  {
   "cell_type": "code",
   "execution_count": 123,
   "id": "b4a01c0a-6874-4248-b1f8-6fe580e3bf4b",
   "metadata": {},
   "outputs": [
    {
     "name": "stdout",
     "output_type": "stream",
     "text": [
      "a,b,c,d,e,f,g\n"
     ]
    }
   ],
   "source": [
    "# 문자열 삽입 join *\n",
    "print(\",\".join('abcdefg'))\n"
   ]
  },
  {
   "cell_type": "code",
   "execution_count": 125,
   "id": "468767c7-f154-429e-bb93-266f7a1d1545",
   "metadata": {},
   "outputs": [
    {
     "name": "stdout",
     "output_type": "stream",
     "text": [
      "a,b,c,d\n"
     ]
    }
   ],
   "source": [
    "print(\",\".join(['a','b','c','d']))"
   ]
  },
  {
   "cell_type": "code",
   "execution_count": 127,
   "id": "553dc671-7968-43be-9b6b-136982e07c29",
   "metadata": {},
   "outputs": [
    {
     "name": "stdout",
     "output_type": "stream",
     "text": [
      "HI\n"
     ]
    }
   ],
   "source": [
    "# 소문자를 대문자로 바꾸기 upper\n",
    "a = \"hi\"\n",
    "print(a.upper())"
   ]
  },
  {
   "cell_type": "code",
   "execution_count": 128,
   "id": "5754e7f8-bcc9-4684-b3da-1f4b412ae1bf",
   "metadata": {},
   "outputs": [
    {
     "name": "stdout",
     "output_type": "stream",
     "text": [
      "hi\n"
     ]
    }
   ],
   "source": [
    "# 대문자를 소문자로 바꾸기 lower\n",
    "a = \"HI\"\n",
    "print(a.lower())"
   ]
  },
  {
   "cell_type": "code",
   "execution_count": 132,
   "id": "0e62e682-78bb-412a-9553-7aa4cd3607fa",
   "metadata": {},
   "outputs": [
    {
     "name": "stdout",
     "output_type": "stream",
     "text": [
      "Life is Egg\n",
      "LIFE IS EGG\n",
      "life is egg\n"
     ]
    }
   ],
   "source": [
    "# 연습\n",
    "v = \"Life is Egg\"\n",
    "big = v.upper()\n",
    "small = v.lower()\n",
    "print(v)\n",
    "print(big)\n",
    "print(small)"
   ]
  },
  {
   "cell_type": "code",
   "execution_count": 136,
   "id": "48a0adab-8fd8-4cba-9a7e-ab4a66045ad0",
   "metadata": {},
   "outputs": [
    {
     "name": "stdout",
     "output_type": "stream",
     "text": [
      "      hi   \n",
      "hi   \n",
      "      hi\n",
      "hi\n"
     ]
    }
   ],
   "source": [
    "a = \"      hi   \"\n",
    "aa = a.lstrip()\n",
    "bb = a.rstrip()\n",
    "cc = a.strip()\n",
    "print(a)\n",
    "print(aa)\n",
    "print(bb)\n",
    "print(cc)"
   ]
  },
  {
   "cell_type": "code",
   "execution_count": 137,
   "id": "5771f099-e99b-4fcf-bee9-764484cf83db",
   "metadata": {},
   "outputs": [
    {
     "name": "stdout",
     "output_type": "stream",
     "text": [
      "         hi         \n",
      "hi         \n",
      "         hi\n",
      "hi\n"
     ]
    }
   ],
   "source": [
    "f = f\"{'hi':^20}\"\n",
    "f1 = f.lstrip()\n",
    "f2 = f.rstrip()\n",
    "f3 = f.strip()\n",
    "print(f)\n",
    "print(f1)\n",
    "print(f2)\n",
    "print(f3)"
   ]
  },
  {
   "cell_type": "code",
   "execution_count": 138,
   "id": "43d66d3c-ee82-4ffd-ad14-00e4688f3a23",
   "metadata": {},
   "outputs": [
    {
     "name": "stdout",
     "output_type": "stream",
     "text": [
      "Life is Egg\n",
      "Life is Beautiful\n"
     ]
    }
   ],
   "source": [
    "# 문자열 바꾸기 replace **\n",
    "a = \"Life is Egg\"\n",
    "c = a.replace(\"Egg\", \"Beautiful\")\n",
    "print(a)\n",
    "print(c)"
   ]
  },
  {
   "cell_type": "code",
   "execution_count": 142,
   "id": "98700b8d-50f3-4597-bbd0-79e3b6ad7c4c",
   "metadata": {},
   "outputs": [
    {
     "name": "stdout",
     "output_type": "stream",
     "text": [
      "['Life', 'is', 'Egg']\n"
     ]
    }
   ],
   "source": [
    "# 문자열 나누기 split *\n",
    "a = \"Life-is-Egg\"\n",
    "aa = a.split('-')\n",
    "print(aa)"
   ]
  },
  {
   "cell_type": "code",
   "execution_count": 151,
   "id": "ae02b09f-6ed9-4f09-8628-7943d027698d",
   "metadata": {},
   "outputs": [
    {
     "name": "stdout",
     "output_type": "stream",
     "text": [
      "['abcdefghi']\n",
      "a=b=c=d=e=f=g=h=i\n",
      "['a', 'b', 'c', 'd', 'e', 'f', 'g', 'h', 'i']\n",
      "abcdefghi\n"
     ]
    }
   ],
   "source": [
    "# 연습\n",
    "ex = \"abcdefghi\"\n",
    "ex2 = ex.split()\n",
    "print(ex2)\n",
    "ex_join = \"=\".join(ex)\n",
    "print(ex_join)\n",
    "ex_split = ex_join.split(\"=\")\n",
    "print(ex_split)\n",
    "ex_replace = ex_join.replace(\"=\",\"\")\n",
    "print(ex_replace)"
   ]
  },
  {
   "cell_type": "code",
   "execution_count": null,
   "id": "270a4dd7-5c50-412b-9c01-291484d04c28",
   "metadata": {},
   "outputs": [],
   "source": []
  }
 ],
 "metadata": {
  "kernelspec": {
   "display_name": "Python 3 (ipykernel)",
   "language": "python",
   "name": "python3"
  },
  "language_info": {
   "codemirror_mode": {
    "name": "ipython",
    "version": 3
   },
   "file_extension": ".py",
   "mimetype": "text/x-python",
   "name": "python",
   "nbconvert_exporter": "python",
   "pygments_lexer": "ipython3",
   "version": "3.13.1"
  }
 },
 "nbformat": 4,
 "nbformat_minor": 5
}
