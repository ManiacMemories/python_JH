{
 "cells": [
  {
   "cell_type": "markdown",
   "id": "bd06efbe-8ff3-412b-a2e7-254408612483",
   "metadata": {},
   "source": [
    "#  제어문"
   ]
  },
  {
   "cell_type": "markdown",
   "id": "1dff2058-a089-4e49-806b-abf1aac43752",
   "metadata": {},
   "source": [
    "## if문"
   ]
  },
  {
   "cell_type": "code",
   "execution_count": 16,
   "id": "e59aabdb-63df-4758-a167-7ba293a23d6d",
   "metadata": {},
   "outputs": [
    {
     "name": "stdout",
     "output_type": "stream",
     "text": [
      "항상 동작합니다!!\n",
      "5가 큽니다\n"
     ]
    }
   ],
   "source": [
    "if True:\n",
    "    print(\"항상 동작합니다!!\")\n",
    "if False:\n",
    "    print(\"이건 동작할까요??\")\n",
    "if [1,3] :\n",
    "    print(\"5가 큽니다\")\n",
    "if 4 > 10:\n",
    "    print(\"나올까요?\")"
   ]
  },
  {
   "cell_type": "code",
   "execution_count": 3,
   "id": "da4a47d9-b248-4e6a-9dca-e1432c319c24",
   "metadata": {},
   "outputs": [
    {
     "name": "stdout",
     "output_type": "stream",
     "text": [
      "9 자... 나 화났어!!!\n",
      "8 자... 나 화났어!!!\n",
      "7 자... 나 화났어!!!\n",
      "6 자... 나 화났어!!!\n",
      "5 자... 나 화났어!!!\n",
      "4 자... 나 화났어!!!\n",
      "3 자... 나 화났어!!!\n",
      "2 자... 나 화났어!!!\n",
      "1 자... 나 화났어!!!\n",
      "0 자... 나 화났어!!!\n"
     ]
    }
   ],
   "source": [
    "num = 10\n",
    "while num:\n",
    "    num -= 1\n",
    "    print(num,\"자... 나 화났어!!!\")\n",
    "    "
   ]
  },
  {
   "cell_type": "code",
   "execution_count": 6,
   "id": "16f637a3-ac02-43bf-a24c-f9f2a6420a02",
   "metadata": {},
   "outputs": [
    {
     "name": "stdout",
     "output_type": "stream",
     "text": [
      "택시를\n",
      "타고\n",
      "가라\n"
     ]
    }
   ],
   "source": [
    "if True:\n",
    "    print(\"택시를\")\n",
    "    print(\"타고\")\n",
    "    print(\"가라\")"
   ]
  },
  {
   "cell_type": "code",
   "execution_count": 11,
   "id": "490d6cc0-7192-4937-907e-ee772dd102ab",
   "metadata": {},
   "outputs": [
    {
     "name": "stdin",
     "output_type": "stream",
     "text": [
      "얼마 가지고 있습니까? 2800\n"
     ]
    },
    {
     "name": "stdout",
     "output_type": "stream",
     "text": [
      "걸어가세요.\n"
     ]
    }
   ],
   "source": [
    "mymoney = int(input(\"얼마 가지고 있습니까?\"))\n",
    "if mymoney >= 3000:\n",
    "    print(\"택시 타고 가세요.\")\n",
    "# if mymoney < 3000:\n",
    "else:\n",
    "    print(\"걸어가세요.\")"
   ]
  },
  {
   "cell_type": "code",
   "execution_count": 14,
   "id": "09ca3b7c-26a2-48ca-a858-be6f1f276a7a",
   "metadata": {},
   "outputs": [
    {
     "name": "stdout",
     "output_type": "stream",
     "text": [
      "=====  and 연산 =====\n",
      "True\n",
      "False\n",
      "False\n",
      "False\n",
      "=====  or 연산 =====\n",
      "True\n",
      "True\n",
      "True\n",
      "False\n",
      "=====  not 연산 =====\n",
      "True\n",
      "False\n",
      "True\n"
     ]
    }
   ],
   "source": [
    "# if True and True:\n",
    "#     print(\"\")\n",
    "\n",
    "print(\"=====  and 연산 =====\")\n",
    "print( True and True)\n",
    "print( True and False)\n",
    "print( False and True)\n",
    "print( False and False)\n",
    "print(\"=====  or 연산 =====\")\n",
    "print( True or True)\n",
    "print( True or False)\n",
    "print( False or True)\n",
    "print( False or False)\n",
    "print(\"=====  not 연산 =====\")\n",
    "print( True)\n",
    "print( not True)\n",
    "print( not False)"
   ]
  },
  {
   "cell_type": "code",
   "execution_count": 17,
   "id": "f8d4d98c-75c5-4906-a47b-6dc0c011c490",
   "metadata": {},
   "outputs": [
    {
     "name": "stdout",
     "output_type": "stream",
     "text": [
      "만납시다\n"
     ]
    }
   ],
   "source": [
    "이상형 = True\n",
    "똑똑 = True\n",
    "if 이상형 and 똑똑 :\n",
    "    print(\"만납시다\")\n",
    "else:\n",
    "    print(\"반가워요\")"
   ]
  },
  {
   "cell_type": "code",
   "execution_count": 16,
   "id": "38ff22a1-e835-497e-a8fa-1e731e5e343f",
   "metadata": {},
   "outputs": [
    {
     "name": "stdout",
     "output_type": "stream",
     "text": [
      "반가워요\n"
     ]
    }
   ],
   "source": [
    "이상형 = False\n",
    "다정 = False\n",
    "if 이상형 and 다정 :\n",
    "    print(\"만납시다\")\n",
    "else:\n",
    "    print(\"반가워요\")"
   ]
  },
  {
   "cell_type": "code",
   "execution_count": 19,
   "id": "4f08bea8-648b-4ec2-8e31-9c87b645d922",
   "metadata": {},
   "outputs": [
    {
     "name": "stdout",
     "output_type": "stream",
     "text": [
      "잘가요\n"
     ]
    }
   ],
   "source": [
    "주사 = True\n",
    "if not 주사:\n",
    "    print(\"만나요\")\n",
    "else:\n",
    "    print(\"잘가요\")"
   ]
  },
  {
   "cell_type": "code",
   "execution_count": 20,
   "id": "450d834c-cf0a-4674-b0f5-378e46b6cf5a",
   "metadata": {},
   "outputs": [
    {
     "name": "stdout",
     "output_type": "stream",
     "text": [
      "택시를 타고 가라\n"
     ]
    }
   ],
   "source": [
    "money = 2000\n",
    "card = True\n",
    "if money >= 3000 or card:\n",
    "    print(\"택시를 타고 가라\")\n",
    "else:\n",
    "    print(\"걸어가라\")"
   ]
  },
  {
   "cell_type": "code",
   "execution_count": 23,
   "id": "78fa88cb-f403-4bdf-acc8-fb83f8e52beb",
   "metadata": {},
   "outputs": [
    {
     "name": "stdout",
     "output_type": "stream",
     "text": [
      "A회사 불합격입니다.\n",
      "B회사 합격입니다.\n",
      "C회사 합격입니다.\n"
     ]
    }
   ],
   "source": [
    "me = 'Python'\n",
    "compA = ['JAVA','CSS','Javascript','C','MySQL']\n",
    "compB = ['JAVA','Python','Javascript','C','MySQL']\n",
    "compC = ['JAVA','Python','MySQL']\n",
    "if me in compA:\n",
    "    print(\"A회사 합격입니다.\")\n",
    "else:\n",
    "    print(\"A회사 불합격입니다.\")\n",
    "if me in compB:\n",
    "    print(\"B회사 합격입니다.\")\n",
    "else:\n",
    "    print(\"B회사 불합격입니다.\")\n",
    "if me in compC:\n",
    "    print(\"C회사 합격입니다.\")\n",
    "else:\n",
    "    print(\"C회사 불합격입니다.\")"
   ]
  },
  {
   "cell_type": "code",
   "execution_count": 45,
   "id": "5ab0a8f7-bab0-45b1-9132-2385e43a1831",
   "metadata": {},
   "outputs": [
    {
     "name": "stdin",
     "output_type": "stream",
     "text": [
      "당신의 점수를 입력하세요 :  44\n"
     ]
    },
    {
     "name": "stdout",
     "output_type": "stream",
     "text": [
      "F학점입니다.\n"
     ]
    }
   ],
   "source": [
    "\n",
    "# if 100 >= num >= 90:\n",
    "#     print(\"당신의 학점은 'A' 입니다.\")\n",
    "# elif 90 > num >= 80:\n",
    "#     print(\"당신의 학점은 'B' 입니다.\")\n",
    "# elif 80 > num >= 70:\n",
    "#     print(\"당신의 학점은 'C' 입니다.\")\n",
    "# elif 70 > num >= 60:\n",
    "#     print(\"당신의 학점은 'D' 입니다.\")\n",
    "# elif 60 > num >= 0:\n",
    "#     print(\"당신의 학점은 'F' 입니다.\")\n",
    "# else:\n",
    "#     print(\"잘 못 입력하셨습니다.\")\n",
    "\n",
    "# grade = 'F'\n",
    "# if 90 <= num: grade = 'A'\n",
    "# if 80 <= num < 90: grade = 'B'\n",
    "# if 70 <= num < 80: grade = 'C'\n",
    "# if 60 <= num < 70: grade = 'D'\n",
    "# print(f'{grade}학점입니다.')\n",
    "num = int(input(\"당신의 점수를 입력하세요 : \"))\n",
    "\n",
    "if 90 <= num: grade = 'A'\n",
    "elif 80 <= num: grade = 'B'\n",
    "elif 70 <= num: grade = 'C'\n",
    "elif 60 <= num: grade = 'D'\n",
    "else: grade = 'F'\n",
    "print(f'{grade}학점입니다.')"
   ]
  },
  {
   "cell_type": "code",
   "execution_count": 52,
   "id": "b0d94e1b-2a34-425b-a0fe-9e6c023186d7",
   "metadata": {},
   "outputs": [
    {
     "name": "stdin",
     "output_type": "stream",
     "text": [
      "현재 온도를 입력하세요 :  10\n"
     ]
    },
    {
     "name": "stdout",
     "output_type": "stream",
     "text": [
      "지금은 가을🌀입니다.\n"
     ]
    }
   ],
   "source": [
    "temp = int(input(\"현재 온도를 입력하세요 : \"))\n",
    "\n",
    "if 25 <= temp: season = '여름🔥'\n",
    "elif 15 <= temp: season = '봄🌞'\n",
    "elif 10 <= temp: season = '가을🌀'\n",
    "else: season = '겨울❄️'\n",
    "print(f'지금은 {season}입니다.')"
   ]
  },
  {
   "cell_type": "markdown",
   "id": "80f467a7-8d39-4800-b4e8-696017588a85",
   "metadata": {},
   "source": [
    "## while 문"
   ]
  },
  {
   "cell_type": "code",
   "execution_count": 55,
   "id": "b2c06bb2-1a3e-41ce-9d91-f53fea7b39ed",
   "metadata": {},
   "outputs": [
    {
     "name": "stdout",
     "output_type": "stream",
     "text": [
      "나무를 1번 찍었습니다.\n",
      "나무를 2번 찍었습니다.\n",
      "나무를 3번 찍었습니다.\n",
      "나무를 4번 찍었습니다.\n",
      "나무를 5번 찍었습니다.\n",
      "나무를 6번 찍었습니다.\n",
      "나무를 7번 찍었습니다.\n",
      "나무를 8번 찍었습니다.\n",
      "나무를 9번 찍었습니다.\n",
      "나무를 10번 찍었습니다.\n",
      "나무 넘어갑니다.\n"
     ]
    }
   ],
   "source": [
    "treeHit = 0\n",
    "while treeHit < 10:\n",
    "    treeHit = treeHit +1\n",
    "    print(\"나무를 %d번 찍었습니다.\" % treeHit)\n",
    "if treeHit == 10:\n",
    "    print(\"나무 넘어갑니다.\")"
   ]
  },
  {
   "cell_type": "code",
   "execution_count": 1,
   "id": "7525671c-5342-4e4a-93c2-a0b1b6839cc2",
   "metadata": {},
   "outputs": [
    {
     "name": "stdout",
     "output_type": "stream",
     "text": [
      "나무를 1번 찍었습니다.\n",
      "나무를 2번 찍었습니다.\n",
      "나무를 3번 찍었습니다.\n",
      "나무를 4번 찍었습니다.\n",
      "나무를 5번 찍었습니다.\n",
      "나무를 6번 찍었습니다.\n",
      "나무를 7번 찍었습니다.\n",
      "나무를 8번 찍었습니다.\n",
      "나무를 9번 찍었습니다.\n",
      "나무를 10번 찍었습니다.\n",
      "나무 넘어갑니다.\n"
     ]
    }
   ],
   "source": [
    "namu = 10\n",
    "while namu:\n",
    "    namu -= 1\n",
    "    print(f\"나무를 {10 - namu}번 찍었습니다.\")\n",
    "print(\"나무 넘어갑니다.\")"
   ]
  },
  {
   "cell_type": "code",
   "execution_count": null,
   "id": "480bcf02-42ce-4afa-b9cc-b5e39de79f61",
   "metadata": {},
   "outputs": [],
   "source": [
    "number = 0\n",
    "while number != 4:\n",
    "    print(prompt"
   ]
  }
 ],
 "metadata": {
  "kernelspec": {
   "display_name": "Python 3 (ipykernel)",
   "language": "python",
   "name": "python3"
  },
  "language_info": {
   "codemirror_mode": {
    "name": "ipython",
    "version": 3
   },
   "file_extension": ".py",
   "mimetype": "text/x-python",
   "name": "python",
   "nbconvert_exporter": "python",
   "pygments_lexer": "ipython3",
   "version": "3.13.1"
  }
 },
 "nbformat": 4,
 "nbformat_minor": 5
}
