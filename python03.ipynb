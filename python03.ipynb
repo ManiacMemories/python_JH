{
 "cells": [
  {
   "cell_type": "markdown",
   "id": "bd06efbe-8ff3-412b-a2e7-254408612483",
   "metadata": {},
   "source": [
    "#  제어문"
   ]
  },
  {
   "cell_type": "markdown",
   "id": "1dff2058-a089-4e49-806b-abf1aac43752",
   "metadata": {},
   "source": [
    "## if문"
   ]
  },
  {
   "cell_type": "code",
   "execution_count": 16,
   "id": "e59aabdb-63df-4758-a167-7ba293a23d6d",
   "metadata": {},
   "outputs": [
    {
     "name": "stdout",
     "output_type": "stream",
     "text": [
      "항상 동작합니다!!\n",
      "5가 큽니다\n"
     ]
    }
   ],
   "source": [
    "if True:\n",
    "    print(\"항상 동작합니다!!\")\n",
    "if False:\n",
    "    print(\"이건 동작할까요??\")\n",
    "if [1,3] :\n",
    "    print(\"5가 큽니다\")\n",
    "if 4 > 10:\n",
    "    print(\"나올까요?\")"
   ]
  },
  {
   "cell_type": "code",
   "execution_count": 3,
   "id": "da4a47d9-b248-4e6a-9dca-e1432c319c24",
   "metadata": {},
   "outputs": [
    {
     "name": "stdout",
     "output_type": "stream",
     "text": [
      "9 자... 나 화났어!!!\n",
      "8 자... 나 화났어!!!\n",
      "7 자... 나 화났어!!!\n",
      "6 자... 나 화났어!!!\n",
      "5 자... 나 화났어!!!\n",
      "4 자... 나 화났어!!!\n",
      "3 자... 나 화났어!!!\n",
      "2 자... 나 화났어!!!\n",
      "1 자... 나 화났어!!!\n",
      "0 자... 나 화났어!!!\n"
     ]
    }
   ],
   "source": [
    "num = 10\n",
    "while num:\n",
    "    num -= 1\n",
    "    print(num,\"자... 나 화났어!!!\")\n",
    "    "
   ]
  },
  {
   "cell_type": "code",
   "execution_count": 6,
   "id": "16f637a3-ac02-43bf-a24c-f9f2a6420a02",
   "metadata": {},
   "outputs": [
    {
     "name": "stdout",
     "output_type": "stream",
     "text": [
      "택시를\n",
      "타고\n",
      "가라\n"
     ]
    }
   ],
   "source": [
    "if True:\n",
    "    print(\"택시를\")\n",
    "    print(\"타고\")\n",
    "    print(\"가라\")"
   ]
  },
  {
   "cell_type": "code",
   "execution_count": 11,
   "id": "490d6cc0-7192-4937-907e-ee772dd102ab",
   "metadata": {},
   "outputs": [
    {
     "name": "stdin",
     "output_type": "stream",
     "text": [
      "얼마 가지고 있습니까? 2800\n"
     ]
    },
    {
     "name": "stdout",
     "output_type": "stream",
     "text": [
      "걸어가세요.\n"
     ]
    }
   ],
   "source": [
    "mymoney = int(input(\"얼마 가지고 있습니까?\"))\n",
    "if mymoney >= 3000:\n",
    "    print(\"택시 타고 가세요.\")\n",
    "# if mymoney < 3000:\n",
    "else:\n",
    "    print(\"걸어가세요.\")"
   ]
  },
  {
   "cell_type": "code",
   "execution_count": 14,
   "id": "09ca3b7c-26a2-48ca-a858-be6f1f276a7a",
   "metadata": {},
   "outputs": [
    {
     "name": "stdout",
     "output_type": "stream",
     "text": [
      "=====  and 연산 =====\n",
      "True\n",
      "False\n",
      "False\n",
      "False\n",
      "=====  or 연산 =====\n",
      "True\n",
      "True\n",
      "True\n",
      "False\n",
      "=====  not 연산 =====\n",
      "True\n",
      "False\n",
      "True\n"
     ]
    }
   ],
   "source": [
    "# if True and True:\n",
    "#     print(\"\")\n",
    "\n",
    "print(\"=====  and 연산 =====\")\n",
    "print( True and True)\n",
    "print( True and False)\n",
    "print( False and True)\n",
    "print( False and False)\n",
    "print(\"=====  or 연산 =====\")\n",
    "print( True or True)\n",
    "print( True or False)\n",
    "print( False or True)\n",
    "print( False or False)\n",
    "print(\"=====  not 연산 =====\")\n",
    "print( True)\n",
    "print( not True)\n",
    "print( not False)"
   ]
  },
  {
   "cell_type": "code",
   "execution_count": 17,
   "id": "f8d4d98c-75c5-4906-a47b-6dc0c011c490",
   "metadata": {},
   "outputs": [
    {
     "name": "stdout",
     "output_type": "stream",
     "text": [
      "만납시다\n"
     ]
    }
   ],
   "source": [
    "이상형 = True\n",
    "똑똑 = True\n",
    "if 이상형 and 똑똑 :\n",
    "    print(\"만납시다\")\n",
    "else:\n",
    "    print(\"반가워요\")"
   ]
  },
  {
   "cell_type": "code",
   "execution_count": 16,
   "id": "38ff22a1-e835-497e-a8fa-1e731e5e343f",
   "metadata": {},
   "outputs": [
    {
     "name": "stdout",
     "output_type": "stream",
     "text": [
      "반가워요\n"
     ]
    }
   ],
   "source": [
    "이상형 = False\n",
    "다정 = False\n",
    "if 이상형 and 다정 :\n",
    "    print(\"만납시다\")\n",
    "else:\n",
    "    print(\"반가워요\")"
   ]
  },
  {
   "cell_type": "code",
   "execution_count": 19,
   "id": "4f08bea8-648b-4ec2-8e31-9c87b645d922",
   "metadata": {},
   "outputs": [
    {
     "name": "stdout",
     "output_type": "stream",
     "text": [
      "잘가요\n"
     ]
    }
   ],
   "source": [
    "주사 = True\n",
    "if not 주사:\n",
    "    print(\"만나요\")\n",
    "else:\n",
    "    print(\"잘가요\")"
   ]
  },
  {
   "cell_type": "code",
   "execution_count": 20,
   "id": "450d834c-cf0a-4674-b0f5-378e46b6cf5a",
   "metadata": {},
   "outputs": [
    {
     "name": "stdout",
     "output_type": "stream",
     "text": [
      "택시를 타고 가라\n"
     ]
    }
   ],
   "source": [
    "money = 2000\n",
    "card = True\n",
    "if money >= 3000 or card:\n",
    "    print(\"택시를 타고 가라\")\n",
    "else:\n",
    "    print(\"걸어가라\")"
   ]
  },
  {
   "cell_type": "code",
   "execution_count": 23,
   "id": "78fa88cb-f403-4bdf-acc8-fb83f8e52beb",
   "metadata": {},
   "outputs": [
    {
     "name": "stdout",
     "output_type": "stream",
     "text": [
      "A회사 불합격입니다.\n",
      "B회사 합격입니다.\n",
      "C회사 합격입니다.\n"
     ]
    }
   ],
   "source": [
    "me = 'Python'\n",
    "compA = ['JAVA','CSS','Javascript','C','MySQL']\n",
    "compB = ['JAVA','Python','Javascript','C','MySQL']\n",
    "compC = ['JAVA','Python','MySQL']\n",
    "if me in compA:\n",
    "    print(\"A회사 합격입니다.\")\n",
    "else:\n",
    "    print(\"A회사 불합격입니다.\")\n",
    "if me in compB:\n",
    "    print(\"B회사 합격입니다.\")\n",
    "else:\n",
    "    print(\"B회사 불합격입니다.\")\n",
    "if me in compC:\n",
    "    print(\"C회사 합격입니다.\")\n",
    "else:\n",
    "    print(\"C회사 불합격입니다.\")"
   ]
  },
  {
   "cell_type": "code",
   "execution_count": 45,
   "id": "5ab0a8f7-bab0-45b1-9132-2385e43a1831",
   "metadata": {},
   "outputs": [
    {
     "name": "stdin",
     "output_type": "stream",
     "text": [
      "당신의 점수를 입력하세요 :  44\n"
     ]
    },
    {
     "name": "stdout",
     "output_type": "stream",
     "text": [
      "F학점입니다.\n"
     ]
    }
   ],
   "source": [
    "\n",
    "# if 100 >= num >= 90:\n",
    "#     print(\"당신의 학점은 'A' 입니다.\")\n",
    "# elif 90 > num >= 80:\n",
    "#     print(\"당신의 학점은 'B' 입니다.\")\n",
    "# elif 80 > num >= 70:\n",
    "#     print(\"당신의 학점은 'C' 입니다.\")\n",
    "# elif 70 > num >= 60:\n",
    "#     print(\"당신의 학점은 'D' 입니다.\")\n",
    "# elif 60 > num >= 0:\n",
    "#     print(\"당신의 학점은 'F' 입니다.\")\n",
    "# else:\n",
    "#     print(\"잘 못 입력하셨습니다.\")\n",
    "\n",
    "# grade = 'F'\n",
    "# if 90 <= num: grade = 'A'\n",
    "# if 80 <= num < 90: grade = 'B'\n",
    "# if 70 <= num < 80: grade = 'C'\n",
    "# if 60 <= num < 70: grade = 'D'\n",
    "# print(f'{grade}학점입니다.')\n",
    "num = int(input(\"당신의 점수를 입력하세요 : \"))\n",
    "\n",
    "if 90 <= num: grade = 'A'\n",
    "elif 80 <= num: grade = 'B'\n",
    "elif 70 <= num: grade = 'C'\n",
    "elif 60 <= num: grade = 'D'\n",
    "else: grade = 'F'\n",
    "print(f'{grade}학점입니다.')"
   ]
  },
  {
   "cell_type": "code",
   "execution_count": 52,
   "id": "b0d94e1b-2a34-425b-a0fe-9e6c023186d7",
   "metadata": {},
   "outputs": [
    {
     "name": "stdin",
     "output_type": "stream",
     "text": [
      "현재 온도를 입력하세요 :  10\n"
     ]
    },
    {
     "name": "stdout",
     "output_type": "stream",
     "text": [
      "지금은 가을🌀입니다.\n"
     ]
    }
   ],
   "source": [
    "temp = int(input(\"현재 온도를 입력하세요 : \"))\n",
    "\n",
    "if 25 <= temp: season = '여름🔥'\n",
    "elif 15 <= temp: season = '봄🌞'\n",
    "elif 10 <= temp: season = '가을🌀'\n",
    "else: season = '겨울❄️'\n",
    "print(f'지금은 {season}입니다.')"
   ]
  },
  {
   "cell_type": "markdown",
   "id": "80f467a7-8d39-4800-b4e8-696017588a85",
   "metadata": {},
   "source": [
    "## while 문"
   ]
  },
  {
   "cell_type": "code",
   "execution_count": 55,
   "id": "b2c06bb2-1a3e-41ce-9d91-f53fea7b39ed",
   "metadata": {},
   "outputs": [
    {
     "name": "stdout",
     "output_type": "stream",
     "text": [
      "나무를 1번 찍었습니다.\n",
      "나무를 2번 찍었습니다.\n",
      "나무를 3번 찍었습니다.\n",
      "나무를 4번 찍었습니다.\n",
      "나무를 5번 찍었습니다.\n",
      "나무를 6번 찍었습니다.\n",
      "나무를 7번 찍었습니다.\n",
      "나무를 8번 찍었습니다.\n",
      "나무를 9번 찍었습니다.\n",
      "나무를 10번 찍었습니다.\n",
      "나무 넘어갑니다.\n"
     ]
    }
   ],
   "source": [
    "treeHit = 0\n",
    "while treeHit < 10:\n",
    "    treeHit = treeHit +1\n",
    "    print(\"나무를 %d번 찍었습니다.\" % treeHit)\n",
    "if treeHit == 10:\n",
    "    print(\"나무 넘어갑니다.\")"
   ]
  },
  {
   "cell_type": "code",
   "execution_count": 1,
   "id": "7525671c-5342-4e4a-93c2-a0b1b6839cc2",
   "metadata": {},
   "outputs": [
    {
     "name": "stdout",
     "output_type": "stream",
     "text": [
      "나무를 1번 찍었습니다.\n",
      "나무를 2번 찍었습니다.\n",
      "나무를 3번 찍었습니다.\n",
      "나무를 4번 찍었습니다.\n",
      "나무를 5번 찍었습니다.\n",
      "나무를 6번 찍었습니다.\n",
      "나무를 7번 찍었습니다.\n",
      "나무를 8번 찍었습니다.\n",
      "나무를 9번 찍었습니다.\n",
      "나무를 10번 찍었습니다.\n",
      "나무 넘어갑니다.\n"
     ]
    }
   ],
   "source": [
    "namu = 10\n",
    "while namu:\n",
    "    namu -= 1\n",
    "    print(f\"나무를 {10 - namu}번 찍었습니다.\")\n",
    "print(\"나무 넘어갑니다.\")"
   ]
  },
  {
   "cell_type": "code",
   "execution_count": 3,
   "id": "480bcf02-42ce-4afa-b9cc-b5e39de79f61",
   "metadata": {},
   "outputs": [
    {
     "name": "stdout",
     "output_type": "stream",
     "text": [
      "\n",
      "1. Add\n",
      "2. Del\n",
      "3. List\n",
      "4. Quit\n",
      ". . .\n",
      "Enter number : \n"
     ]
    },
    {
     "name": "stdin",
     "output_type": "stream",
     "text": [
      " 1\n"
     ]
    },
    {
     "name": "stdout",
     "output_type": "stream",
     "text": [
      "\n",
      "1. Add\n",
      "2. Del\n",
      "3. List\n",
      "4. Quit\n",
      ". . .\n",
      "Enter number : \n"
     ]
    },
    {
     "name": "stdin",
     "output_type": "stream",
     "text": [
      " 2\n"
     ]
    },
    {
     "name": "stdout",
     "output_type": "stream",
     "text": [
      "\n",
      "1. Add\n",
      "2. Del\n",
      "3. List\n",
      "4. Quit\n",
      ". . .\n",
      "Enter number : \n"
     ]
    },
    {
     "name": "stdin",
     "output_type": "stream",
     "text": [
      " 3\n"
     ]
    },
    {
     "name": "stdout",
     "output_type": "stream",
     "text": [
      "\n",
      "1. Add\n",
      "2. Del\n",
      "3. List\n",
      "4. Quit\n",
      ". . .\n",
      "Enter number : \n"
     ]
    },
    {
     "name": "stdin",
     "output_type": "stream",
     "text": [
      " 4\n"
     ]
    }
   ],
   "source": [
    "prompt = \"\"\"\n",
    "1. Add\n",
    "2. Del\n",
    "3. List\n",
    "4. Quit\n",
    ". . .\n",
    "Enter number : \"\"\"\n",
    "\n",
    "number = 0\n",
    "while number != 4:\n",
    "    print(prompt)\n",
    "    number = int(input())"
   ]
  },
  {
   "cell_type": "code",
   "execution_count": 4,
   "id": "9977e018-530a-4b90-bc0d-fd8ea156b762",
   "metadata": {},
   "outputs": [
    {
     "name": "stdout",
     "output_type": "stream",
     "text": [
      "돈을 받았으니 커피를 줍니다.\n",
      "남은 커피의 양은 9개 입니다.\n",
      "돈을 받았으니 커피를 줍니다.\n",
      "남은 커피의 양은 8개 입니다.\n",
      "돈을 받았으니 커피를 줍니다.\n",
      "남은 커피의 양은 7개 입니다.\n",
      "돈을 받았으니 커피를 줍니다.\n",
      "남은 커피의 양은 6개 입니다.\n",
      "돈을 받았으니 커피를 줍니다.\n",
      "남은 커피의 양은 5개 입니다.\n",
      "돈을 받았으니 커피를 줍니다.\n",
      "남은 커피의 양은 4개 입니다.\n",
      "돈을 받았으니 커피를 줍니다.\n",
      "남은 커피의 양은 3개 입니다.\n",
      "돈을 받았으니 커피를 줍니다.\n",
      "남은 커피의 양은 2개 입니다.\n",
      "돈을 받았으니 커피를 줍니다.\n",
      "남은 커피의 양은 1개 입니다.\n",
      "돈을 받았으니 커피를 줍니다.\n",
      "남은 커피의 양은 0개 입니다.\n",
      "커피가 다 떨어졌습니다. 판매를 중지합니다.\n"
     ]
    }
   ],
   "source": [
    "coffee = 10\n",
    "money = 300\n",
    "while money:\n",
    "    print(\"돈을 받았으니 커피를 줍니다.\")\n",
    "    coffee = coffee -1\n",
    "    print(\"남은 커피의 양은 %d개 입니다.\" %coffee)\n",
    "    if coffee == 0:\n",
    "        print(\"커피가 다 떨어졌습니다. 판매를 중지합니다.\")\n",
    "        break"
   ]
  },
  {
   "cell_type": "code",
   "execution_count": 5,
   "id": "aa053c61-a4a4-4567-a365-d7435f9358b5",
   "metadata": {},
   "outputs": [
    {
     "name": "stdin",
     "output_type": "stream",
     "text": [
      "돈을 넣어 주세요 :  500\n"
     ]
    },
    {
     "name": "stdout",
     "output_type": "stream",
     "text": [
      "거스름돈 200를 주고 커피를 줍니다.\n"
     ]
    },
    {
     "name": "stdin",
     "output_type": "stream",
     "text": [
      "돈을 넣어 주세요 :  300\n"
     ]
    },
    {
     "name": "stdout",
     "output_type": "stream",
     "text": [
      "커피를 줍니다.\n"
     ]
    },
    {
     "name": "stdin",
     "output_type": "stream",
     "text": [
      "돈을 넣어 주세요 :  100\n"
     ]
    },
    {
     "name": "stdout",
     "output_type": "stream",
     "text": [
      "돈을 다시 돌려주고 커피를 주지 않습니다.\n",
      "남은 커피의 양은 8개 입니다.\n"
     ]
    },
    {
     "name": "stdin",
     "output_type": "stream",
     "text": [
      "돈을 넣어 주세요 :  5000\n"
     ]
    },
    {
     "name": "stdout",
     "output_type": "stream",
     "text": [
      "거스름돈 4700를 주고 커피를 줍니다.\n"
     ]
    },
    {
     "name": "stdin",
     "output_type": "stream",
     "text": [
      "돈을 넣어 주세요 :  \n"
     ]
    },
    {
     "ename": "ValueError",
     "evalue": "invalid literal for int() with base 10: ''",
     "output_type": "error",
     "traceback": [
      "\u001b[1;31m---------------------------------------------------------------------------\u001b[0m",
      "\u001b[1;31mValueError\u001b[0m                                Traceback (most recent call last)",
      "Cell \u001b[1;32mIn[5], line 3\u001b[0m\n\u001b[0;32m      1\u001b[0m coffee \u001b[38;5;241m=\u001b[39m \u001b[38;5;241m10\u001b[39m\n\u001b[0;32m      2\u001b[0m \u001b[38;5;28;01mwhile\u001b[39;00m \u001b[38;5;28;01mTrue\u001b[39;00m:\n\u001b[1;32m----> 3\u001b[0m     money \u001b[38;5;241m=\u001b[39m \u001b[38;5;28;43mint\u001b[39;49m\u001b[43m(\u001b[49m\u001b[38;5;28;43minput\u001b[39;49m\u001b[43m(\u001b[49m\u001b[38;5;124;43m\"\u001b[39;49m\u001b[38;5;124;43m돈을 넣어 주세요 : \u001b[39;49m\u001b[38;5;124;43m\"\u001b[39;49m\u001b[43m)\u001b[49m\u001b[43m)\u001b[49m\n\u001b[0;32m      4\u001b[0m     \u001b[38;5;28;01mif\u001b[39;00m money \u001b[38;5;241m==\u001b[39m \u001b[38;5;241m300\u001b[39m:\n\u001b[0;32m      5\u001b[0m         \u001b[38;5;28mprint\u001b[39m(\u001b[38;5;124m\"\u001b[39m\u001b[38;5;124m커피를 줍니다.\u001b[39m\u001b[38;5;124m\"\u001b[39m)\n",
      "\u001b[1;31mValueError\u001b[0m: invalid literal for int() with base 10: ''"
     ]
    }
   ],
   "source": [
    "coffee = 10\n",
    "while True:\n",
    "    money = int(input(\"돈을 넣어 주세요 : \"))\n",
    "    if money == 300:\n",
    "        print(\"커피를 줍니다.\")\n",
    "        coffee = coffee - 1\n",
    "    elif money > 300:\n",
    "        print(\"거스름돈 %d를 주고 커피를 줍니다.\" %(money - 300))\n",
    "        coffee = coffee - 1\n",
    "    else:\n",
    "        print(\"돈을 다시 돌려주고 커피를 주지 않습니다.\")\n",
    "        print(\"남은 커피의 양은 %d개 입니다.\" %coffee)\n",
    "    if coffee == 0:\n",
    "        print(\"커피가 다 떨어졌습니다. 판매를 중지 합니다.\")\n",
    "        break"
   ]
  },
  {
   "cell_type": "code",
   "execution_count": 68,
   "id": "05a195bf-52c4-4aeb-a846-5ba9b04435db",
   "metadata": {},
   "outputs": [
    {
     "name": "stdout",
     "output_type": "stream",
     "text": [
      "250000회 정상 진행 되었습니다.\n",
      "1번은 41670번 (16.67%) 나왔습니다\n",
      "2번은 41515번 (16.61%) 나왔습니다\n",
      "3번은 41828번 (16.73%) 나왔습니다\n",
      "4번은 41694번 (16.68%) 나왔습니다\n",
      "5번은 41542번 (16.62%) 나왔습니다\n",
      "6번은 41751번 (16.70%) 나왔습니다\n"
     ]
    }
   ],
   "source": [
    "# random 주사위\n",
    "import random as r\n",
    "# ran = r.random()*6\n",
    "box = []  # 박스 초기화\n",
    "num = 0\n",
    "num1 = 0\n",
    "target = 250000\n",
    "while num < target: # 10까지\n",
    "    num = num + 1    # 시행 횟수 증가\n",
    "    ran = r.randint(1,6)  # 랜덤 변수 설정\n",
    "    box.append(ran)  # 박스에 숫자 더하기\n",
    "if target == len(box):\n",
    "    print(f'{target}회 정상 진행 되었습니다.')\n",
    "else:\n",
    "    print(f'검증 결과 횟수 이상이 있습니다. {target}회 목표로 동작하였으나, {len(box)}으로 측정되었습니다.')\n",
    "while num1 < 6:\n",
    "    num1 = num1 + 1\n",
    "    count = box.count(num1)\n",
    "    per = count/len(box)*100\n",
    "    \n",
    "    print(f'{num1}번은 {count}번 ({per:.2f}%) 나왔습니다')\n",
    "\n",
    "# print(box.count(1))\n",
    "# print(box.count(2))\n",
    "# print(box.count(3))\n",
    "# print(box.count(4))\n",
    "# print(box.count(5))\n",
    "# print(box.count(6))"
   ]
  },
  {
   "cell_type": "code",
   "execution_count": null,
   "id": "32101e65-c2b3-422b-b7c5-8bbf900413a8",
   "metadata": {},
   "outputs": [],
   "source": [
    "dir r"
   ]
  },
  {
   "cell_type": "markdown",
   "id": "7390fb4b-749e-4f3b-96cd-2ee4d7349ef7",
   "metadata": {},
   "source": [
    "## for 문"
   ]
  },
  {
   "cell_type": "code",
   "execution_count": 69,
   "id": "7ea1d8c6-cba4-46fa-9643-d9aba0a7ced9",
   "metadata": {},
   "outputs": [
    {
     "name": "stdout",
     "output_type": "stream",
     "text": [
      "one\n",
      "two\n",
      "three\n"
     ]
    }
   ],
   "source": [
    "test_list = ['one', 'two', 'three']\n",
    "for i in test_list:   # for(시작; 끝; 스텝){} => for x in 리스트:   , range()\n",
    "    print(i)"
   ]
  },
  {
   "cell_type": "code",
   "execution_count": 70,
   "id": "37a18df0-1992-4d1e-8396-190b03947e12",
   "metadata": {},
   "outputs": [
    {
     "name": "stdout",
     "output_type": "stream",
     "text": [
      "1 2 11\n",
      "3 4 33\n",
      "5 6 55\n"
     ]
    }
   ],
   "source": [
    "# 다양한 for문의 사용\n",
    "a = [(1,2,11),(3,4,33),(5,6,55)]\n",
    "for (x, y, z) in a:\n",
    "    print(x, y, z)"
   ]
  },
  {
   "cell_type": "code",
   "execution_count": 71,
   "id": "6b78aeb5-82b4-42db-a5e3-7d057c1ed02c",
   "metadata": {},
   "outputs": [
    {
     "name": "stdout",
     "output_type": "stream",
     "text": [
      "1번 학생은 합격입니다.\n",
      "2번 학생은 불합격입니다.\n",
      "3번 학생은 합격입니다.\n",
      "4번 학생은 불합격입니다.\n",
      "5번 학생은 합격입니다.\n"
     ]
    }
   ],
   "source": [
    "# marks1.py\n",
    "marks = [90, 25, 67, 45, 80]  # 학생들의 시험 점수 리스트\n",
    "\n",
    "number = 0 # 학생들에게 붙여 줄 번호\n",
    "for mark in marks:  # 90, 25, 67, 45, 80을 순서대로 mark에 대입\n",
    "    number = number +1\n",
    "    if mark >= 60:\n",
    "        print(\"%d번 학생은 합격입니다.\" %number)\n",
    "    else:\n",
    "        print(\"%d번 학생은 불합격입니다.\" %number)"
   ]
  },
  {
   "cell_type": "code",
   "execution_count": 72,
   "id": "aa7e7d6d-0e08-4b0e-8c67-79c021c89f74",
   "metadata": {},
   "outputs": [
    {
     "name": "stdout",
     "output_type": "stream",
     "text": [
      "1번 학생 축하합니다. 합격입니다.\n",
      "3번 학생 축하합니다. 합격입니다.\n",
      "5번 학생 축하합니다. 합격입니다.\n"
     ]
    }
   ],
   "source": [
    "# marks2.py\n",
    "marks = [90, 25, 67, 45, 80]  # 학생들의 시험 점수 리스트\n",
    "\n",
    "number = 0 # 학생들에게 붙여 줄 번호\n",
    "for mark in marks:  # 90, 25, 67, 45, 80을 순서대로 mark에 대입\n",
    "    number = number +1\n",
    "    if mark < 60:\n",
    "        continue\n",
    "    print(\"%d번 학생 축하합니다. 합격입니다.\" %number)"
   ]
  },
  {
   "cell_type": "markdown",
   "id": "703dc6dc-d5e9-4b31-abd7-2ca99e3872eb",
   "metadata": {},
   "source": [
    "### range 함수"
   ]
  },
  {
   "cell_type": "code",
   "execution_count": 76,
   "id": "dc08d807-f01e-43be-825b-c803e9229eba",
   "metadata": {},
   "outputs": [
    {
     "name": "stdout",
     "output_type": "stream",
     "text": [
      "1\n",
      "3\n",
      "5\n",
      "7\n",
      "9\n"
     ]
    }
   ],
   "source": [
    "for num in range(1,10):  \n",
    "    if num % 2 == 0:\n",
    "     continue\n",
    "    print(\"%d\" %num)"
   ]
  },
  {
   "cell_type": "code",
   "execution_count": 78,
   "id": "172708e2-5785-465c-8635-1d10e722ccdb",
   "metadata": {},
   "outputs": [
    {
     "name": "stdout",
     "output_type": "stream",
     "text": [
      "range(0, 10)\n"
     ]
    }
   ],
   "source": [
    "# range 함수\n",
    "a = range(10)\n",
    "print(a)"
   ]
  },
  {
   "cell_type": "code",
   "execution_count": 82,
   "id": "16152c77-ebc3-4c70-8e09-658f52c774d0",
   "metadata": {},
   "outputs": [
    {
     "name": "stdout",
     "output_type": "stream",
     "text": [
      "[0, 2, 4, 6, 8, 10, 12, 14, 16, 18, 20, 22, 24, 26, 28, 30, 32, 34, 36, 38, 40, 42, 44, 46, 48, 50, 52, 54, 56, 58, 60, 62, 64, 66, 68, 70, 72, 74, 76, 78, 80, 82, 84, 86, 88, 90, 92, 94, 96, 98]\n"
     ]
    }
   ],
   "source": [
    "la = list(range(0,100,2))\n",
    "print(la)"
   ]
  },
  {
   "cell_type": "code",
   "execution_count": 83,
   "id": "e1b35628-db55-435a-a1c6-128b06be197a",
   "metadata": {},
   "outputs": [
    {
     "name": "stdout",
     "output_type": "stream",
     "text": [
      "0\n",
      "2\n",
      "4\n",
      "6\n",
      "8\n"
     ]
    }
   ],
   "source": [
    "for even in range(0,10,2):  # odd 홀수, even 짝수, range(시작,끝,스텝)\n",
    "    print(even)"
   ]
  },
  {
   "cell_type": "code",
   "execution_count": 89,
   "id": "356b8f69-b39a-4cb9-be91-50db1dd052c1",
   "metadata": {},
   "outputs": [
    {
     "name": "stdout",
     "output_type": "stream",
     "text": [
      "8515\n"
     ]
    }
   ],
   "source": [
    "result = 0\n",
    "for i in range(1,131):\n",
    "    result = result + i\n",
    "print(result)"
   ]
  },
  {
   "cell_type": "code",
   "execution_count": 90,
   "id": "f16ec7bd-ba03-4f87-b73f-20a86e30523c",
   "metadata": {},
   "outputs": [
    {
     "name": "stdout",
     "output_type": "stream",
     "text": [
      "1번 학생 축하합니다. 합격입니다.\n",
      "3번 학생 축하합니다. 합격입니다.\n",
      "5번 학생 축하합니다. 합격입니다.\n"
     ]
    }
   ],
   "source": [
    "mark = [90, 25, 67, 45, 80]\n",
    "for number in range(len(marks)):\n",
    "    if marks[number] < 60:\n",
    "        continue\n",
    "    print(\"%d번 학생 축하합니다. 합격입니다.\"%(number+1))"
   ]
  },
  {
   "cell_type": "code",
   "execution_count": 106,
   "id": "f3bcf49c-c10d-4e56-8034-9cc51447e576",
   "metadata": {},
   "outputs": [
    {
     "name": "stdout",
     "output_type": "stream",
     "text": [
      "     March 2025\n",
      "Su Mo Tu We Th Fr Sa\n",
      "                   1\n",
      " 2  3  4  5  6  7  8\n",
      " 9 10 11 12 13 14 15\n",
      "16 17 18 19 20 21 22\n",
      "23 24 25 26 27 28 29\n",
      "30 31\n",
      "\n"
     ]
    }
   ],
   "source": [
    "# 연습\n",
    "import calendar\n",
    "\n",
    "c = calendar.TextCalendar(calendar.SUNDAY)\n",
    "print(c.formatmonth(2025,3))"
   ]
  },
  {
   "cell_type": "code",
   "execution_count": 111,
   "id": "b201d010-478b-4534-a859-a7029bed147a",
   "metadata": {},
   "outputs": [
    {
     "name": "stdout",
     "output_type": "stream",
     "text": [
      "■■■■■■■■■■■"
     ]
    }
   ],
   "source": [
    "import time as t\n",
    "for x in range(11):\n",
    "    print('■',end='')\n",
    "    t.sleep(0.5)"
   ]
  },
  {
   "cell_type": "code",
   "execution_count": 117,
   "id": "5b99cdb7-0acc-432a-b53e-1fe2100e47be",
   "metadata": {},
   "outputs": [
    {
     "name": "stdout",
     "output_type": "stream",
     "text": [
      "<class 'list'>\n",
      "<class 'tuple'>\n"
     ]
    }
   ],
   "source": [
    "import time as t\n",
    "lt = []\n",
    "tp = []\n",
    "length = 10*1000*1000\n",
    "for x in range(length):\n",
    "    lt.append(x)\n",
    "for t in range(length):\n",
    "    tp.append(t)\n",
    "tp = tuple(tp)\n",
    "print(type(lt))\n",
    "print(type(tp))"
   ]
  },
  {
   "cell_type": "code",
   "execution_count": 121,
   "id": "fb7da693-c3aa-4662-9260-39094988b349",
   "metadata": {},
   "outputs": [
    {
     "name": "stdout",
     "output_type": "stream",
     "text": [
      "0.7342467308044434\n"
     ]
    }
   ],
   "source": [
    "import time\n",
    "start = time.time()\n",
    "for x in lt:\n",
    "    lts = [1, 2, 3, 4, 5]\n",
    "print(time.time() - start)"
   ]
  },
  {
   "cell_type": "code",
   "execution_count": 122,
   "id": "22588ea3-e0af-4011-9a14-92f798c779a2",
   "metadata": {},
   "outputs": [
    {
     "name": "stdout",
     "output_type": "stream",
     "text": [
      "0.7711086273193359\n"
     ]
    }
   ],
   "source": [
    "import time\n",
    "start = time.time()\n",
    "for x in tp:\n",
    "    tps = [1, 2, 3, 4, 5]\n",
    "print(time.time() - start)"
   ]
  },
  {
   "cell_type": "code",
   "execution_count": 125,
   "id": "9b360efb-4efe-4cee-b249-42eb89389791",
   "metadata": {},
   "outputs": [
    {
     "name": "stdout",
     "output_type": "stream",
     "text": [
      "Collecting tqdm\n",
      "  Downloading tqdm-4.67.1-py3-none-any.whl.metadata (57 kB)\n",
      "Requirement already satisfied: colorama in c:\\users\\admin\\appdata\\local\\programs\\python\\python313\\lib\\site-packages (from tqdm) (0.4.6)\n",
      "Downloading tqdm-4.67.1-py3-none-any.whl (78 kB)\n",
      "Installing collected packages: tqdm\n",
      "Successfully installed tqdm-4.67.1\n"
     ]
    }
   ],
   "source": [
    "!pip install tqdm"
   ]
  },
  {
   "cell_type": "code",
   "execution_count": 130,
   "id": "80b7717f-2ed8-4f3f-b87e-ce8f453dd3ed",
   "metadata": {
    "scrolled": true
   },
   "outputs": [
    {
     "name": "stderr",
     "output_type": "stream",
     "text": [
      "100%|████████████████████████████████████████████████████████████████████████████████| 100/100 [00:10<00:00,  9.78it/s]\n"
     ]
    }
   ],
   "source": [
    "from tqdm import tqdm\n",
    "import time as tt\n",
    "for x in tqdm(range(100)):\n",
    "    pass\n",
    "    tt.sleep(0.1)"
   ]
  },
  {
   "cell_type": "code",
   "execution_count": 24,
   "id": "d41c47c5-e27f-4d03-a67a-c42e2530d96a",
   "metadata": {},
   "outputs": [
    {
     "name": "stdout",
     "output_type": "stream",
     "text": [
      "최대가 : 148498000, 최소가 : 146000000, 시작가 : 147131000, 변화폭 : 2498000.0 현재 상승장 입니다🔥🔥🔥\n"
     ]
    }
   ],
   "source": [
    "# 비트코인시세로 상승장 하강장 구분하기\n",
    "import requests as req\n",
    "url = \"https://api.bithumb.com/public/ticker/ALL_KRW\"\n",
    "gdata = req.get(url).json()\n",
    "btc = gdata['data']['BTC']\n",
    "maxp = btc['max_price'] # 최대가\n",
    "minp = btc['min_price'] # 최소가\n",
    "openp = btc['opening_price'] # 시작가\n",
    "bandp = float(maxp) - float(minp) # 변화폭\n",
    "\n",
    "ex1 = float(bandp) + float(openp)\n",
    "\n",
    "if ex1 > float(maxp):\n",
    "    print(f'최대가 : {maxp}, 최소가 : {minp}, 시작가 : {openp}, 변화폭 : {bandp} 현재 상승장 입니다🔥🔥🔥')\n",
    "else:\n",
    "    print(f'최대가 : {maxp}, 최소가 : {minp}, 시작가 : {openp}, 변화폭 : {bandp} 현재 하락장 입니다❄️❄️❄️')"
   ]
  },
  {
   "cell_type": "code",
   "execution_count": 14,
   "id": "4ebda3b1-d09b-4ae2-8c93-a186b1fd583f",
   "metadata": {},
   "outputs": [
    {
     "name": "stdout",
     "output_type": "stream",
     "text": [
      "149932000\n"
     ]
    }
   ],
   "source": [
    "import requests as req\n",
    "url = 'https://api.bithumb.com/v1/candles/minutes/1?market=KRW-BTC&count=1'\n",
    "btc_data = req.get(url).json()\n",
    "print(btc_data[0]['trade_price'])"
   ]
  },
  {
   "cell_type": "code",
   "execution_count": 21,
   "id": "fcafebb7-1c50-4e9d-8525-78bed79ef880",
   "metadata": {},
   "outputs": [
    {
     "name": "stdout",
     "output_type": "stream",
     "text": [
      "2 X 1 = 2\n",
      "2 X 2 = 4\n",
      "2 X 3 = 6\n",
      "2 X 4 = 8\n",
      "2 X 5 = 10\n",
      "2 X 6 = 12\n",
      "2 X 7 = 14\n",
      "2 X 8 = 16\n",
      "2 X 9 = 18\n"
     ]
    }
   ],
   "source": [
    "for i in range(1,10):\n",
    "    num = 2\n",
    "    print(f'{num} X {i} = {i*num}')"
   ]
  },
  {
   "cell_type": "code",
   "execution_count": 25,
   "id": "8f5dad3b-7ea9-4826-8b6a-1b970e6f054d",
   "metadata": {},
   "outputs": [
    {
     "name": "stdout",
     "output_type": "stream",
     "text": [
      "2 4 6 8 10 12 14 16 18  \n",
      "3 6 9 12 15 18 21 24 27  \n",
      "4 8 12 16 20 24 28 32 36  \n",
      "5 10 15 20 25 30 35 40 45  \n",
      "6 12 18 24 30 36 42 48 54  \n",
      "7 14 21 28 35 42 49 56 63  \n",
      "8 16 24 32 40 48 56 64 72  \n",
      "9 18 27 36 45 54 63 72 81  \n"
     ]
    }
   ],
   "source": [
    "for i in range(2,10):\n",
    "    for j in range(1,10):\n",
    "        print(i*j, end = \" \") # end 매개변수에는 줄바꿈 문자(\\n)가 기본값으로 설정\n",
    "    print(\" \") # 구분하기 위해 사용"
   ]
  },
  {
   "cell_type": "markdown",
   "id": "5ac71efa-0a8a-4a65-8449-7333803b2a16",
   "metadata": {},
   "source": [
    "### 리스트 컴프리헨션"
   ]
  },
  {
   "cell_type": "code",
   "execution_count": 26,
   "id": "5ffa8b1c-27c6-4cd4-a830-1af876a0e1b5",
   "metadata": {},
   "outputs": [
    {
     "name": "stdout",
     "output_type": "stream",
     "text": [
      "[3, 6, 9, 12]\n"
     ]
    }
   ],
   "source": [
    "# 기본적인 리스트에 값 넣기\n",
    "a = [1, 2, 3, 4]\n",
    "result = []\n",
    "for num in a:\n",
    "    result.append(num*3)\n",
    "print(result)"
   ]
  },
  {
   "cell_type": "code",
   "execution_count": 27,
   "id": "81cafc01-92fe-49fc-97a2-96d90c1f26cf",
   "metadata": {},
   "outputs": [
    {
     "data": {
      "text/plain": [
       "[3, 6, 9, 12]"
      ]
     },
     "execution_count": 27,
     "metadata": {},
     "output_type": "execute_result"
    }
   ],
   "source": [
    "# 리스트 컴프리헨션\n",
    "[num*3 for num in [1, 2, 3, 4]]"
   ]
  },
  {
   "cell_type": "code",
   "execution_count": 28,
   "id": "245a40d0-d79e-4407-8b18-6cb5790d47b1",
   "metadata": {},
   "outputs": [
    {
     "data": {
      "text/plain": [
       "[0, 1, 2, 3, 4, 5, 6, 7, 8, 9]"
      ]
     },
     "execution_count": 28,
     "metadata": {},
     "output_type": "execute_result"
    }
   ],
   "source": [
    "# 테스트1\n",
    "# list(range(10))\n",
    "[x for x in range(10)]"
   ]
  },
  {
   "cell_type": "code",
   "execution_count": 34,
   "id": "5acb80a6-87dc-4b50-a80f-3c968aef3c23",
   "metadata": {},
   "outputs": [
    {
     "name": "stdout",
     "output_type": "stream",
     "text": [
      "[0, 6, 12, 18, 24]\n"
     ]
    }
   ],
   "source": [
    "res = []\n",
    "for x in range(10):\n",
    "    if x%2==0:\n",
    "        res.append(x*3)\n",
    "print(res)"
   ]
  },
  {
   "cell_type": "code",
   "execution_count": 33,
   "id": "48402745-6ece-45d5-9fe0-08e5de7aa57c",
   "metadata": {},
   "outputs": [
    {
     "data": {
      "text/plain": [
       "[0, 6, 12, 18, 24]"
      ]
     },
     "execution_count": 33,
     "metadata": {},
     "output_type": "execute_result"
    }
   ],
   "source": [
    "[x*3 for x in range(10) if x%2 == 0]"
   ]
  },
  {
   "cell_type": "code",
   "execution_count": 37,
   "id": "4a4a177e-f054-45ff-85b2-6e6951385a89",
   "metadata": {},
   "outputs": [
    {
     "name": "stdout",
     "output_type": "stream",
     "text": [
      "[2, 4, 6, 8, 10, 12, 14, 16, 18, 3, 6, 9, 12, 15, 18, 21, 24, 27, 4, 8, 12, 16, 20, 24, 28, 32, 36, 5, 10, 15, 20, 25, 30, 35, 40, 45, 6, 12, 18, 24, 30, 36, 42, 48, 54, 7, 14, 21, 28, 35, 42, 49, 56, 63, 8, 16, 24, 32, 40, 48, 56, 64, 72, 9, 18, 27, 36, 45, 54, 63, 72, 81]\n"
     ]
    }
   ],
   "source": [
    "result = [ i * j for i in range(2,10) for j in range(1,10)]\n",
    "print(result)"
   ]
  },
  {
   "cell_type": "code",
   "execution_count": null,
   "id": "92fa5c2f-25b5-4d25-866d-77e4af6a88b7",
   "metadata": {},
   "outputs": [],
   "source": [
    "for a in[f'{j} x {i} = {j*i}' for j in range(2,10) for i in range(1,10)]:\n",
    "    print(a)"
   ]
  },
  {
   "cell_type": "code",
   "execution_count": 1,
   "id": "6d3ae1c5-004a-407b-bd5e-998cb488031d",
   "metadata": {},
   "outputs": [
    {
     "name": "stdout",
     "output_type": "stream",
     "text": [
      "250000회 정상 진행 되었습니다.\n",
      "1번은 41430번 (16.57%) 나왔습니다\n",
      "2번은 41558번 (16.62%) 나왔습니다\n",
      "3번은 41575번 (16.63%) 나왔습니다\n",
      "4번은 41841번 (16.74%) 나왔습니다\n",
      "5번은 41814번 (16.73%) 나왔습니다\n",
      "6번은 41782번 (16.71%) 나왔습니다\n"
     ]
    }
   ],
   "source": [
    "import random as r\n",
    "# ran = r.random()*6\n",
    "box = []  # 박스 초기화\n",
    "num = 0\n",
    "num1 = 0\n",
    "target = 250000\n",
    "while num < target: # 10까지\n",
    "    num = num + 1    # 시행 횟수 증가\n",
    "    ran = r.randint(1,6)  # 랜덤 변수 설정\n",
    "    box.append(ran)  # 박스에 숫자 더하기\n",
    "if target == len(box):\n",
    "    print(f'{target}회 정상 진행 되었습니다.')\n",
    "else:\n",
    "    print(f'검증 결과 횟수 이상이 있습니다. {target}회 목표로 동작하였으나, {len(box)}으로 측정되었습니다.')\n",
    "while num1 < 6:\n",
    "    num1 = num1 + 1\n",
    "    count = box.count(num1)\n",
    "    per = count/len(box)*100\n",
    "    \n",
    "    print(f'{num1}번은 {count}번 ({per:.2f}%) 나왔습니다')\n",
    "\n",
    "    "
   ]
  },
  {
   "cell_type": "code",
   "execution_count": null,
   "id": "ad5dbf4b-de5d-4e6a-ade5-d3b52f3877b2",
   "metadata": {},
   "outputs": [],
   "source": []
  },
  {
   "cell_type": "code",
   "execution_count": 1,
   "id": "cf89b08d-2e7f-43c1-9d18-6608ffc854c9",
   "metadata": {},
   "outputs": [
    {
     "name": "stdout",
     "output_type": "stream",
     "text": [
      "shirt\n"
     ]
    }
   ],
   "source": [
    "a = \"Life is too short, you need python\"\n",
    "\n",
    "if \"wife\" in a: \n",
    "    print(\"wife\")\n",
    "elif \"pyhthon\" in a and \"you\" not in a:\n",
    "    print(\"python\")\n",
    "elif \"shirt\" not in a:\n",
    "    print(\"shirt\")\n",
    "elif \"need\" in a:\n",
    "    print(\"need\")\n",
    "else:\n",
    "    print(\"none\")"
   ]
  },
  {
   "cell_type": "code",
   "execution_count": 2,
   "id": "b1ca0405-7873-40bf-9d23-3e22526ed8d1",
   "metadata": {},
   "outputs": [
    {
     "name": "stdout",
     "output_type": "stream",
     "text": [
      "166833\n"
     ]
    }
   ],
   "source": [
    "result = 0\n",
    "i = 1\n",
    "while i <= 1000:\n",
    "    if i % 3 == 0:\n",
    "        result += i\n",
    "    i += 1\n",
    "print(result)"
   ]
  },
  {
   "cell_type": "code",
   "execution_count": 3,
   "id": "889a2866-526f-4a4d-b6f9-fb72908a362d",
   "metadata": {},
   "outputs": [
    {
     "name": "stdout",
     "output_type": "stream",
     "text": [
      "*\n",
      "**\n",
      "***\n",
      "****\n",
      "*****\n"
     ]
    }
   ],
   "source": [
    "i = 0\n",
    "while True:\n",
    "    i += 1\n",
    "    if i > 5:\n",
    "        break\n",
    "    print(\"*\"*i)"
   ]
  },
  {
   "cell_type": "code",
   "execution_count": null,
   "id": "990a5b55-9352-4b8a-a5f1-5e5c176592ff",
   "metadata": {},
   "outputs": [],
   "source": []
  },
  {
   "cell_type": "code",
   "execution_count": 5,
   "id": "4484abdc-12a8-461c-a929-7a09f840f0e6",
   "metadata": {},
   "outputs": [
    {
     "name": "stdout",
     "output_type": "stream",
     "text": [
      "79.0\n"
     ]
    }
   ],
   "source": [
    "A = [70, 60, 55, 75, 95, 90, 80, 80, 85, 100]\n",
    "total = 0\n",
    "\n",
    "for score in A:\n",
    "    total += score\n",
    "\n",
    "avg = total / len(A)\n",
    "print(avg)"
   ]
  },
  {
   "cell_type": "code",
   "execution_count": 6,
   "id": "b3a1963a-94a9-4f63-b685-da646a34047b",
   "metadata": {},
   "outputs": [
    {
     "name": "stdout",
     "output_type": "stream",
     "text": [
      "[2, 6, 10]\n"
     ]
    }
   ],
   "source": [
    "numbers = [1, 2, 3, 4, 5]\n",
    "result = []\n",
    "\n",
    "for n in numbers:\n",
    "    if n % 2 == 1:\n",
    "        result.append(n * 2)\n",
    "print(result)"
   ]
  },
  {
   "cell_type": "code",
   "execution_count": 7,
   "id": "d950216b-7af6-4d09-aa0b-d262d3ea67fb",
   "metadata": {},
   "outputs": [
    {
     "name": "stdout",
     "output_type": "stream",
     "text": [
      "[2, 6, 10]\n"
     ]
    }
   ],
   "source": [
    "numbers = [1, 2, 3, 4, 5]\n",
    "result = [num*2 for num in numbers if num%2 == 1]\n",
    "print(result)"
   ]
  },
  {
   "cell_type": "code",
   "execution_count": 120,
   "id": "66fd2cfa-560e-433f-9674-f3055f32fbea",
   "metadata": {},
   "outputs": [
    {
     "name": "stdin",
     "output_type": "stream",
     "text": [
      "로또를 몇번 구매하시겠습니까?  500000\n"
     ]
    },
    {
     "name": "stdout",
     "output_type": "stream",
     "text": [
      "1번은 66860번 나왔습니다.(2.23%)\n",
      "2번은 66802번 나왔습니다.(2.23%)\n",
      "3번은 66927번 나왔습니다.(2.23%)\n",
      "4번은 66899번 나왔습니다.(2.23%)\n",
      "5번은 66416번 나왔습니다.(2.21%)\n",
      "6번은 66453번 나왔습니다.(2.22%)\n",
      "7번은 66917번 나왔습니다.(2.23%)\n",
      "8번은 66900번 나왔습니다.(2.23%)\n",
      "9번은 66340번 나왔습니다.(2.21%)\n",
      "10번은 66690번 나왔습니다.(2.22%)\n",
      "11번은 66435번 나왔습니다.(2.21%)\n",
      "12번은 66545번 나왔습니다.(2.22%)\n",
      "13번은 66302번 나왔습니다.(2.21%)\n",
      "14번은 66660번 나왔습니다.(2.22%)\n",
      "15번은 67114번 나왔습니다.(2.24%)\n",
      "16번은 66794번 나왔습니다.(2.23%)\n",
      "17번은 66670번 나왔습니다.(2.22%)\n",
      "18번은 66804번 나왔습니다.(2.23%)\n",
      "19번은 66265번 나왔습니다.(2.21%)\n",
      "20번은 66738번 나왔습니다.(2.22%)\n",
      "21번은 66817번 나왔습니다.(2.23%)\n",
      "22번은 66864번 나왔습니다.(2.23%)\n",
      "23번은 67123번 나왔습니다.(2.24%)\n",
      "24번은 66397번 나왔습니다.(2.21%)\n",
      "25번은 66471번 나왔습니다.(2.22%)\n",
      "26번은 66696번 나왔습니다.(2.22%)\n",
      "27번은 66907번 나왔습니다.(2.23%)\n",
      "28번은 66675번 나왔습니다.(2.22%)\n",
      "29번은 66674번 나왔습니다.(2.22%)\n",
      "30번은 67116번 나왔습니다.(2.24%)\n",
      "31번은 66465번 나왔습니다.(2.22%)\n",
      "32번은 66475번 나왔습니다.(2.22%)\n",
      "33번은 67130번 나왔습니다.(2.24%)\n",
      "34번은 66491번 나왔습니다.(2.22%)\n",
      "35번은 66401번 나왔습니다.(2.21%)\n",
      "36번은 66395번 나왔습니다.(2.21%)\n",
      "37번은 66861번 나왔습니다.(2.23%)\n",
      "38번은 66550번 나왔습니다.(2.22%)\n",
      "39번은 66638번 나왔습니다.(2.22%)\n",
      "40번은 66551번 나왔습니다.(2.22%)\n",
      "41번은 66495번 나왔습니다.(2.22%)\n",
      "42번은 66458번 나왔습니다.(2.22%)\n",
      "43번은 66331번 나왔습니다.(2.21%)\n",
      "44번은 66755번 나왔습니다.(2.23%)\n",
      "45번은 66733번 나왔습니다.(2.22%)\n"
     ]
    }
   ],
   "source": [
    "import random\n",
    "\n",
    "num = input(\"로또를 몇번 구매하시겠습니까? \")\n",
    "\n",
    "cnt = int(num)\n",
    "box = []\n",
    "result = []\n",
    "mx = 0\n",
    "\n",
    "for i in range(cnt):\n",
    "    lotto = random.sample(range(1, 46), 6) # 1부터 45까지 숫자 중 6개를 중복 없이 무작위로 선택.\n",
    "    lotto.sort() # 선택한 숫자들을 오름차순으로 정렬.\n",
    "    box.append(lotto)\n",
    "\n",
    "for number in box:\n",
    "    for add in number:\n",
    "        result.append(add)\n",
    "\n",
    "for j in range(1,46):\n",
    "    count = result.count(j)\n",
    "    per = count/len(result)*100\n",
    "    print(f'{j}번은 {count}번 나왔습니다.({per:.2f}%)')\n"
   ]
  },
  {
   "cell_type": "code",
   "execution_count": 29,
   "id": "fadbd893-2cff-47ab-958a-cd0e643f2ff2",
   "metadata": {},
   "outputs": [
    {
     "name": "stdout",
     "output_type": "stream",
     "text": [
      "숫자1 : 출현한 횟수는 12회 입니다.\n",
      "숫자2 : 출현한 횟수는 16회 입니다.\n",
      "숫자3 : 출현한 횟수는 21회 입니다.\n",
      "숫자4 : 출현한 횟수는 16회 입니다.\n",
      "숫자5 : 출현한 횟수는 18회 입니다.\n",
      "숫자6 : 출현한 횟수는 13회 입니다.\n",
      "숫자7 : 출현한 횟수는 9회 입니다.\n",
      "숫자8 : 출현한 횟수는 15회 입니다.\n",
      "숫자9 : 출현한 횟수는 10회 입니다.\n",
      "숫자10 : 출현한 횟수는 13회 입니다.\n",
      "숫자11 : 출현한 횟수는 14회 입니다.\n",
      "숫자12 : 출현한 횟수는 15회 입니다.\n",
      "숫자13 : 출현한 횟수는 13회 입니다.\n",
      "숫자14 : 출현한 횟수는 10회 입니다.\n",
      "숫자15 : 출현한 횟수는 17회 입니다.\n",
      "숫자16 : 출현한 횟수는 16회 입니다.\n",
      "숫자17 : 출현한 횟수는 14회 입니다.\n",
      "숫자18 : 출현한 횟수는 7회 입니다.\n",
      "숫자19 : 출현한 횟수는 12회 입니다.\n",
      "숫자20 : 출현한 횟수는 17회 입니다.\n",
      "숫자21 : 출현한 횟수는 12회 입니다.\n",
      "숫자22 : 출현한 횟수는 11회 입니다.\n",
      "숫자23 : 출현한 횟수는 15회 입니다.\n",
      "숫자24 : 출현한 횟수는 13회 입니다.\n",
      "숫자25 : 출현한 횟수는 5회 입니다.\n",
      "숫자26 : 출현한 횟수는 15회 입니다.\n",
      "숫자27 : 출현한 횟수는 8회 입니다.\n",
      "숫자28 : 출현한 횟수는 16회 입니다.\n",
      "숫자29 : 출현한 횟수는 15회 입니다.\n",
      "숫자30 : 출현한 횟수는 12회 입니다.\n",
      "숫자31 : 출현한 횟수는 12회 입니다.\n",
      "숫자32 : 출현한 횟수는 14회 입니다.\n",
      "숫자33 : 출현한 횟수는 9회 입니다.\n",
      "숫자34 : 출현한 횟수는 12회 입니다.\n",
      "숫자35 : 출현한 횟수는 9회 입니다.\n",
      "숫자36 : 출현한 횟수는 17회 입니다.\n",
      "숫자37 : 출현한 횟수는 21회 입니다.\n",
      "숫자38 : 출현한 횟수는 15회 입니다.\n",
      "숫자39 : 출현한 횟수는 13회 입니다.\n",
      "숫자40 : 출현한 횟수는 7회 입니다.\n",
      "숫자41 : 출현한 횟수는 16회 입니다.\n",
      "숫자42 : 출현한 횟수는 17회 입니다.\n",
      "숫자43 : 출현한 횟수는 9회 입니다.\n",
      "숫자44 : 출현한 횟수는 10회 입니다.\n",
      "숫자45 : 출현한 횟수는 19회 입니다.\n",
      "[12, 16, 21, 16, 18, 13, 9, 15, 10, 13, 14, 15, 13, 10, 17, 16, 14, 7, 12, 17, 12, 11, 15, 13, 5, 15, 8, 16, 15, 12, 12, 14, 9, 12, 9, 17, 21, 15, 13, 7, 16, 17, 9, 10, 19] True\n",
      "출현횟수 100에 대한 검증이 이상 없습니다.\n"
     ]
    }
   ],
   "source": [
    "import random\n",
    "\n",
    "# box = []\n",
    "\n",
    "# while len(box) < 6:\n",
    "#     ran = random.randint(1,46)\n",
    "#     if not ran in box:\n",
    "#         box.append(ran)\n",
    "# print(box,len(box))\n",
    "\n",
    "ls = []\n",
    "la = []\n",
    "how = 100\n",
    "for h in range(how):\n",
    "    lotto = sorted(random.sample(range(1,46),6))\n",
    "    la.append(lotto)\n",
    "    ls = ls + lotto\n",
    "\n",
    "ss = []\n",
    "\n",
    "for n in range(1,46):\n",
    "    ss.append(ls.count(n))\n",
    "    print(f'숫자{n} : 출현한 횟수는 {ls.count(n)}회 입니다.')\n",
    "print(ss,sum(ss) == how*6)\n",
    "if sum(ss) == (how * 6):\n",
    "    print(f'출현횟수 {how}에 대한 검증이 이상 없습니다.')"
   ]
  },
  {
   "cell_type": "code",
   "execution_count": 31,
   "id": "cc5108bd-13ef-4970-b4f0-21470713baec",
   "metadata": {},
   "outputs": [
    {
     "name": "stdout",
     "output_type": "stream",
     "text": [
      "{'num1': 17, 'num2': 16, 'num3': 14, 'num4': 7, 'num5': 11, 'num6': 20, 'num7': 15, 'num8': 14, 'num9': 16, 'num10': 8, 'num11': 8, 'num12': 10, 'num13': 19, 'num14': 16, 'num15': 21, 'num16': 14, 'num17': 14, 'num18': 17, 'num19': 11, 'num20': 11, 'num21': 14, 'num22': 8, 'num23': 13, 'num24': 12, 'num25': 13, 'num26': 12, 'num27': 16, 'num28': 12, 'num29': 4, 'num30': 12, 'num31': 13, 'num32': 9, 'num33': 11, 'num34': 14, 'num35': 11, 'num36': 18, 'num37': 11, 'num38': 14, 'num39': 14, 'num40': 16, 'num41': 14, 'num42': 15, 'num43': 15, 'num44': 17, 'num45': 13}\n"
     ]
    }
   ],
   "source": [
    "ls = []\n",
    "la = []\n",
    "how = 100\n",
    "for h in range(how):\n",
    "    lotto = sorted(random.sample(range(1,46),6))\n",
    "    la.append(lotto)\n",
    "    ls = ls + lotto\n",
    "\n",
    "dic = {}\n",
    "\n",
    "for n in range(1,46):\n",
    "   dic[f'num{n}'] = ls.count(n)\n",
    "print(dic)"
   ]
  },
  {
   "cell_type": "code",
   "execution_count": 66,
   "id": "217c56d2-ff20-4563-b289-d5ba5708bc6c",
   "metadata": {},
   "outputs": [
    {
     "name": "stdin",
     "output_type": "stream",
     "text": [
      "돈을 넣어 주세요 :  1500\n",
      "구매하실 메뉴를 눌러 주세요. 1. 음료수(1500원) 2. 과자(2000원) 3. 햄버거(3500원) 4. 돈 반환:  1\n",
      "구매하실 메뉴를 눌러 주세요. 1. 음료수(1500원) 2. 과자(2000원) 3. 햄버거(3500원) 4. 돈 반환:  4\n",
      "돈을 넣어 주세요 :  1\n"
     ]
    },
    {
     "name": "stdout",
     "output_type": "stream",
     "text": [
      "구매 가능한 물품이 없습니다. 돈을 반환 합니다.\n"
     ]
    }
   ],
   "source": [
    "t1 = 1500\n",
    "t2 = 2000\n",
    "t3 = 3500\n",
    "money = 0\n",
    "chg = 0\n",
    "\n",
    "while True:\n",
    "    money = int(input(\"돈을 넣어 주세요 : \"))\n",
    "    if money >= 1500:\n",
    "        while True:   \n",
    "            if money >= 1500:\n",
    "                snack = int(input(\"구매하실 메뉴를 눌러 주세요. 1. 음료수(1500원) 2. 과자(2000원) 3. 햄버거(3500원) 4. 돈 반환: \"))\n",
    "                if snack == 1:\n",
    "                    chg = money - t1\n",
    "                    continue\n",
    "                elif snack == 2:\n",
    "                    chg = money - t2\n",
    "                elif snack == 3:\n",
    "                    chg = money - t3\n",
    "                elif snack == 4:\n",
    "                    break\n",
    "                else:\n",
    "                    print(\"잘못 입력하셨습니다. 돈을 돌려 드립니다...\")\n",
    "                    break\n",
    "            elif money < 1500:\n",
    "                print(\"구매 가능한 물품이 없습니다. 돈을 반환 합니다.\")\n",
    "            else:\n",
    "                print(\"구매 가능한 물품이 없습니다. 돈을 반환 합니다.\")\n",
    "                break\n",
    "    elif money == 0:\n",
    "         print(\"돈을 돌려 드립니다...\")\n",
    "         break\n",
    "    else:\n",
    "        print(\"구매 가능한 물품이 없습니다. 돈을 반환 합니다.\")\n",
    "        break"
   ]
  },
  {
   "cell_type": "code",
   "execution_count": 116,
   "id": "23d2b13b-690a-4f61-9f09-da297c0eca12",
   "metadata": {},
   "outputs": [
    {
     "name": "stdin",
     "output_type": "stream",
     "text": [
      "돈을 넣어 주세요 :  2000\n",
      "구매하실 메뉴를 눌러 주세요. 1. 음료수(1500원) 2. 과자(2000원) 3. 햄버거(3500원) 4. 돈 반환:  1\n"
     ]
    },
    {
     "name": "stdout",
     "output_type": "stream",
     "text": [
      "음료수를 구매 하셨습니다. 남은 금액 : 500원\n"
     ]
    },
    {
     "name": "stdin",
     "output_type": "stream",
     "text": [
      "구매하실 메뉴를 눌러 주세요. 1. 음료수(1500원) 2. 과자(2000원) 3. 햄버거(3500원) 4. 돈 반환:  4\n",
      "돈을 넣어 주세요 :  4\n"
     ]
    },
    {
     "name": "stdout",
     "output_type": "stream",
     "text": [
      "구매 가능한 물품이 없습니다. 돈을 반환 합니다.3\n"
     ]
    }
   ],
   "source": [
    "# money = 5000\n",
    "# t1 = 1330\n",
    "\n",
    "# coin = [1000, 500, 100, 50, 10]\n",
    "# chg = money - t1\n",
    "\n",
    "# for i in coin:\n",
    "#     chgmoney = chg // i\n",
    "#     chg %= i\n",
    "#     print(f'거스름돈 {i}원{chgmoney}개 입니다...')\n",
    "\n",
    "\n",
    "t1 = 1500\n",
    "t2 = 2000\n",
    "t3 = 3500\n",
    "money = 0\n",
    "chg = 0\n",
    "\n",
    "\n",
    "\n",
    "while money < 1500:\n",
    "    money = int(input(\"돈을 넣어 주세요 : \"))\n",
    "    if money >= 1500:\n",
    "        while chg < 1500:\n",
    "            snack = int(input(\"구매하실 메뉴를 눌러 주세요. 1. 음료수(1500원) 2. 과자(2000원) 3. 햄버거(3500원) 4. 돈 반환: \"))\n",
    "            if snack == 1:\n",
    "                chg = money - t1\n",
    "                money = chg\n",
    "                print(f'음료수를 구매 하셨습니다. 남은 금액 : {chg}원')\n",
    "            elif snack == 2:\n",
    "                chg = money - t2\n",
    "                money = chg\n",
    "            elif snack == 3:\n",
    "                chg = money - t3\n",
    "                money = chg\n",
    "            elif snack == 4:\n",
    "                break\n",
    "            elif chg < 1500:\n",
    "                print(\"구매 가능한 물품이 없습니다. 돈을 반환 합니다.2\")\n",
    "                break\n",
    "            elif chg == 0:\n",
    "                print(\"구매 가능한 물품이 없습니다....\")\n",
    "                break\n",
    "            else:\n",
    "                print(\"잘못 입력하셨습니다. 돈을 돌려 드립니다...\")\n",
    "                break\n",
    "    else:\n",
    "        print(\"구매 가능한 물품이 없습니다. 돈을 반환 합니다.3\")\n",
    "        break"
   ]
  },
  {
   "cell_type": "code",
   "execution_count": 57,
   "id": "ec4ebb00-4933-4536-819b-9244fad2b8c8",
   "metadata": {},
   "outputs": [],
   "source": [
    "a = [33, 11, 22, 44]\n",
    "\n"
   ]
  },
  {
   "cell_type": "markdown",
   "id": "9d504b47-e024-46f6-874a-4f91fe61f4c2",
   "metadata": {},
   "source": [
    "# 함수"
   ]
  },
  {
   "cell_type": "code",
   "execution_count": 79,
   "id": "d86ce86b-7628-44f2-a817-75e04715c133",
   "metadata": {},
   "outputs": [],
   "source": [
    "def 덧셈(a,b):\n",
    "    return a + b"
   ]
  },
  {
   "cell_type": "code",
   "execution_count": 85,
   "id": "85a71c3e-a796-450d-a5d6-b20adbed43c0",
   "metadata": {},
   "outputs": [
    {
     "name": "stdout",
     "output_type": "stream",
     "text": [
      "[6, 13, 17, 23, 24, 35, 39, 42, 59, 62] 10\n"
     ]
    }
   ],
   "source": [
    "import random\n",
    "def 로또(파라미터,매개변수): # def 함수_이름(파라미터,매개변수) 괄호 안에 바로 숫자로 지정해도 됨\n",
    "    box = []\n",
    "    while len(box) < 파라미터:\n",
    "        ran = random.randint(1,매개변수)\n",
    "        if not ran in box:\n",
    "            box.append(ran)\n",
    "    box.sort()\n",
    "    print(box,len(box))\n",
    "로또(10,100) # 로또(파라미터, 매개변수)"
   ]
  },
  {
   "cell_type": "code",
   "execution_count": 82,
   "id": "5875cd6b-7451-4901-871d-cc86d6b41c06",
   "metadata": {},
   "outputs": [
    {
     "name": "stdout",
     "output_type": "stream",
     "text": [
      "[1, 7, 12, 21, 24, 31] 6\n",
      "[16, 19, 31, 32, 41, 45] 6\n",
      "[23, 26, 33, 36, 40, 44] 6\n",
      "[11, 12, 15, 17, 24, 39] 6\n",
      "[3, 11, 18, 23, 34, 39] 6\n"
     ]
    }
   ],
   "source": [
    "for n in range(5):\n",
    "    로또()"
   ]
  },
  {
   "cell_type": "code",
   "execution_count": 91,
   "id": "bb21f072-65b6-4b57-aebb-182db8e591eb",
   "metadata": {},
   "outputs": [
    {
     "name": "stdout",
     "output_type": "stream",
     "text": [
      "2 x 1 = 2\n",
      "2 x 2 = 4\n",
      "2 x 3 = 6\n",
      "2 x 4 = 8\n",
      "2 x 5 = 10\n",
      "2 x 6 = 12\n",
      "2 x 7 = 14\n",
      "2 x 8 = 16\n",
      "2 x 9 = 18\n",
      "\n"
     ]
    }
   ],
   "source": [
    "def gugu(end = 9):\n",
    "    data = ''\n",
    "    for i in range(2,end + 1):\n",
    "        for j in range(1,10):\n",
    "            data += (f'{i} x {j} = {i*j}') + '\\n' # 구분하기 위해 사용\n",
    "    return data\n",
    "print(gugu(2))"
   ]
  },
  {
   "cell_type": "markdown",
   "id": "d944da2a-f057-4f00-812e-3c923d0c03c7",
   "metadata": {},
   "source": [
    "## 입력값과 리턴값에 따른 함수의 형태"
   ]
  },
  {
   "cell_type": "markdown",
   "id": "79e97010-00e2-4adf-8ea1-0d6f01ab8a67",
   "metadata": {},
   "source": [
    "### 일반적인 함수"
   ]
  },
  {
   "cell_type": "code",
   "execution_count": null,
   "id": "7621ae7b-84e8-46b9-9e66-3c2ff710ec7a",
   "metadata": {},
   "outputs": [],
   "source": [
    "def add(a,b):\n",
    "    result = a + b\n",
    "    return result"
   ]
  },
  {
   "cell_type": "code",
   "execution_count": 94,
   "id": "d71053bd-51a4-4966-8993-f85b056cb862",
   "metadata": {},
   "outputs": [
    {
     "name": "stdout",
     "output_type": "stream",
     "text": [
      "87\n"
     ]
    }
   ],
   "source": [
    "a = add(77,10)\n",
    "print(a)"
   ]
  },
  {
   "cell_type": "code",
   "execution_count": 95,
   "id": "ba9defc8-9107-427e-8a34-e064d4afa581",
   "metadata": {},
   "outputs": [],
   "source": [
    "# 입력값이 없는 함수\n",
    "def say():\n",
    "    return '안녕'"
   ]
  },
  {
   "cell_type": "code",
   "execution_count": 96,
   "id": "8ae9de80-af1f-4732-b7b1-4f545d40def4",
   "metadata": {},
   "outputs": [
    {
     "name": "stdout",
     "output_type": "stream",
     "text": [
      "안녕\n"
     ]
    }
   ],
   "source": [
    "a = say()\n",
    "print(a)"
   ]
  },
  {
   "cell_type": "code",
   "execution_count": 97,
   "id": "38debf04-a786-440a-80c7-bddac9b4ca15",
   "metadata": {},
   "outputs": [],
   "source": [
    "def add(a,b):\n",
    "    print('%d, %d의 합은 %d 입니다' %(a, b, a+b))"
   ]
  },
  {
   "cell_type": "code",
   "execution_count": 98,
   "id": "b52279d5-2c67-44b1-b2ba-2677c3e94b39",
   "metadata": {},
   "outputs": [
    {
     "name": "stdout",
     "output_type": "stream",
     "text": [
      "11, 33의 합은 44 입니다\n"
     ]
    }
   ],
   "source": [
    "add(11,33)"
   ]
  },
  {
   "cell_type": "code",
   "execution_count": 99,
   "id": "07ce5ded-460b-435b-af90-a2879d0c0528",
   "metadata": {},
   "outputs": [],
   "source": [
    "def say():\n",
    "    print('안녕')\n",
    "    print('입력값과 리턴값이 없어요')\n",
    "    print('빠이~')"
   ]
  },
  {
   "cell_type": "code",
   "execution_count": 100,
   "id": "a18581b0-4477-42f9-a162-9e3265745264",
   "metadata": {},
   "outputs": [
    {
     "name": "stdout",
     "output_type": "stream",
     "text": [
      "안녕\n",
      "입력값과 리턴값이 없어요\n",
      "빠이~\n"
     ]
    }
   ],
   "source": [
    "say()"
   ]
  },
  {
   "cell_type": "code",
   "execution_count": 105,
   "id": "badbb322-70cb-4186-816a-a6df73e187b1",
   "metadata": {},
   "outputs": [],
   "source": [
    "import time as t\n",
    "def disp():\n",
    "    print('안녕\\r',end =\"\")\n",
    "    t.sleep(2)\n",
    "    print('입력값과 리턴값이 없어요\\r',end =\"\")\n",
    "    t.sleep(2)\n",
    "    print('빠이~                  \\r',end =\"\")\n",
    "    t.sleep(2)"
   ]
  },
  {
   "cell_type": "code",
   "execution_count": 106,
   "id": "1c04b0e6-c825-4d18-b5f0-adf347b17848",
   "metadata": {},
   "outputs": [
    {
     "name": "stdout",
     "output_type": "stream",
     "text": [
      "빠이~                  "
     ]
    }
   ],
   "source": [
    "disp()"
   ]
  },
  {
   "cell_type": "code",
   "execution_count": 117,
   "id": "34c53b8b-6359-4c27-948b-af4b8409e026",
   "metadata": {},
   "outputs": [],
   "source": [
    "def sub(a,b):\n",
    "    return a-b"
   ]
  },
  {
   "cell_type": "code",
   "execution_count": 118,
   "id": "5abd9641-fc35-4daa-a8f2-8ca5ad3c965a",
   "metadata": {},
   "outputs": [
    {
     "name": "stdout",
     "output_type": "stream",
     "text": [
      "4\n"
     ]
    }
   ],
   "source": [
    "result = sub(b=3, a=7)\n",
    "print(result)"
   ]
  },
  {
   "cell_type": "code",
   "execution_count": 2,
   "id": "72d941d0-8aed-451e-9224-3c8ed1e7cc48",
   "metadata": {},
   "outputs": [],
   "source": [
    "# !pip install matplotlib"
   ]
  },
  {
   "cell_type": "code",
   "execution_count": 15,
   "id": "1f9b758b-403b-4705-9578-3c03e962b52f",
   "metadata": {},
   "outputs": [],
   "source": [
    "# 테스트 : 함수 random 주사위\n",
    "import random as r\n",
    "import matplotlib.pyplot as plt\n",
    "results = {}\n",
    "def dice(target = 250000):\n",
    "    box = [] # 초기화\n",
    "    num = 0\n",
    "    while num < target:\n",
    "        num = num + 1\n",
    "        ran = r.randint(1,6)\n",
    "        box. append(ran)\n",
    "    if target == len(box):\n",
    "        print(f\"{target}회 정상 진행되었습니다.\")\n",
    "    else:\n",
    "        print(f\"검증 결과 횟수 이상이 있습니다. 이유:({target}회 목표로 동작하였으나, {len(box)}으로 촉정되었습니다.)\")\n",
    "    for n in range(1,7):\n",
    "        results[n] = box. count(n)\n",
    "        print(f\"{n}번이 {box.count(n)}번({(box.count(n)/len(box))*100: .2f}%) 등장하였습니다.\")\n",
    "    # print(results)\n",
    "    plt.bar(results.keys(), results.values(), color=\"red\")\n",
    "    plt.show()"
   ]
  },
  {
   "cell_type": "code",
   "execution_count": null,
   "id": "f9dc7fcf-9a24-429a-87ae-6071c148439d",
   "metadata": {},
   "outputs": [],
   "source": [
    "dice()\n",
    "# plt.bar(range(1,6),)"
   ]
  },
  {
   "cell_type": "code",
   "execution_count": 24,
   "id": "733caef7-134c-49b5-b6f9-b280783e1f0e",
   "metadata": {},
   "outputs": [],
   "source": [
    "# 여러개의 입력값을 받는 함수 만들기\n",
    "def add_many(args):\n",
    "    result = 0\n",
    "    for i in args:\n",
    "        result = result + i\n",
    "    return result"
   ]
  },
  {
   "cell_type": "code",
   "execution_count": 25,
   "id": "d7ed6abe-fa04-4eb6-a028-47266e57705e",
   "metadata": {},
   "outputs": [
    {
     "name": "stdout",
     "output_type": "stream",
     "text": [
      "14\n"
     ]
    }
   ],
   "source": [
    "res = add_many((1,4,3,1,5))\n",
    "print(res)"
   ]
  },
  {
   "cell_type": "code",
   "execution_count": 45,
   "id": "cf1edb9f-fed4-4080-bc4a-784f66946a75",
   "metadata": {},
   "outputs": [
    {
     "name": "stdin",
     "output_type": "stream",
     "text": [
      "하고자 하는 연산을 넣어주세요. 덧셈 : add, 뺄셈 : sub, 곱셉 : mul, 나눗셈 :  mul\n"
     ]
    }
   ],
   "source": [
    "choice = input(\"하고자 하는 연산을 넣어주세요. 덧셈 : add, 뺄셈 : sub, 곱셉 : mul, 나눗셈 : \")\n",
    "\n",
    "def add_mul(choice, *args):\n",
    "    if choice == \"add\":\n",
    "        result = 0\n",
    "        for i in args:\n",
    "            result = result + i\n",
    "    elif choice == \"sub\":\n",
    "        result = 0\n",
    "        for i in args:\n",
    "            result = result - i\n",
    "    elif choice == \"mul\":\n",
    "        result = 1\n",
    "        for i in args:\n",
    "            result = result * i\n",
    "    elif choice == \"div\":\n",
    "        result = 1\n",
    "        for i in args:\n",
    "            result = result / i\n",
    "    else:\n",
    "        print('정확한 명령어를 입력해주세요. (add, sub, mul, div)')\n",
    "    return result      "
   ]
  },
  {
   "cell_type": "code",
   "execution_count": 46,
   "id": "9eedd60b-f109-4baf-a3b2-8f29421ca645",
   "metadata": {},
   "outputs": [
    {
     "data": {
      "text/plain": [
       "1.1111111111111112e-05"
      ]
     },
     "execution_count": 46,
     "metadata": {},
     "output_type": "execute_result"
    }
   ],
   "source": [
    "add_mul('add', 1,2,3,4,5)\n",
    "add_mul('sub', 1,2,3,4,5)\n",
    "add_mul('mul', 1,2,3,4,5)\n",
    "add_mul('div', 300,30,10)"
   ]
  },
  {
   "cell_type": "code",
   "execution_count": 51,
   "id": "9dcd89a5-9c61-479c-a4d3-c59693897a32",
   "metadata": {},
   "outputs": [
    {
     "name": "stdout",
     "output_type": "stream",
     "text": [
      "{'name': '홍길동', 'age': 21, 'address': '대한민국'}\n"
     ]
    }
   ],
   "source": [
    "# 키워드 매개변수 kwargs\n",
    "def print_kwargs(**kwargs):\n",
    "    print(kwargs)\n",
    "    # print_kwargs(a=1,b=2,c=3)\n",
    "print_kwargs(name='홍길동',age=21,address='대한민국')"
   ]
  },
  {
   "cell_type": "code",
   "execution_count": 54,
   "id": "241ebdea-d47b-4152-9dc3-be17c7622f8c",
   "metadata": {},
   "outputs": [
    {
     "name": "stdout",
     "output_type": "stream",
     "text": [
      "{'name': '홍길동', 'age': 21, 'address': '대한민국'}\n"
     ]
    }
   ],
   "source": [
    "# 키워드 매개변수 kwargs\n",
    "def print_kwargs(kwargs):\n",
    "    print(kwargs)\n",
    "    # print_kwargs(a=1,b=2,c=3)\n",
    "print_kwargs({'name':'홍길동','age':21,'address':'대한민국'})"
   ]
  },
  {
   "cell_type": "code",
   "execution_count": 55,
   "id": "e451e43e-3802-4b9a-921d-2938db6b1dd3",
   "metadata": {},
   "outputs": [],
   "source": [
    "# test\n",
    "def test():\n",
    "    print('저야 영광이죠~!!')\n",
    "    return\n",
    "    print('집에 가고싶어~~')"
   ]
  },
  {
   "cell_type": "code",
   "execution_count": 56,
   "id": "207f5f3e-8009-4bfc-9afb-68c580913e99",
   "metadata": {},
   "outputs": [
    {
     "name": "stdout",
     "output_type": "stream",
     "text": [
      "저야 영광이죠~!!\n"
     ]
    }
   ],
   "source": [
    "test()"
   ]
  },
  {
   "cell_type": "code",
   "execution_count": 57,
   "id": "8fe64413-4cdc-40e5-8f9b-af9af22723e3",
   "metadata": {},
   "outputs": [
    {
     "name": "stdout",
     "output_type": "stream",
     "text": [
      "35 286\n"
     ]
    }
   ],
   "source": [
    "# test2\n",
    "def test2(a,b):\n",
    "    return (a+b, a*b)\n",
    "add_result, mul_result = test2(13,22)\n",
    "print(add_result, mul_result)"
   ]
  },
  {
   "cell_type": "code",
   "execution_count": 58,
   "id": "c6509987-4946-4f34-b608-8191d0e396c5",
   "metadata": {},
   "outputs": [],
   "source": [
    "def say_nick(nick):\n",
    "    if nick == \"바보\":\n",
    "        return\n",
    "    print(\"나의 별명은 %s 입니다.\" %nick)"
   ]
  },
  {
   "cell_type": "code",
   "execution_count": 60,
   "id": "4d7799f0-7b99-48c5-9e6a-3f580e0ee624",
   "metadata": {},
   "outputs": [],
   "source": [
    "# say_nick('야호')\n",
    "say_nick('바보')"
   ]
  },
  {
   "cell_type": "code",
   "execution_count": null,
   "id": "3202698b-1fe1-4786-80a8-96a6e448b5c5",
   "metadata": {},
   "outputs": [],
   "source": []
  }
 ],
 "metadata": {
  "kernelspec": {
   "display_name": "Python 3 (ipykernel)",
   "language": "python",
   "name": "python3"
  },
  "language_info": {
   "codemirror_mode": {
    "name": "ipython",
    "version": 3
   },
   "file_extension": ".py",
   "mimetype": "text/x-python",
   "name": "python",
   "nbconvert_exporter": "python",
   "pygments_lexer": "ipython3",
   "version": "3.13.1"
  }
 },
 "nbformat": 4,
 "nbformat_minor": 5
}
