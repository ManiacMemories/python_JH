{
 "cells": [
  {
   "cell_type": "markdown",
   "id": "5c594f9c-76a4-447d-b974-cc0135f5f24f",
   "metadata": {},
   "source": [
    "# 외부 라이브러리"
   ]
  },
  {
   "cell_type": "markdown",
   "id": "a5a2e2b4-248c-4ed4-8aa7-d2c877c222d7",
   "metadata": {},
   "source": [
    "## pip *"
   ]
  },
  {
   "cell_type": "markdown",
   "id": "d006c444-e08a-4493-b72e-4da4fea421f5",
   "metadata": {},
   "source": [
    "- venv1 생성 후 백업: pip freeze > requirements.txt\n",
    "- venv2 생성 후 복구: pip install -r requirements.txt\n",
    "- venv3 jupyterlab 설치후 matplotlib 설치 후 백업하고\n",
    "- venv4 에 pip 리스트 그대로 복구하라.\n",
    "- venv5 에 numpy 2.2.2 버전으로 복구되도록 requirements.txt 수정 후 복구하라.\n"
   ]
  },
  {
   "cell_type": "markdown",
   "id": "2820912b-5b35-4333-aacc-ecce5c4a38be",
   "metadata": {},
   "source": [
    "## Faker"
   ]
  },
  {
   "cell_type": "code",
   "execution_count": 2,
   "id": "580980c2-fbec-417a-b862-1772576b16a2",
   "metadata": {},
   "outputs": [
    {
     "name": "stdout",
     "output_type": "stream",
     "text": [
      "Collecting Faker\n",
      "  Downloading Faker-36.1.1-py3-none-any.whl.metadata (15 kB)\n",
      "Collecting tzdata (from Faker)\n",
      "  Downloading tzdata-2025.1-py2.py3-none-any.whl.metadata (1.4 kB)\n",
      "Downloading Faker-36.1.1-py3-none-any.whl (1.9 MB)\n",
      "   ---------------------------------------- 0.0/1.9 MB ? eta -:--:--\n",
      "   --------------------------- ------------ 1.3/1.9 MB 6.8 MB/s eta 0:00:01\n",
      "   ---------------------------------------- 1.9/1.9 MB 4.8 MB/s eta 0:00:00\n",
      "Downloading tzdata-2025.1-py2.py3-none-any.whl (346 kB)\n",
      "Installing collected packages: tzdata, Faker\n",
      "Successfully installed Faker-36.1.1 tzdata-2025.1\n"
     ]
    }
   ],
   "source": [
    "# !pip install Faker"
   ]
  },
  {
   "cell_type": "code",
   "execution_count": 3,
   "id": "90e5f28e-4df6-428b-b1e1-43e952e368a3",
   "metadata": {},
   "outputs": [
    {
     "data": {
      "text/plain": [
       "[{'name': '박상호',\n",
       "  'id': 'jihunjo',\n",
       "  'phone': '042-518-3439',\n",
       "  'email': 'gweonsangceol@example.com'},\n",
       " {'name': '김유진',\n",
       "  'id': 'jinho63',\n",
       "  'phone': '041-011-2909',\n",
       "  'email': 'zseo@example.org'},\n",
       " {'name': '강성진',\n",
       "  'id': 'jongsu52',\n",
       "  'phone': '061-150-3962',\n",
       "  'email': 'jeongsuggang@example.com'},\n",
       " {'name': '이병철',\n",
       "  'id': 'jihyehwang',\n",
       "  'phone': '064-787-7474',\n",
       "  'email': 'gangjunho@example.net'},\n",
       " {'name': '이승현',\n",
       "  'id': 'josumin',\n",
       "  'phone': '061-113-6901',\n",
       "  'email': 'eunji15@example.org'},\n",
       " {'name': '이준영',\n",
       "  'id': 'lgim',\n",
       "  'phone': '044-764-3552',\n",
       "  'email': 'dgim@example.org'},\n",
       " {'name': '김지혜',\n",
       "  'id': 'jeongsiggim',\n",
       "  'phone': '033-886-0334',\n",
       "  'email': 'jeongsugim@example.org'},\n",
       " {'name': '권영철',\n",
       "  'id': 'ogim',\n",
       "  'phone': '032-112-0678',\n",
       "  'email': 'seojungim@example.net'},\n",
       " {'name': '박서윤',\n",
       "  'id': 'ijaehyeon',\n",
       "  'phone': '051-465-6855',\n",
       "  'email': 'gyeongsug03@example.com'},\n",
       " {'name': '박하은',\n",
       "  'id': 'ngim',\n",
       "  'phone': '052-493-2216',\n",
       "  'email': 'tgim@example.net'}]"
      ]
     },
     "execution_count": 3,
     "metadata": {},
     "output_type": "execute_result"
    }
   ],
   "source": [
    "from faker import Faker\n",
    "fake = Faker('ko-KR')\n",
    "[{'name':fake.name(),'id':fake.user_name(),'phone':fake.phone_number(),'email':fake.email()} for n in range(10)]"
   ]
  },
  {
   "cell_type": "markdown",
   "id": "338aecc2-cdd7-4d26-abe7-9d0270f69542",
   "metadata": {},
   "source": [
    "`<table style=\"float:left;width:400px\">`\n",
    "<table style=\"float:left;width:400px\">\n",
    "<thead>\n",
    "<tr>\n",
    "<th>항목</th>\n",
    "<th>설명</th>\n",
    "</tr>\n",
    "</thead>\n",
    "<tbody>\n",
    "<tr>\n",
    "<td>fake.name()</td>\n",
    "<td>이름</td>\n",
    "</tr>\n",
    "<tr>\n",
    "<td>fake.address()</td>\n",
    "<td>주소</td>\n",
    "</tr>\n",
    "<tr>\n",
    "<td>fake.postcode()</td>\n",
    "<td>우편 번호</td>\n",
    "</tr>\n",
    "<tr>\n",
    "<td>fake.country()</td>\n",
    "<td>국가명</td>\n",
    "</tr>\n",
    "<tr>\n",
    "<td>fake.company()</td>\n",
    "<td>회사명</td>\n",
    "</tr>\n",
    "<tr>\n",
    "<td>fake.job()</td>\n",
    "<td>직업명</td>\n",
    "</tr>\n",
    "<tr>\n",
    "<td>fake.phone_number()</td>\n",
    "<td>휴대전화 번호</td>\n",
    "</tr>\n",
    "<tr>\n",
    "<td>fake.email()</td>\n",
    "<td>이메일 주소</td>\n",
    "</tr>\n",
    "<tr>\n",
    "<td>fake.user_name()</td>\n",
    "<td>사용자명</td>\n",
    "</tr>\n",
    "<tr>\n",
    "<td>fake.pyint(min_value=0, max_value=100)</td>\n",
    "<td>0부터 100 사이의 임의의 숫자</td>\n",
    "</tr>\n",
    "<tr>\n",
    "<td>fake.ipv4_private()</td>\n",
    "<td>IP 주소</td>\n",
    "</tr>\n",
    "<tr>\n",
    "<td>fake.text()</td>\n",
    "<td>임의의 문장 (한글 임의의 문장은 <code>fake.catch_phrase()</code> 사용)</td>\n",
    "</tr>\n",
    "<tr>\n",
    "<td>fake.color_name()</td>\n",
    "<td>색상명</td>\n",
    "</tr>\n",
    "</tbody>\n",
    "</table>"
   ]
  },
  {
   "cell_type": "code",
   "execution_count": 4,
   "id": "63bf6085-47eb-4da4-b682-b075059d9578",
   "metadata": {},
   "outputs": [
    {
     "name": "stdout",
     "output_type": "stream",
     "text": [
      "1위: REBEL HEART / IVE (아이브)\n",
      "2위: HOME SWEET HOME (feat. 태양, 대성) / G-DRAGON\n",
      "3위: 나는 반딧불 / 황가람\n",
      "4위: Whiplash / aespa\n",
      "5위: APT. / 로제 (ROSÉ)\n",
      "6위: Drowning / Bruno Mars\n",
      "7위: ATTITUDE / WOODZ\n",
      "8위: 오늘만 I LOVE YOU / IVE (아이브)\n",
      "9위: Dash / BOYNEXTDOOR\n",
      "10위: toxic till the end / PLAVE\n",
      "11위: 모르시나요(PROD.로코베리) / 로제 (ROSÉ)\n",
      "12위: POWER / 조째즈\n",
      "13위: RIZZ / G-DRAGON\n",
      "14위: HAPPY / PLAVE\n",
      "15위: Chroma Drift / DAY6 (데이식스)\n",
      "16위: 내게 사랑이 뭐냐고 물어본다면 / PLAVE\n",
      "17위: Island / 로이킴\n",
      "18위: 12:32 (A to T) / PLAVE\n",
      "19위: 사랑은 늘 도망가 / PLAVE\n",
      "20위: DRIP / 임영웅\n",
      " "
     ]
    }
   ],
   "source": [
    "import requests as req\n",
    "from bs4 import BeautifulSoup as bs\n",
    "url = \"https://www.melon.com/chart/index.htm\"\n",
    "headers = {'User-Agent':'Mozilla/5.0 (Windows NT 10.0; Win64; x64) AppleWebKit/537.36 (KHTML, like Gecko) Chrome/133.0.0.0 Safari/537.36 Edg/133.0.0.0'}\n",
    "web = req.get(url, headers = headers)\n",
    "soup = bs(web.content, 'html.parser')\n",
    "\n",
    "title = soup.select('.rank01')[:20]\n",
    "name = soup.select('.checkEllipsis a')[:20]\n",
    "str = ''\n",
    "for i, (t, n) in enumerate(zip(title, name),1):\n",
    "    str += f'{i}위: {t.text.strip()} / {n.text}\\n' \n",
    "print(str,end=' ')"
   ]
  },
  {
   "cell_type": "code",
   "execution_count": 5,
   "id": "a8c9f9fc-af0a-4aee-bff4-00a2e99c69dc",
   "metadata": {},
   "outputs": [
    {
     "ename": "ModuleNotFoundError",
     "evalue": "No module named 'melon'",
     "output_type": "error",
     "traceback": [
      "\u001b[1;31m---------------------------------------------------------------------------\u001b[0m",
      "\u001b[1;31mModuleNotFoundError\u001b[0m                       Traceback (most recent call last)",
      "Cell \u001b[1;32mIn[5], line 1\u001b[0m\n\u001b[1;32m----> 1\u001b[0m \u001b[38;5;28;01mimport\u001b[39;00m\u001b[38;5;250m \u001b[39m\u001b[38;5;21;01mmelon\u001b[39;00m\n\u001b[0;32m      2\u001b[0m melon\u001b[38;5;241m.\u001b[39mmel()\n",
      "\u001b[1;31mModuleNotFoundError\u001b[0m: No module named 'melon'"
     ]
    }
   ],
   "source": [
    "import melon\n",
    "melon.mel()"
   ]
  },
  {
   "cell_type": "code",
   "execution_count": null,
   "id": "b486033d-c383-4ea5-8e70-ee1710debef0",
   "metadata": {},
   "outputs": [],
   "source": []
  },
  {
   "cell_type": "code",
   "execution_count": 8,
   "id": "5959f92c-1853-4c0f-8ac5-68f5973fc6ab",
   "metadata": {
    "scrolled": true
   },
   "outputs": [
    {
     "name": "stdout",
     "output_type": "stream",
     "text": [
      "Requirement already satisfied: html5lib in c:\\users\\admin\\appdata\\local\\programs\\python\\python313\\lib\\site-packages (1.1)\n",
      "Requirement already satisfied: six>=1.9 in c:\\users\\admin\\appdata\\local\\programs\\python\\python313\\lib\\site-packages (from html5lib) (1.17.0)\n",
      "Requirement already satisfied: webencodings in c:\\users\\admin\\appdata\\local\\programs\\python\\python313\\lib\\site-packages (from html5lib) (0.5.1)\n"
     ]
    }
   ],
   "source": [
    "!pip install html5lib"
   ]
  },
  {
   "cell_type": "code",
   "execution_count": 1,
   "id": "42e231b0-1c70-40ed-9ba5-3fa687d7f83e",
   "metadata": {},
   "outputs": [
    {
     "name": "stdout",
     "output_type": "stream",
     "text": [
      "===============\n",
      "월 2025.02.17\n",
      "---------------\n",
      "정식-5,500원\n",
      "강황밥\n",
      "김치콩나물국\n",
      "돈육바싹불고기\n",
      "모듬잡채\n",
      "멸치새우견과볶음\n",
      "상추겉절이\n",
      "포기김치\n",
      "\n",
      "===============\n",
      "화 2025.02.18\n",
      "---------------\n",
      "정식-5,500원\n",
      "백미밥\n",
      "물만두국\n",
      "순살닭매콤조림\n",
      "쫄면야채무침\n",
      "파래무무침\n",
      "참나물겉절이\n",
      "포기김치\n",
      "\n",
      "===============\n",
      "수 2025.02.19\n",
      "---------------\n",
      "정식-5,500원\n",
      "백미밥\n",
      "모듬어묵국\n",
      "함박스테이크/치즈/소스\n",
      "스파게티/소스\n",
      "치커리유자청샐러드\n",
      "콩나물무침\n",
      "포기김치\n",
      "\n",
      "===============\n",
      "목 2025.02.20\n",
      "---------------\n",
      "정식-5,500원\n",
      "잡곡밥\n",
      "홍합미역국\n",
      "순살치킨/맛초킹소스\n",
      "꼬시레기두부무침\n",
      "잡채어묵조림\n",
      "상추겉절이\n",
      "포기김치\n",
      "\n",
      "===============\n",
      "금 2025.02.21\n",
      "---------------\n",
      "정식-5,500원\n",
      "백미밥\n",
      "국수\n",
      "깐풍기/소스\n",
      "알감자버터구이\n",
      "도토리묵김치무침\n",
      "열무겉절이\n",
      "포기김치\n",
      "\n"
     ]
    }
   ],
   "source": [
    "import requests as req\n",
    "from bs4 import BeautifulSoup as bs\n",
    "url = \"https://www.pusan.ac.kr/kor/CMS/MenuMgr/menuListOnBuilding.do?mCode=MN202\"\n",
    "headers = {'User-Agent':'Mozilla/5.0 (Windows NT 10.0; Win64; x64) AppleWebKit/537.36 (KHTML, like Gecko) Chrome/133.0.0.0 Safari/537.36 Edg/133.0.0.0'}\n",
    "web = req.get(url, headers = headers)\n",
    "soup = bs(web.content, 'html5lib')\n",
    "menucard = soup.select('.menu-tbl')\n",
    "won = soup.select('.menu-tit01')\n",
    "menu = soup.select('h3.menu-tit01+p')\n",
    "day = soup.select('.day')\n",
    "date = soup.select('.date')\n",
    "# print(day,date)\n",
    "for d, dd, w, m in zip(day, date, won, menu):\n",
    "    print('='*15)\n",
    "    print(d.text, dd.text)\n",
    "    print('-'*15)\n",
    "    print(w.text+'\\n'+ m.text)"
   ]
  },
  {
   "cell_type": "code",
   "execution_count": 27,
   "id": "8efbb64c-9c25-4d9b-aba8-e53ebcbba012",
   "metadata": {},
   "outputs": [
    {
     "name": "stdout",
     "output_type": "stream",
     "text": [
      "OpenSSL 3.0.15 3 Sep 2024\n"
     ]
    }
   ],
   "source": [
    "import ssl\n",
    "print(ssl.OPENSSL_VERSION)"
   ]
  },
  {
   "cell_type": "code",
   "execution_count": 1,
   "id": "ce10beb3-0bc1-4991-89e3-2996b258f175",
   "metadata": {
    "scrolled": true
   },
   "outputs": [
    {
     "name": "stdout",
     "output_type": "stream",
     "text": [
      "1위 : REBEL HEART / IVE (아이브)\n",
      "2위 : 나는 반딧불 / 황가람\n",
      "3위 : HOME SWEET HOME (Feat. 태양 & 대성) / G-DRAGON\n",
      "4위 : ATTITUDE / IVE (아이브)\n",
      "5위 : Whiplash / aespa\n",
      "6위 : Drowning / WOODZ\n",
      "7위 : 모르시나요 (Prod. by 로코베리) / 조째즈\n",
      "8위 : APT. / 로제 (ROSÉ) & Bruno Mars\n",
      "9위 : HAPPY / DAY6 (데이식스)\n",
      "10위 : 내게 사랑이 뭐냐고 물어본다면 / 로이킴\n",
      "11위 : toxic till the end / 로제 (ROSÉ)\n",
      "12위 : 내 이름 맑음 / QWER\n",
      "13위 : POWER / G-DRAGON\n",
      "14위 : Welcome to the Show / DAY6 (데이식스)\n",
      "15위 : 너와의 모든 지금 / 재쓰비 (JAESSBEE)\n",
      "16위 : 한 페이지가 될 수 있게 / DAY6 (데이식스)\n",
      "17위 : 소나기 / 이클립스 (ECLIPSE)\n",
      "18위 : Supernova / aespa\n",
      "19위 : 오늘만 I LOVE YOU / BOYNEXTDOOR\n",
      "20위 : 고민중독 / QWER\n",
      "21위 : 미치게 그리워서 / 황가람\n",
      "22위 : 예뻤어 / DAY6 (데이식스)\n",
      "23위 : 슬픈 초대장 / 순순희 (지환)\n",
      "24위 : 조조비행 / 개코 & 이수현\n",
      "25위 : 천상연 / 이창섭\n",
      "26위 : 사랑은 늘 도망가 / 임영웅\n",
      "27위 : DRIP / BABYMONSTER\n",
      "28위 : UP (KARINA Solo) / aespa\n",
      "29위 : Die With A Smile / Lady Gaga & Bruno Mars\n",
      "30위 : Storm / 김보경 (NEON)\n",
      "31위 : 청춘만화 / 이무진\n",
      "32위 : Mantra / 제니 (JENNIE)\n",
      "33위 : 에피소드 / 이무진\n",
      "34위 : 나는 아픈 건 딱 질색이니까 / (여자)아이들\n",
      "35위 : 우리들의 블루스 / 임영웅\n",
      "36위 : 이제 나만 믿어요 / 임영웅\n",
      "37위 : 비의 랩소디 / 임재현\n",
      "38위 : 첫 만남은 계획대로 되지 않아 / TWS (투어스)\n",
      "39위 : 어떻게 이별까지 사랑하겠어, 널 사랑하는 거지 / AKMU (악뮤)\n",
      "40위 : Love wins all / 아이유 (IU)\n",
      "41위 : earthquake / 지수 (JISOO)\n",
      "42위 : Small girl (Feat. 도경수 (D.O.)) / 이영지\n",
      "43위 : 다시 만날 수 있을까 / 임영웅\n",
      "44위 : How Sweet / NewJeans\n",
      "45위 : 모래 알갱이 / 임영웅\n",
      "46위 : 사건의 지평선 / 윤하 (YOUNHA)\n",
      "47위 : I AM / IVE (아이브)\n",
      "48위 : Home / 임영웅\n",
      "49위 : 무지개 / 임영웅\n",
      "50위 : 온기 / 임영웅\n"
     ]
    }
   ],
   "source": [
    "# 필요한 라이브러리 임포트\n",
    "import requests as req  # 웹 페이지 요청을 위해 requests 라이브러리 사용\n",
    "from bs4 import BeautifulSoup as bs  # HTML 파싱을 위해 BeautifulSoup 사용\n",
    "\n",
    "# Genie Music의 Top 200 차트 페이지 URL\n",
    "url = \"https://www.genie.co.kr/chart/top200\"\n",
    "\n",
    "# 웹 요청 시 브라우저처럼 보이게 하기 위한 User-Agent 설정\n",
    "headers = {\n",
    "    'User-Agent': 'Mozilla/5.0 (Windows NT 10.0; Win64; x64) AppleWebKit/537.36 (KHTML, like Gecko) Chrome/133.0.0.0 Safari/537.36 Edg/133.0.0.0'\n",
    "}\n",
    "\n",
    "# URL로 GET 요청을 보내고 응답 데이터를 가져옴\n",
    "web = req.get(url, headers=headers)\n",
    "\n",
    "# 응답받은 HTML 데이터를 BeautifulSoup을 사용해 파싱\n",
    "soup = bs(web.content, 'html.parser')\n",
    "\n",
    "# 곡 제목이 포함된 HTML 요소들을 선택 (CSS 선택자 사용)\n",
    "title = soup.select('.info .title')\n",
    "\n",
    "# 아티스트 정보가 포함된 HTML 요소들을 선택\n",
    "artist = soup.select('.info .artist')\n",
    "\n",
    "# 제목과 아티스트를 순서대로 출력\n",
    "for i, (t, a) in enumerate(zip(title, artist), 1):  # zip으로 제목과 아티스트를 함께 묶음, enumerate로 순서를 1부터 시작\n",
    "    print(f'{i}위 : {t.text.strip()} / {a.text.strip()}')  # 곡 순위, 제목, 아티스트를 형식에 맞게 출력\n"
   ]
  },
  {
   "cell_type": "code",
   "execution_count": null,
   "id": "5743550e-b435-4ac0-bd05-aa8b1bca35df",
   "metadata": {},
   "outputs": [],
   "source": [
    "import requests as req\n",
    "from bs4 import BeautifulSoup as bs\n",
    "url = \"https://music.bugs.co.kr/chart\"\n",
    "headers = {'User-Agent':'Mozilla/5.0 (Windows NT 10.0; Win64; x64) AppleWebKit/537.36 (KHTML, like Gecko) Chrome/133.0.0.0 Safari/537.36 Edg/133.0.0.0'}\n",
    "web = req.get(url, headers = headers)\n",
    "soup = bs(web.content, 'html.parser')\n",
    "print(soup)"
   ]
  },
  {
   "cell_type": "code",
   "execution_count": 9,
   "id": "aa96e23e-253a-4cd8-b8e1-59594a140826",
   "metadata": {},
   "outputs": [
    {
     "name": "stdout",
     "output_type": "stream",
     "text": [
      "Collecting python-telegram-bot\n",
      "  Downloading python_telegram_bot-21.10-py3-none-any.whl.metadata (17 kB)\n",
      "Requirement already satisfied: httpx~=0.27 in c:\\users\\admin\\appdata\\local\\programs\\python\\python313\\lib\\site-packages (from python-telegram-bot) (0.28.1)\n",
      "Requirement already satisfied: anyio in c:\\users\\admin\\appdata\\local\\programs\\python\\python313\\lib\\site-packages (from httpx~=0.27->python-telegram-bot) (4.8.0)\n",
      "Requirement already satisfied: certifi in c:\\users\\admin\\appdata\\local\\programs\\python\\python313\\lib\\site-packages (from httpx~=0.27->python-telegram-bot) (2025.1.31)\n",
      "Requirement already satisfied: httpcore==1.* in c:\\users\\admin\\appdata\\local\\programs\\python\\python313\\lib\\site-packages (from httpx~=0.27->python-telegram-bot) (1.0.7)\n",
      "Requirement already satisfied: idna in c:\\users\\admin\\appdata\\local\\programs\\python\\python313\\lib\\site-packages (from httpx~=0.27->python-telegram-bot) (3.10)\n",
      "Requirement already satisfied: h11<0.15,>=0.13 in c:\\users\\admin\\appdata\\local\\programs\\python\\python313\\lib\\site-packages (from httpcore==1.*->httpx~=0.27->python-telegram-bot) (0.14.0)\n",
      "Requirement already satisfied: sniffio>=1.1 in c:\\users\\admin\\appdata\\local\\programs\\python\\python313\\lib\\site-packages (from anyio->httpx~=0.27->python-telegram-bot) (1.3.1)\n",
      "Downloading python_telegram_bot-21.10-py3-none-any.whl (669 kB)\n",
      "   ---------------------------------------- 0.0/669.5 kB ? eta -:--:--\n",
      "   --------------------------------------- 669.5/669.5 kB 28.6 MB/s eta 0:00:00\n",
      "Installing collected packages: python-telegram-bot\n",
      "Successfully installed python-telegram-bot-21.10\n"
     ]
    }
   ],
   "source": [
    "!pip install python-telegram-bot"
   ]
  },
  {
   "cell_type": "code",
   "execution_count": null,
   "id": "1f7b0937-d44f-46e7-8b3a-209a3c9eb66e",
   "metadata": {},
   "outputs": [],
   "source": [
    "import asyncio\n",
    "import nest_asyncio\n",
    "from dotenv import load_dotenv\n",
    "import os\n",
    "\n",
    "# 환경 변수 로드\n",
    "load_dotenv()\n",
    "\n",
    "# Telegram API 불러오기\n",
    "from telegram import Update\n",
    "from telegram.ext import Application, CommandHandler, MessageHandler, filters, CallbackContext\n",
    "\n",
    "# nest_asyncio 적용 (필요 시 사용)\n",
    "nest_asyncio.apply()\n",
    "\n",
    "# 토큰 가져오기\n",
    "TELEGRAM_TOKEN = os.getenv(\"TELEGRAM_TOKEN\")\n",
    "\n",
    "# /start 명령어 처리 함수\n",
    "async def start(update: Update, context: CallbackContext):\n",
    "    await context.bot.send_message(chat_id=update.effective_chat.id, text=\"봇이 가동되었습니다!\")\n",
    "\n",
    "# 일반 메시지 처리 함수\n",
    "async def handle_message(update: Update, context: CallbackContext):\n",
    "    user_message = update.message.text.lower()  # 소문자로 변환\n",
    "\n",
    "    if \"선생님\" in user_message:\n",
    "        response = \"수업 열심히 해봅시다!\"\n",
    "    elif \"안녕\" in user_message:\n",
    "        response = \"안녕하지 못해요.\"\n",
    "    elif \"rb\" in user_message:\n",
    "        response = \"🤖네 부르셨나요?\"\n",
    "    elif \"날씨\" in user_message:\n",
    "        response = \"오늘은 추워요 ~~\"\n",
    "    print(response)\n",
    "\n",
    "    # 응답 메시지 전송\n",
    "    await context.bot.send_message(chat_id=update.effective_chat.id, text=response)\n",
    "\n",
    "# 메인 함수\n",
    "async def main():\n",
    "    # Application 객체 생성\n",
    "    application = Application.builder().token(TELEGRAM_TOKEN).build()\n",
    "\n",
    "    # 초기화 필수\n",
    "    await application.initialize()\n",
    "\n",
    "    # 핸들러 추가\n",
    "    application.add_handler(CommandHandler(\"start\", start))\n",
    "    application.add_handler(MessageHandler(filters.TEXT & ~filters.COMMAND, handle_message))\n",
    "\n",
    "    # 봇 시작\n",
    "    await application.start()\n",
    "    print(\"봇이 실행 중입니다.\")\n",
    "\n",
    "    # Polling 시작\n",
    "    await application.run_polling()\n",
    "\n",
    "if __name__ == \"__main__\":\n",
    "    asyncio.run(main())"
   ]
  },
  {
   "cell_type": "code",
   "execution_count": 35,
   "id": "c75ce44c-f615-42d8-a1a7-f4c1587257b4",
   "metadata": {},
   "outputs": [
    {
     "name": "stdout",
     "output_type": "stream",
     "text": [
      "□  (종합) 대기 매우 건조, 기온 낮아 춥겠음, 강풍 및 풍랑 유의\n",
      "○  (오늘~내일, 21~22일) 대체로 맑음\n",
      "○  (모레, 23일) 대체로 맑겠으나, 경남서부내륙 가끔 구름많음\n",
      "○  (글피, 24일) 대체로 맑음\n"
     ]
    }
   ],
   "source": [
    "import requests as req\n",
    "from bs4 import BeautifulSoup as bs #\n",
    "url = \"https://www.weather.go.kr/w/weather/forecast/short-term.do?stnId=159\"\n",
    "web = req.get(url)\n",
    "soup = bs(web. content,'html.parser' )\n",
    "summary = soup.select('p.summary' ) #\n",
    "for s in summary:\n",
    "    print(s.text.replace('○','\\n○'))"
   ]
  },
  {
   "cell_type": "code",
   "execution_count": 36,
   "id": "2eb304e7-0176-4f70-818a-03adfd1e07f6",
   "metadata": {},
   "outputs": [
    {
     "name": "stdout",
     "output_type": "stream",
     "text": [
      "('예보요소:최고기온', '/최저기온')\n",
      "평년(오늘):-5.1 ~ 2.1/9.0 ~ 11.7\n",
      "어제(20일):-9.7 ~ -2.0/4.4 ~ 8.8\n",
      "오늘(21일):-9.0 ~ -1.6/3 ~ 7\n",
      "내일(22일):-7 ~ -3/4 ~ 7\n",
      "모레(23일):-8 ~ -3/1 ~ 5\n",
      "글피(24일):-9 ~ -4/5 ~ 8\n"
     ]
    }
   ],
   "source": [
    "table = soup.select('.table-col' )[0]\n",
    "data = table.select('tr')\n",
    "header = data[0].select('th')\n",
    "line1 = ['최고기온'] + data[1].select('td')\n",
    "line2 = ['최저기온'] + data[2].select('td')\n",
    "raw_data = []\n",
    "for q,w,e in zip(header, line1, line2):\n",
    "    try:\n",
    "        out = q.text + ':' + w.text + '/'+ e.text\n",
    "    except:\n",
    "        out = q.text + ':' + w, '/' + e\n",
    "    finally:\n",
    "        print(out)\n",
    "        raw_data.append(out)"
   ]
  },
  {
   "cell_type": "code",
   "execution_count": 33,
   "id": "8186d916-d3e8-4e8e-8b0e-4d0d80c06a65",
   "metadata": {},
   "outputs": [],
   "source": [
    "import pandas as pd\n",
    "# 데이터 파싱\n",
    "parsed_data=[]\n",
    "for entry in raw_data[1:]:\n",
    "    date, temps = entry. split(':')\n",
    "    low_temp , high_temp = temps.split('/')\n",
    "    parsed_data.append([date.strip(),low_temp.strip(),high_temp.strip()])\n",
    "# 데이터프레임 생성\n",
    "df = pd.DataFrame(parsed_data,columns=[\"날짜\",\"최저기온\", \"최고기온\"])\n",
    "# df.to_csv('weather_x.csv', index=False, encoding='utf-8')\n",
    "df.to_csv('weather_x.csv', index=False, encoding='utf-8-sig')"
   ]
  },
  {
   "cell_type": "code",
   "execution_count": null,
   "id": "7d2a7f3d-abd3-4931-9f5c-3056ca9d80ac",
   "metadata": {},
   "outputs": [],
   "source": [
    "!pip install pandas"
   ]
  },
  {
   "cell_type": "code",
   "execution_count": 34,
   "id": "5cc24925-01f8-4cd8-aec0-aa0fafcd9f99",
   "metadata": {},
   "outputs": [
    {
     "data": {
      "text/html": [
       "<div>\n",
       "<style scoped>\n",
       "    .dataframe tbody tr th:only-of-type {\n",
       "        vertical-align: middle;\n",
       "    }\n",
       "\n",
       "    .dataframe tbody tr th {\n",
       "        vertical-align: top;\n",
       "    }\n",
       "\n",
       "    .dataframe thead th {\n",
       "        text-align: right;\n",
       "    }\n",
       "</style>\n",
       "<table border=\"1\" class=\"dataframe\">\n",
       "  <thead>\n",
       "    <tr style=\"text-align: right;\">\n",
       "      <th></th>\n",
       "      <th>날짜</th>\n",
       "      <th>최저기온</th>\n",
       "      <th>최고기온</th>\n",
       "    </tr>\n",
       "  </thead>\n",
       "  <tbody>\n",
       "    <tr>\n",
       "      <th>0</th>\n",
       "      <td>평년(오늘)</td>\n",
       "      <td>-5.1 ~ 2.1</td>\n",
       "      <td>9.0 ~ 11.7</td>\n",
       "    </tr>\n",
       "    <tr>\n",
       "      <th>1</th>\n",
       "      <td>어제(20일)</td>\n",
       "      <td>-9.7 ~ -2.0</td>\n",
       "      <td>4.4 ~ 8.8</td>\n",
       "    </tr>\n",
       "    <tr>\n",
       "      <th>2</th>\n",
       "      <td>오늘(21일)</td>\n",
       "      <td>-</td>\n",
       "      <td>3 ~ 7</td>\n",
       "    </tr>\n",
       "    <tr>\n",
       "      <th>3</th>\n",
       "      <td>내일(22일)</td>\n",
       "      <td>-7 ~ -3</td>\n",
       "      <td>4 ~ 7</td>\n",
       "    </tr>\n",
       "    <tr>\n",
       "      <th>4</th>\n",
       "      <td>모레(23일)</td>\n",
       "      <td>-8 ~ -3</td>\n",
       "      <td>1 ~ 5</td>\n",
       "    </tr>\n",
       "    <tr>\n",
       "      <th>5</th>\n",
       "      <td>글피(24일)</td>\n",
       "      <td>-9 ~ -4</td>\n",
       "      <td>5 ~ 8</td>\n",
       "    </tr>\n",
       "  </tbody>\n",
       "</table>\n",
       "</div>"
      ],
      "text/plain": [
       "        날짜         최저기온        최고기온\n",
       "0   평년(오늘)   -5.1 ~ 2.1  9.0 ~ 11.7\n",
       "1  어제(20일)  -9.7 ~ -2.0   4.4 ~ 8.8\n",
       "2  오늘(21일)            -       3 ~ 7\n",
       "3  내일(22일)      -7 ~ -3       4 ~ 7\n",
       "4  모레(23일)      -8 ~ -3       1 ~ 5\n",
       "5  글피(24일)      -9 ~ -4       5 ~ 8"
      ]
     },
     "execution_count": 34,
     "metadata": {},
     "output_type": "execute_result"
    }
   ],
   "source": [
    "df = pd. DataFrame([entry.split(':')[0].strip(), *entry.split(':')[1].strip().split('/')] for entry in raw_data[1:])\n",
    "df.columns=[\"날짜\",\"최저기온\", \"최고기온\"]\n",
    "df"
   ]
  },
  {
   "cell_type": "code",
   "execution_count": null,
   "id": "d3bd18c6-1f52-47c4-ae9a-731c56a391e1",
   "metadata": {},
   "outputs": [],
   "source": []
  }
 ],
 "metadata": {
  "kernelspec": {
   "display_name": "Python 3 (ipykernel)",
   "language": "python",
   "name": "python3"
  },
  "language_info": {
   "codemirror_mode": {
    "name": "ipython",
    "version": 3
   },
   "file_extension": ".py",
   "mimetype": "text/x-python",
   "name": "python",
   "nbconvert_exporter": "python",
   "pygments_lexer": "ipython3",
   "version": "3.13.1"
  }
 },
 "nbformat": 4,
 "nbformat_minor": 5
}
